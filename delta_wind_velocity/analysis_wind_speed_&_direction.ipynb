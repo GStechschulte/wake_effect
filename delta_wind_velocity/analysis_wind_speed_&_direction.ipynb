{
 "cells": [
  {
   "cell_type": "code",
   "execution_count": 44,
   "metadata": {},
   "outputs": [
    {
     "data": {
      "text/plain": [
       "'C:\\\\Users\\\\regis\\\\OneDrive\\\\Dokumente\\\\GitHub\\\\wake_effect\\\\delta_wind_velocity'"
      ]
     },
     "execution_count": 44,
     "metadata": {},
     "output_type": "execute_result"
    }
   ],
   "source": [
    "import os\n",
    "import pandas as pd\n",
    "import numpy as np\n",
    "import matplotlib.pyplot as plt\n",
    "os.getcwd()"
   ]
  },
  {
   "cell_type": "code",
   "execution_count": 45,
   "metadata": {},
   "outputs": [
    {
     "data": {
      "text/html": [
       "<div>\n",
       "<style scoped>\n",
       "    .dataframe tbody tr th:only-of-type {\n",
       "        vertical-align: middle;\n",
       "    }\n",
       "\n",
       "    .dataframe tbody tr th {\n",
       "        vertical-align: top;\n",
       "    }\n",
       "\n",
       "    .dataframe thead th {\n",
       "        text-align: right;\n",
       "    }\n",
       "</style>\n",
       "<table border=\"1\" class=\"dataframe\">\n",
       "  <thead>\n",
       "    <tr style=\"text-align: right;\">\n",
       "      <th></th>\n",
       "      <th>Unnamed: 0</th>\n",
       "      <th>10.0</th>\n",
       "      <th>40.0</th>\n",
       "      <th>60.0</th>\n",
       "      <th>80.0</th>\n",
       "      <th>100.0</th>\n",
       "    </tr>\n",
       "  </thead>\n",
       "  <tbody>\n",
       "    <tr>\n",
       "      <th>0</th>\n",
       "      <td>2013-08-01 00:00:00</td>\n",
       "      <td>NaN</td>\n",
       "      <td>NaN</td>\n",
       "      <td>129.7</td>\n",
       "      <td>110.8</td>\n",
       "      <td>113.0</td>\n",
       "    </tr>\n",
       "    <tr>\n",
       "      <th>1</th>\n",
       "      <td>2013-08-01 00:10:00</td>\n",
       "      <td>NaN</td>\n",
       "      <td>NaN</td>\n",
       "      <td>111.9</td>\n",
       "      <td>113.0</td>\n",
       "      <td>115.5</td>\n",
       "    </tr>\n",
       "    <tr>\n",
       "      <th>2</th>\n",
       "      <td>2013-08-01 00:20:00</td>\n",
       "      <td>NaN</td>\n",
       "      <td>NaN</td>\n",
       "      <td>116.3</td>\n",
       "      <td>110.2</td>\n",
       "      <td>112.2</td>\n",
       "    </tr>\n",
       "    <tr>\n",
       "      <th>3</th>\n",
       "      <td>2013-08-01 00:30:00</td>\n",
       "      <td>NaN</td>\n",
       "      <td>NaN</td>\n",
       "      <td>115.2</td>\n",
       "      <td>112.6</td>\n",
       "      <td>115.9</td>\n",
       "    </tr>\n",
       "  </tbody>\n",
       "</table>\n",
       "</div>"
      ],
      "text/plain": [
       "            Unnamed: 0  10.0  40.0   60.0   80.0  100.0\n",
       "0  2013-08-01 00:00:00   NaN   NaN  129.7  110.8  113.0\n",
       "1  2013-08-01 00:10:00   NaN   NaN  111.9  113.0  115.5\n",
       "2  2013-08-01 00:20:00   NaN   NaN  116.3  110.2  112.2\n",
       "3  2013-08-01 00:30:00   NaN   NaN  115.2  112.6  115.9"
      ]
     },
     "execution_count": 45,
     "metadata": {},
     "output_type": "execute_result"
    }
   ],
   "source": [
    "# load data - two data frames\n",
    "wind_dir = pd.read_csv('C:/Users/regis/OneDrive/Dokumente/GitHub/wake_effect/data/Wind_direction.csv')\n",
    "wind_v = pd.read_csv('C:/Users/regis/OneDrive/Dokumente/GitHub/wake_effect/data/Windfarm.csv')\n",
    "wind_dir.head(4)"
   ]
  },
  {
   "cell_type": "code",
   "execution_count": 47,
   "metadata": {},
   "outputs": [],
   "source": [
    "# merge two dataframes\n",
    "df = wind_dir.merge(wind_v, left_on='Unnamed: 0', right_on='Unnamed: 0')"
   ]
  },
  {
   "cell_type": "code",
   "execution_count": 48,
   "metadata": {},
   "outputs": [
    {
     "data": {
      "text/html": [
       "<div>\n",
       "<style scoped>\n",
       "    .dataframe tbody tr th:only-of-type {\n",
       "        vertical-align: middle;\n",
       "    }\n",
       "\n",
       "    .dataframe tbody tr th {\n",
       "        vertical-align: top;\n",
       "    }\n",
       "\n",
       "    .dataframe thead th {\n",
       "        text-align: right;\n",
       "    }\n",
       "</style>\n",
       "<table border=\"1\" class=\"dataframe\">\n",
       "  <thead>\n",
       "    <tr style=\"text-align: right;\">\n",
       "      <th></th>\n",
       "      <th>Unnamed: 0</th>\n",
       "      <th>eighty</th>\n",
       "      <th>hundred</th>\n",
       "      <th>WTG1</th>\n",
       "      <th>WTG2</th>\n",
       "      <th>WTG3</th>\n",
       "      <th>WTG4</th>\n",
       "      <th>WTG5</th>\n",
       "      <th>WTG6</th>\n",
       "      <th>WTG7</th>\n",
       "      <th>...</th>\n",
       "      <th>WTG24</th>\n",
       "      <th>WTG25</th>\n",
       "      <th>WTG26</th>\n",
       "      <th>WTG27</th>\n",
       "      <th>WTG28</th>\n",
       "      <th>WTG29</th>\n",
       "      <th>WTG30</th>\n",
       "      <th>WTG31</th>\n",
       "      <th>WTG32</th>\n",
       "      <th>wind_dir</th>\n",
       "    </tr>\n",
       "  </thead>\n",
       "  <tbody>\n",
       "    <tr>\n",
       "      <th>0</th>\n",
       "      <td>2013-08-01 00:00:00</td>\n",
       "      <td>111.0</td>\n",
       "      <td>113.0</td>\n",
       "      <td>11.3</td>\n",
       "      <td>12.4</td>\n",
       "      <td>10.4</td>\n",
       "      <td>9.8</td>\n",
       "      <td>9.9</td>\n",
       "      <td>10.5</td>\n",
       "      <td>11.4</td>\n",
       "      <td>...</td>\n",
       "      <td>12.5</td>\n",
       "      <td>12.2</td>\n",
       "      <td>12.6</td>\n",
       "      <td>12.5</td>\n",
       "      <td>12.8</td>\n",
       "      <td>13.8</td>\n",
       "      <td>12.9</td>\n",
       "      <td>12.4</td>\n",
       "      <td>8.9</td>\n",
       "      <td>111.9</td>\n",
       "    </tr>\n",
       "    <tr>\n",
       "      <th>1</th>\n",
       "      <td>2013-08-01 00:10:00</td>\n",
       "      <td>113.0</td>\n",
       "      <td>116.0</td>\n",
       "      <td>11.6</td>\n",
       "      <td>11.9</td>\n",
       "      <td>10.4</td>\n",
       "      <td>10.7</td>\n",
       "      <td>10.6</td>\n",
       "      <td>10.7</td>\n",
       "      <td>12.0</td>\n",
       "      <td>...</td>\n",
       "      <td>13.0</td>\n",
       "      <td>12.5</td>\n",
       "      <td>14.4</td>\n",
       "      <td>12.4</td>\n",
       "      <td>12.8</td>\n",
       "      <td>13.4</td>\n",
       "      <td>13.1</td>\n",
       "      <td>13.2</td>\n",
       "      <td>9.8</td>\n",
       "      <td>114.2</td>\n",
       "    </tr>\n",
       "    <tr>\n",
       "      <th>2</th>\n",
       "      <td>2013-08-01 00:20:00</td>\n",
       "      <td>110.0</td>\n",
       "      <td>112.0</td>\n",
       "      <td>11.8</td>\n",
       "      <td>12.5</td>\n",
       "      <td>10.8</td>\n",
       "      <td>10.6</td>\n",
       "      <td>10.4</td>\n",
       "      <td>10.5</td>\n",
       "      <td>11.9</td>\n",
       "      <td>...</td>\n",
       "      <td>12.1</td>\n",
       "      <td>11.7</td>\n",
       "      <td>12.2</td>\n",
       "      <td>12.0</td>\n",
       "      <td>12.2</td>\n",
       "      <td>13.2</td>\n",
       "      <td>12.4</td>\n",
       "      <td>12.3</td>\n",
       "      <td>8.7</td>\n",
       "      <td>111.2</td>\n",
       "    </tr>\n",
       "    <tr>\n",
       "      <th>3</th>\n",
       "      <td>2013-08-01 00:30:00</td>\n",
       "      <td>113.0</td>\n",
       "      <td>116.0</td>\n",
       "      <td>11.7</td>\n",
       "      <td>11.6</td>\n",
       "      <td>10.6</td>\n",
       "      <td>10.4</td>\n",
       "      <td>10.1</td>\n",
       "      <td>10.3</td>\n",
       "      <td>11.7</td>\n",
       "      <td>...</td>\n",
       "      <td>13.2</td>\n",
       "      <td>10.9</td>\n",
       "      <td>12.4</td>\n",
       "      <td>12.3</td>\n",
       "      <td>12.3</td>\n",
       "      <td>12.4</td>\n",
       "      <td>11.8</td>\n",
       "      <td>10.5</td>\n",
       "      <td>8.6</td>\n",
       "      <td>114.2</td>\n",
       "    </tr>\n",
       "  </tbody>\n",
       "</table>\n",
       "<p>4 rows × 36 columns</p>\n",
       "</div>"
      ],
      "text/plain": [
       "            Unnamed: 0  eighty  hundred  WTG1  WTG2  WTG3  WTG4  WTG5  WTG6  \\\n",
       "0  2013-08-01 00:00:00   111.0    113.0  11.3  12.4  10.4   9.8   9.9  10.5   \n",
       "1  2013-08-01 00:10:00   113.0    116.0  11.6  11.9  10.4  10.7  10.6  10.7   \n",
       "2  2013-08-01 00:20:00   110.0    112.0  11.8  12.5  10.8  10.6  10.4  10.5   \n",
       "3  2013-08-01 00:30:00   113.0    116.0  11.7  11.6  10.6  10.4  10.1  10.3   \n",
       "\n",
       "   WTG7  ...  WTG24  WTG25  WTG26  WTG27  WTG28  WTG29  WTG30  WTG31  WTG32  \\\n",
       "0  11.4  ...   12.5   12.2   12.6   12.5   12.8   13.8   12.9   12.4    8.9   \n",
       "1  12.0  ...   13.0   12.5   14.4   12.4   12.8   13.4   13.1   13.2    9.8   \n",
       "2  11.9  ...   12.1   11.7   12.2   12.0   12.2   13.2   12.4   12.3    8.7   \n",
       "3  11.7  ...   13.2   10.9   12.4   12.3   12.3   12.4   11.8   10.5    8.6   \n",
       "\n",
       "   wind_dir  \n",
       "0     111.9  \n",
       "1     114.2  \n",
       "2     111.2  \n",
       "3     114.2  \n",
       "\n",
       "[4 rows x 36 columns]"
      ]
     },
     "execution_count": 48,
     "metadata": {},
     "output_type": "execute_result"
    }
   ],
   "source": [
    "# Wind Direction Analysis\n",
    "\n",
    "# Drop columns with inconsistent wind_dir records\n",
    "# Get mean wind direction per angle, between average of 80.0 and 100.0. Group wind_dir by steps of 10.\n",
    "# Rename numerical titles\n",
    "df1 = df.drop(columns = ['10.0'])\n",
    "df1 = df1.drop(columns = ['40.0'])\n",
    "df1 = df1.drop(columns = ['60.0'])\n",
    "df1['wind_dir'] = ((df1['80.0'] + df1['100.0'])/2).round(1)\n",
    "df1['80.0'] = df1['80.0'].round(0)\n",
    "df1['100.0'] = df1['100.0'].round(0)\n",
    "df1 = df1.rename(columns={'80.0': 'eighty', '100.0': 'hundred'})\n",
    "df1.head(4)"
   ]
  },
  {
   "cell_type": "code",
   "execution_count": 20,
   "metadata": {},
   "outputs": [],
   "source": [
    "# count amount of entries per angle for 80m wind direction\n",
    "# same for 100m wind direction\n",
    "df_eighty = pd.DataFrame()\n",
    "df_eighty['eighty'] = df1['eighty']\n",
    "df_eighty['count_rows'] = df1.groupby(['eighty'])['eighty'].transform('count')\n",
    "df_eighty = df_eighty.drop_duplicates(subset=None, keep='first', inplace=False, ignore_index=False)\n",
    "#df_eighty = df_eighty.sort_values(['eighty'])\n",
    "#df_eighty.loc[df_eighty['eighty'] == 100]\n",
    "\n",
    "df_hundred = pd.DataFrame()\n",
    "df_hundred['hundred'] = df1['hundred']\n",
    "df_hundred['count_rows'] = df1.groupby(['hundred'])['hundred'].transform('count')\n",
    "df_hundred = df_hundred.drop_duplicates(subset=None, keep='first', inplace=False, ignore_index=False)\n",
    "#df_hundred = df_hundred.sort_values(['hundred'])\n",
    "#df_hundred.loc[df_hundred['hundred'] == 100]"
   ]
  },
  {
   "cell_type": "code",
   "execution_count": 21,
   "metadata": {},
   "outputs": [
    {
     "data": {
      "image/png": "[encoded data removed]",
      "text/plain": [
       "<Figure size 1152x288 with 1 Axes>"
      ]
     },
     "metadata": {
      "needs_background": "light"
     },
     "output_type": "display_data"
    }
   ],
   "source": [
    "# create bar plot of amount of entries of wind_dir at 80m\n",
    "wind_dir = df_eighty['eighty']\n",
    "amount = df_eighty['count_rows']\n",
    " \n",
    "# Figure Size\n",
    "fig = plt.figure()\n",
    "plt.bar(wind_dir, amount)\n",
    "fig.set_size_inches(16, 4)\n",
    "\n",
    "#fig.savefig('\\\\Users\\\\regis\\\\OneDrive\\\\Desktop\\\\figure.pdf')\n",
    "plt.show()\n"
   ]
  },
  {
   "cell_type": "code",
   "execution_count": 7,
   "metadata": {},
   "outputs": [
    {
     "data": {
      "image/png": "[encoded data removed]",
      "text/plain": [
       "<Figure size 1152x288 with 1 Axes>"
      ]
     },
     "metadata": {
      "needs_background": "light"
     },
     "output_type": "display_data"
    }
   ],
   "source": [
    "# create bar plot of amount of entries of wind_dir at 1000m\n",
    "wind_dir = df_hundred['hundred']\n",
    "amount = df_hundred['count_rows']\n",
    " \n",
    "# Figure Size\n",
    "fig = plt.figure()\n",
    "plt.bar(wind_dir, amount)\n",
    "fig.set_size_inches(16, 4)\n",
    "plt.show()"
   ]
  },
  {
   "cell_type": "code",
   "execution_count": 40,
   "metadata": {},
   "outputs": [
    {
     "data": {
      "image/png": "[encoded data removed]",
      "text/plain": [
       "<Figure size 1152x288 with 1 Axes>"
      ]
     },
     "metadata": {
      "needs_background": "light"
     },
     "output_type": "display_data"
    }
   ],
   "source": [
    "# plot EIGHTY (!one decimal)\n",
    "\n",
    "df_h = df.drop(columns = ['10.0'])\n",
    "df_h = df_h.drop(columns = ['40.0'])\n",
    "df_h = df_h.drop(columns = ['60.0'])\n",
    "df_h['80.0'] = df_h['80.0'].round(1)\n",
    "df_h = df_h.rename(columns={'80.0': 'eighty', '100.0': 'hundred'})\n",
    "\n",
    "df_eighty2 = pd.DataFrame()\n",
    "df_eighty2['eighty'] = df_h['eighty']\n",
    "df_eighty2['count_rows'] = df_h.groupby(['eighty'])['eighty'].transform('count')\n",
    "df_eighty2 = df_eighty2.drop_duplicates(subset=None, keep='first', inplace=False, ignore_index=False)\n",
    "#df_eighty2 = df_eighty2.sort_values(['eighty'])\n",
    "\n",
    "# create bar plot of amount of entries of wind_dir at 80m\n",
    "wind_dir = df_eighty2['eighty']\n",
    "amount = df_eighty2['count_rows']\n",
    " \n",
    "# Figure Size\n",
    "fig = plt.figure()\n",
    "plt.bar(wind_dir, amount)\n",
    "fig.set_size_inches(16, 4)\n",
    "plt.show()"
   ]
  },
  {
   "cell_type": "code",
   "execution_count": 51,
   "metadata": {},
   "outputs": [
    {
     "data": {
      "image/png": "[encoded data removed]",
      "text/plain": [
       "<Figure size 1152x288 with 1 Axes>"
      ]
     },
     "metadata": {
      "needs_background": "light"
     },
     "output_type": "display_data"
    }
   ],
   "source": [
    "# plot WIND_DIR\n",
    "df_w = pd.DataFrame()\n",
    "df_w['wind_dir'] = df1['wind_dir']\n",
    "df_w['count_rows'] = df1.groupby(['wind_dir'])['wind_dir'].transform('count')\n",
    "df_w = df_w.drop_duplicates(subset=None, keep='first', inplace=False, ignore_index=False)\n",
    "\n",
    "wind_dir = df_w['wind_dir']\n",
    "amount = df_w['count_rows']\n",
    " \n",
    "# Figure Size\n",
    "fig = plt.figure()\n",
    "plt.bar(wind_dir, amount)\n",
    "fig.set_size_inches(16, 4)\n",
    "plt.show()"
   ]
  },
  {
   "cell_type": "code",
   "execution_count": null,
   "metadata": {},
   "outputs": [],
   "source": [
    "# Wind Speed Analysis\n",
    "\n",
    "df.head(4)"
   ]
  },
  {
   "cell_type": "code",
   "execution_count": null,
   "metadata": {},
   "outputs": [],
   "source": [
    "# thoughts about delay in data due to wind travel distances"
   ]
  }
 ],
 "metadata": {
  "kernelspec": {
   "display_name": "Python 3",
   "language": "python",
   "name": "python3"
  },
  "language_info": {
   "codemirror_mode": {
    "name": "ipython",
    "version": 3
   },
   "file_extension": ".py",
   "mimetype": "text/x-python",
   "name": "python",
   "nbconvert_exporter": "python",
   "pygments_lexer": "ipython3",
   "version": "3.8.3"
  }
 },
 "nbformat": 4,
 "nbformat_minor": 4
}
