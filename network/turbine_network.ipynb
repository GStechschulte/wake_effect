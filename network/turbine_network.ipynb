{
 "cells": [
  {
   "cell_type": "code",
   "execution_count": 2,
   "metadata": {},
   "outputs": [],
   "source": [
    "import numpy as np\n",
    "import pandas as pd\n",
    "from scipy.spatial import distance\n",
    "import seaborn as sns\n",
    "import matplotlib.pyplot as plt\n",
    "import pathpy as pp"
   ]
  },
  {
   "cell_type": "code",
   "execution_count": 11,
   "metadata": {},
   "outputs": [],
   "source": [
    "haver_interaction = pd.read_csv('/Users/wastechs/Documents/git-repos/wake_effect/data/haversine_interaction.csv')\n",
    "euclid_interaction = pd.read_csv('/Users/wastechs/Documents/git-repos/wake_effect/data/euclid_interaction.csv')\n",
    "#coord = pd.read_csv('/Users/wastechs/Documents/git-repos/wake_effect/data/Pos_WTG_Brasil.csv')"
   ]
  },
  {
   "cell_type": "code",
   "execution_count": 12,
   "metadata": {},
   "outputs": [],
   "source": [
    "haver_interaction.set_index('Unnamed: 0', inplace=True)\n",
    "euclid_interaction.set_index('Unnamed: 0', inplace=True)"
   ]
  },
  {
   "cell_type": "markdown",
   "metadata": {},
   "source": [
    "## Building the Network\n",
    "\n",
    "if 1 then .add_edge between the two nodes (turbines) else nothing"
   ]
  },
  {
   "cell_type": "code",
   "execution_count": 22,
   "metadata": {},
   "outputs": [],
   "source": [
    "haver_graph = pp.Network(directed=True)"
   ]
  },
  {
   "cell_type": "code",
   "execution_count": 23,
   "metadata": {},
   "outputs": [
    {
     "name": "stdout",
     "output_type": "stream",
     "text": [
      "1089\n"
     ]
    }
   ],
   "source": [
    "cnt = 0\n",
    "\n",
    "for row in range(0, 33):\n",
    "    for turb1 in haver_interaction.iloc[[row]].index:\n",
    "        for int, adj_turb in zip(haver_interaction.values[row], haver_interaction.columns):\n",
    "            cnt += 1\n",
    "            if int == 1:\n",
    "                haver_graph.add_edge(turb1, adj_turb)\n",
    "            else:\n",
    "                pass\n",
    "\n",
    "print(cnt)"
   ]
  },
  {
   "cell_type": "code",
   "execution_count": 24,
   "metadata": {},
   "outputs": [
    {
     "data": {
      "text/html": [
       "<style>\n",
       "    text.label_chKxAtao {\n",
       "        text-anchor: middle;\n",
       "        font-size: 8px;\n",
       "        font-family: Arial, Helvetica, sans-serif;\n",
       "        fill: #999999;\n",
       "        stroke: #ffffff;\n",
       "        stroke-width: 0.1px;\n",
       "        opacity: 1.0;\n",
       "    }\n",
       "    .links_chKxAtao line {\n",
       "    stroke-opacity: 1.0;\n",
       "    }\n",
       "    .arrows svg:path {\n",
       "        stroke: #666;\n",
       "    }\n",
       "    .nodes_chKxAtao circle {\n",
       "    stroke: #fff;\n",
       "    stroke-width: 0.5px;\n",
       "    }\n",
       "</style>\n",
       "\n",
       "<svg width=\"400\" height=\"400\" id=\"chKxAtao\">        \n",
       "    <text x=\"20\" y=\"20\" font-family=\"sans-serif\" font-size=\"14px\" fill=\"#666\" style=\"cursor: pointer\"\n",
       "        id='chKxAtao_svg_txt'>[save svg]</text>\n",
       "</svg>\n",
       "\n",
       "<script charset=\"utf-8\" src=\"https://d3js.org/d3.v4.min.js\"></script>\n",
       "<script charset=\"utf-8\">\n",
       "\n",
       "// Load via requireJS if available (jupyter notebook environment)\n",
       "try {\n",
       "    // Problem: require.config will raise an exception when called for the second time \n",
       "    require.config({\n",
       "        paths: {\n",
       "            //d3: \"https://d3js.org/d3.v4.min\"\n",
       "            d3: \"https://d3js.org/d3.v4.min.js\".replace(\".js\", \"\")\n",
       "        }\n",
       "    });\n",
       "    console.log(\"Detected requireJS\");\n",
       "}\n",
       "catch(err){\n",
       "    // a reference error indicates that requireJS does not exist. \n",
       "    // other errors may occur due to multiple calls to config\n",
       "    if (err instanceof ReferenceError){\n",
       "        console.log(\"Detected no requireJS\");\n",
       "\n",
       "        // Helper function that waits for d3js to be loaded\n",
       "        require = function require(symbols, callback) {\n",
       "            var ms = 5;\n",
       "            window.setTimeout(function(t) {\n",
       "                if (window[symbols[0]])\n",
       "                    callback(window[symbols[0]]);\n",
       "                else \n",
       "                    window.setTimeout(arguments.callee, ms);\n",
       "            }, ms);\n",
       "        }\n",
       "    }\n",
       "}\n",
       "\n",
       "// wait until d3js has been loaded\n",
       "require([\"d3\"], function(d3) {\n",
       "    var svg = d3.select(\"#\"+\"chKxAtao\"), radius = 6, width = +svg.attr(\"width\"), height = +svg.attr(\"height\");\n",
       "\n",
       "    var color = d3.scaleOrdinal(d3.schemeCategory20);\n",
       "\n",
       "    var graph = {\"links\": [{\"source\": \"W01\", \"target\": \"TOR\", \"color\": \"#999999\", \"width\": 0.5, \"weight\": 0.1}, {\"source\": \"W02\", \"target\": \"TOR\", \"color\": \"#999999\", \"width\": 0.5, \"weight\": 0.1}, {\"source\": \"W03\", \"target\": \"TOR\", \"color\": \"#999999\", \"width\": 0.5, \"weight\": 0.1}, {\"source\": \"W04\", \"target\": \"TOR\", \"color\": \"#999999\", \"width\": 0.5, \"weight\": 0.1}, {\"source\": \"W05\", \"target\": \"TOR\", \"color\": \"#999999\", \"width\": 0.5, \"weight\": 0.1}, {\"source\": \"W06\", \"target\": \"TOR\", \"color\": \"#999999\", \"width\": 0.5, \"weight\": 0.1}, {\"source\": \"W07\", \"target\": \"W03\", \"color\": \"#999999\", \"width\": 0.5, \"weight\": 0.1}, {\"source\": \"W07\", \"target\": \"W05\", \"color\": \"#999999\", \"width\": 0.5, \"weight\": 0.1}, {\"source\": \"W08\", \"target\": \"TOR\", \"color\": \"#999999\", \"width\": 0.5, \"weight\": 0.1}, {\"source\": \"W09\", \"target\": \"W03\", \"color\": \"#999999\", \"width\": 0.5, \"weight\": 0.1}, {\"source\": \"W09\", \"target\": \"W05\", \"color\": \"#999999\", \"width\": 0.5, \"weight\": 0.1}, {\"source\": \"W10\", \"target\": \"TOR\", \"color\": \"#999999\", \"width\": 0.5, \"weight\": 0.1}, {\"source\": \"W11\", \"target\": \"W02\", \"color\": \"#999999\", \"width\": 0.5, \"weight\": 0.1}, {\"source\": \"W11\", \"target\": \"W03\", \"color\": \"#999999\", \"width\": 0.5, \"weight\": 0.1}, {\"source\": \"W11\", \"target\": \"W04\", \"color\": \"#999999\", \"width\": 0.5, \"weight\": 0.1}, {\"source\": \"W11\", \"target\": \"W05\", \"color\": \"#999999\", \"width\": 0.5, \"weight\": 0.1}, {\"source\": \"W11\", \"target\": \"W06\", \"color\": \"#999999\", \"width\": 0.5, \"weight\": 0.1}, {\"source\": \"W12\", \"target\": \"W02\", \"color\": \"#999999\", \"width\": 0.5, \"weight\": 0.1}, {\"source\": \"W12\", \"target\": \"W03\", \"color\": \"#999999\", \"width\": 0.5, \"weight\": 0.1}, {\"source\": \"W12\", \"target\": \"W04\", \"color\": \"#999999\", \"width\": 0.5, \"weight\": 0.1}, {\"source\": \"W12\", \"target\": \"W05\", \"color\": \"#999999\", \"width\": 0.5, \"weight\": 0.1}, {\"source\": \"W12\", \"target\": \"W06\", \"color\": \"#999999\", \"width\": 0.5, \"weight\": 0.1}, {\"source\": \"W12\", \"target\": \"W08\", \"color\": \"#999999\", \"width\": 0.5, \"weight\": 0.1}, {\"source\": \"W12\", \"target\": \"W10\", \"color\": \"#999999\", \"width\": 0.5, \"weight\": 0.1}, {\"source\": \"W13\", \"target\": \"W01\", \"color\": \"#999999\", \"width\": 0.5, \"weight\": 0.1}, {\"source\": \"W13\", \"target\": \"W02\", \"color\": \"#999999\", \"width\": 0.5, \"weight\": 0.1}, {\"source\": \"W13\", \"target\": \"W03\", \"color\": \"#999999\", \"width\": 0.5, \"weight\": 0.1}, {\"source\": \"W13\", \"target\": \"W04\", \"color\": \"#999999\", \"width\": 0.5, \"weight\": 0.1}, {\"source\": \"W13\", \"target\": \"W05\", \"color\": \"#999999\", \"width\": 0.5, \"weight\": 0.1}, {\"source\": \"W13\", \"target\": \"W06\", \"color\": \"#999999\", \"width\": 0.5, \"weight\": 0.1}, {\"source\": \"W13\", \"target\": \"W08\", \"color\": \"#999999\", \"width\": 0.5, \"weight\": 0.1}, {\"source\": \"W13\", \"target\": \"W10\", \"color\": \"#999999\", \"width\": 0.5, \"weight\": 0.1}, {\"source\": \"W14\", \"target\": \"W01\", \"color\": \"#999999\", \"width\": 0.5, \"weight\": 0.1}, {\"source\": \"W14\", \"target\": \"W02\", \"color\": \"#999999\", \"width\": 0.5, \"weight\": 0.1}, {\"source\": \"W14\", \"target\": \"W03\", \"color\": \"#999999\", \"width\": 0.5, \"weight\": 0.1}, {\"source\": \"W14\", \"target\": \"W04\", \"color\": \"#999999\", \"width\": 0.5, \"weight\": 0.1}, {\"source\": \"W14\", \"target\": \"W05\", \"color\": \"#999999\", \"width\": 0.5, \"weight\": 0.1}, {\"source\": \"W14\", \"target\": \"W06\", \"color\": \"#999999\", \"width\": 0.5, \"weight\": 0.1}, {\"source\": \"W14\", \"target\": \"W07\", \"color\": \"#999999\", \"width\": 0.5, \"weight\": 0.1}, {\"source\": \"W14\", \"target\": \"W08\", \"color\": \"#999999\", \"width\": 0.5, \"weight\": 0.1}, {\"source\": \"W14\", \"target\": \"W10\", \"color\": \"#999999\", \"width\": 0.5, \"weight\": 0.1}, {\"source\": \"W15\", \"target\": \"W01\", \"color\": \"#999999\", \"width\": 0.5, \"weight\": 0.1}, {\"source\": \"W15\", \"target\": \"W02\", \"color\": \"#999999\", \"width\": 0.5, \"weight\": 0.1}, {\"source\": \"W15\", \"target\": \"W03\", \"color\": \"#999999\", \"width\": 0.5, \"weight\": 0.1}, {\"source\": \"W15\", \"target\": \"W04\", \"color\": \"#999999\", \"width\": 0.5, \"weight\": 0.1}, {\"source\": \"W15\", \"target\": \"W05\", \"color\": \"#999999\", \"width\": 0.5, \"weight\": 0.1}, {\"source\": \"W15\", \"target\": \"W06\", \"color\": \"#999999\", \"width\": 0.5, \"weight\": 0.1}, {\"source\": \"W15\", \"target\": \"W07\", \"color\": \"#999999\", \"width\": 0.5, \"weight\": 0.1}, {\"source\": \"W15\", \"target\": \"W08\", \"color\": \"#999999\", \"width\": 0.5, \"weight\": 0.1}, {\"source\": \"W15\", \"target\": \"W09\", \"color\": \"#999999\", \"width\": 0.5, \"weight\": 0.09090909090909091}, {\"source\": \"W15\", \"target\": \"W10\", \"color\": \"#999999\", \"width\": 0.5, \"weight\": 0.1}, {\"source\": \"W16\", \"target\": \"W01\", \"color\": \"#999999\", \"width\": 0.5, \"weight\": 0.1}, {\"source\": \"W16\", \"target\": \"W02\", \"color\": \"#999999\", \"width\": 0.5, \"weight\": 0.1}, {\"source\": \"W16\", \"target\": \"W03\", \"color\": \"#999999\", \"width\": 0.5, \"weight\": 0.1}, {\"source\": \"W16\", \"target\": \"W04\", \"color\": \"#999999\", \"width\": 0.5, \"weight\": 0.1}, {\"source\": \"W16\", \"target\": \"W05\", \"color\": \"#999999\", \"width\": 0.5, \"weight\": 0.1}, {\"source\": \"W16\", \"target\": \"W06\", \"color\": \"#999999\", \"width\": 0.5, \"weight\": 0.1}, {\"source\": \"W16\", \"target\": \"W07\", \"color\": \"#999999\", \"width\": 0.5, \"weight\": 0.1}, {\"source\": \"W16\", \"target\": \"W08\", \"color\": \"#999999\", \"width\": 0.5, \"weight\": 0.1}, {\"source\": \"W16\", \"target\": \"W09\", \"color\": \"#999999\", \"width\": 0.5, \"weight\": 0.09090909090909091}, {\"source\": \"W16\", \"target\": \"W10\", \"color\": \"#999999\", \"width\": 0.5, \"weight\": 0.1}, {\"source\": \"W16\", \"target\": \"W11\", \"color\": \"#999999\", \"width\": 0.5, \"weight\": 0.07142857142857142}, {\"source\": \"W17\", \"target\": \"W01\", \"color\": \"#999999\", \"width\": 0.5, \"weight\": 0.1}, {\"source\": \"W17\", \"target\": \"W02\", \"color\": \"#999999\", \"width\": 0.5, \"weight\": 0.1}, {\"source\": \"W17\", \"target\": \"W03\", \"color\": \"#999999\", \"width\": 0.5, \"weight\": 0.1}, {\"source\": \"W17\", \"target\": \"W04\", \"color\": \"#999999\", \"width\": 0.5, \"weight\": 0.1}, {\"source\": \"W17\", \"target\": \"W05\", \"color\": \"#999999\", \"width\": 0.5, \"weight\": 0.1}, {\"source\": \"W17\", \"target\": \"W06\", \"color\": \"#999999\", \"width\": 0.5, \"weight\": 0.1}, {\"source\": \"W17\", \"target\": \"W07\", \"color\": \"#999999\", \"width\": 0.5, \"weight\": 0.1}, {\"source\": \"W17\", \"target\": \"W08\", \"color\": \"#999999\", \"width\": 0.5, \"weight\": 0.1}, {\"source\": \"W17\", \"target\": \"W09\", \"color\": \"#999999\", \"width\": 0.5, \"weight\": 0.09090909090909091}, {\"source\": \"W17\", \"target\": \"W10\", \"color\": \"#999999\", \"width\": 0.5, \"weight\": 0.1}, {\"source\": \"W17\", \"target\": \"W11\", \"color\": \"#999999\", \"width\": 0.5, \"weight\": 0.07142857142857142}, {\"source\": \"W17\", \"target\": \"W12\", \"color\": \"#999999\", \"width\": 0.5, \"weight\": 0.0625}, {\"source\": \"W18\", \"target\": \"TOR\", \"color\": \"#999999\", \"width\": 0.5, \"weight\": 0.0625}, {\"source\": \"W18\", \"target\": \"W01\", \"color\": \"#999999\", \"width\": 0.5, \"weight\": 0.1}, {\"source\": \"W18\", \"target\": \"W02\", \"color\": \"#999999\", \"width\": 0.5, \"weight\": 0.1}, {\"source\": \"W18\", \"target\": \"W04\", \"color\": \"#999999\", \"width\": 0.5, \"weight\": 0.1}, {\"source\": \"W18\", \"target\": \"W06\", \"color\": \"#999999\", \"width\": 0.5, \"weight\": 0.1}, {\"source\": \"W18\", \"target\": \"W07\", \"color\": \"#999999\", \"width\": 0.5, \"weight\": 0.1}, {\"source\": \"W18\", \"target\": \"W08\", \"color\": \"#999999\", \"width\": 0.5, \"weight\": 0.1}, {\"source\": \"W18\", \"target\": \"W09\", \"color\": \"#999999\", \"width\": 0.5, \"weight\": 0.09090909090909091}, {\"source\": \"W18\", \"target\": \"W10\", \"color\": \"#999999\", \"width\": 0.5, \"weight\": 0.1}, {\"source\": \"W18\", \"target\": \"W11\", \"color\": \"#999999\", \"width\": 0.5, \"weight\": 0.07142857142857142}, {\"source\": \"W18\", \"target\": \"W12\", \"color\": \"#999999\", \"width\": 0.5, \"weight\": 0.0625}, {\"source\": \"W18\", \"target\": \"W13\", \"color\": \"#999999\", \"width\": 0.5, \"weight\": 0.0625}, {\"source\": \"W18\", \"target\": \"W14\", \"color\": \"#999999\", \"width\": 0.5, \"weight\": 0.05555555555555555}, {\"source\": \"W19\", \"target\": \"TOR\", \"color\": \"#999999\", \"width\": 0.5, \"weight\": 0.0625}, {\"source\": \"W19\", \"target\": \"W01\", \"color\": \"#999999\", \"width\": 0.5, \"weight\": 0.1}, {\"source\": \"W19\", \"target\": \"W02\", \"color\": \"#999999\", \"width\": 0.5, \"weight\": 0.1}, {\"source\": \"W19\", \"target\": \"W04\", \"color\": \"#999999\", \"width\": 0.5, \"weight\": 0.1}, {\"source\": \"W19\", \"target\": \"W06\", \"color\": \"#999999\", \"width\": 0.5, \"weight\": 0.1}, {\"source\": \"W19\", \"target\": \"W07\", \"color\": \"#999999\", \"width\": 0.5, \"weight\": 0.1}, {\"source\": \"W19\", \"target\": \"W08\", \"color\": \"#999999\", \"width\": 0.5, \"weight\": 0.1}, {\"source\": \"W19\", \"target\": \"W09\", \"color\": \"#999999\", \"width\": 0.5, \"weight\": 0.09090909090909091}, {\"source\": \"W19\", \"target\": \"W10\", \"color\": \"#999999\", \"width\": 0.5, \"weight\": 0.1}, {\"source\": \"W19\", \"target\": \"W11\", \"color\": \"#999999\", \"width\": 0.5, \"weight\": 0.07142857142857142}, {\"source\": \"W19\", \"target\": \"W12\", \"color\": \"#999999\", \"width\": 0.5, \"weight\": 0.0625}, {\"source\": \"W19\", \"target\": \"W13\", \"color\": \"#999999\", \"width\": 0.5, \"weight\": 0.0625}, {\"source\": \"W19\", \"target\": \"W14\", \"color\": \"#999999\", \"width\": 0.5, \"weight\": 0.05555555555555555}, {\"source\": \"W20\", \"target\": \"TOR\", \"color\": \"#999999\", \"width\": 0.5, \"weight\": 0.0625}, {\"source\": \"W20\", \"target\": \"W01\", \"color\": \"#999999\", \"width\": 0.5, \"weight\": 0.1}, {\"source\": \"W20\", \"target\": \"W07\", \"color\": \"#999999\", \"width\": 0.5, \"weight\": 0.1}, {\"source\": \"W20\", \"target\": \"W08\", \"color\": \"#999999\", \"width\": 0.5, \"weight\": 0.1}, {\"source\": \"W20\", \"target\": \"W09\", \"color\": \"#999999\", \"width\": 0.5, \"weight\": 0.09090909090909091}, {\"source\": \"W20\", \"target\": \"W10\", \"color\": \"#999999\", \"width\": 0.5, \"weight\": 0.1}, {\"source\": \"W20\", \"target\": \"W11\", \"color\": \"#999999\", \"width\": 0.5, \"weight\": 0.07142857142857142}, {\"source\": \"W20\", \"target\": \"W12\", \"color\": \"#999999\", \"width\": 0.5, \"weight\": 0.0625}, {\"source\": \"W20\", \"target\": \"W13\", \"color\": \"#999999\", \"width\": 0.5, \"weight\": 0.0625}, {\"source\": \"W20\", \"target\": \"W14\", \"color\": \"#999999\", \"width\": 0.5, \"weight\": 0.05555555555555555}, {\"source\": \"W20\", \"target\": \"W15\", \"color\": \"#999999\", \"width\": 0.5, \"weight\": 0.05263157894736842}, {\"source\": \"W21\", \"target\": \"TOR\", \"color\": \"#999999\", \"width\": 0.5, \"weight\": 0.0625}, {\"source\": \"W21\", \"target\": \"W01\", \"color\": \"#999999\", \"width\": 0.5, \"weight\": 0.1}, {\"source\": \"W21\", \"target\": \"W07\", \"color\": \"#999999\", \"width\": 0.5, \"weight\": 0.1}, {\"source\": \"W21\", \"target\": \"W09\", \"color\": \"#999999\", \"width\": 0.5, \"weight\": 0.09090909090909091}, {\"source\": \"W21\", \"target\": \"W11\", \"color\": \"#999999\", \"width\": 0.5, \"weight\": 0.07142857142857142}, {\"source\": \"W21\", \"target\": \"W12\", \"color\": \"#999999\", \"width\": 0.5, \"weight\": 0.0625}, {\"source\": \"W21\", \"target\": \"W13\", \"color\": \"#999999\", \"width\": 0.5, \"weight\": 0.0625}, {\"source\": \"W21\", \"target\": \"W14\", \"color\": \"#999999\", \"width\": 0.5, \"weight\": 0.058823529411764705}, {\"source\": \"W21\", \"target\": \"W15\", \"color\": \"#999999\", \"width\": 0.5, \"weight\": 0.058823529411764705}, {\"source\": \"W21\", \"target\": \"W16\", \"color\": \"#999999\", \"width\": 0.5, \"weight\": 0.058823529411764705}, {\"source\": \"W22\", \"target\": \"TOR\", \"color\": \"#999999\", \"width\": 0.5, \"weight\": 0.0625}, {\"source\": \"W22\", \"target\": \"W09\", \"color\": \"#999999\", \"width\": 0.5, \"weight\": 0.09090909090909091}, {\"source\": \"W22\", \"target\": \"W11\", \"color\": \"#999999\", \"width\": 0.5, \"weight\": 0.07142857142857142}, {\"source\": \"W22\", \"target\": \"W12\", \"color\": \"#999999\", \"width\": 0.5, \"weight\": 0.0625}, {\"source\": \"W22\", \"target\": \"W13\", \"color\": \"#999999\", \"width\": 0.5, \"weight\": 0.0625}, {\"source\": \"W22\", \"target\": \"W14\", \"color\": \"#999999\", \"width\": 0.5, \"weight\": 0.0625}, {\"source\": \"W22\", \"target\": \"W15\", \"color\": \"#999999\", \"width\": 0.5, \"weight\": 0.0625}, {\"source\": \"W22\", \"target\": \"W16\", \"color\": \"#999999\", \"width\": 0.5, \"weight\": 0.0625}, {\"source\": \"W22\", \"target\": \"W17\", \"color\": \"#999999\", \"width\": 0.5, \"weight\": 0.0625}, {\"source\": \"W22\", \"target\": \"W18\", \"color\": \"#999999\", \"width\": 0.5, \"weight\": 0.0625}, {\"source\": \"W23\", \"target\": \"TOR\", \"color\": \"#999999\", \"width\": 0.5, \"weight\": 0.0625}, {\"source\": \"W23\", \"target\": \"W09\", \"color\": \"#999999\", \"width\": 0.5, \"weight\": 0.09090909090909091}, {\"source\": \"W23\", \"target\": \"W11\", \"color\": \"#999999\", \"width\": 0.5, \"weight\": 0.07142857142857142}, {\"source\": \"W23\", \"target\": \"W12\", \"color\": \"#999999\", \"width\": 0.5, \"weight\": 0.0625}, {\"source\": \"W23\", \"target\": \"W13\", \"color\": \"#999999\", \"width\": 0.5, \"weight\": 0.0625}, {\"source\": \"W23\", \"target\": \"W14\", \"color\": \"#999999\", \"width\": 0.5, \"weight\": 0.0625}, {\"source\": \"W23\", \"target\": \"W15\", \"color\": \"#999999\", \"width\": 0.5, \"weight\": 0.0625}, {\"source\": \"W23\", \"target\": \"W16\", \"color\": \"#999999\", \"width\": 0.5, \"weight\": 0.0625}, {\"source\": \"W23\", \"target\": \"W17\", \"color\": \"#999999\", \"width\": 0.5, \"weight\": 0.0625}, {\"source\": \"W23\", \"target\": \"W18\", \"color\": \"#999999\", \"width\": 0.5, \"weight\": 0.0625}, {\"source\": \"W24\", \"target\": \"TOR\", \"color\": \"#999999\", \"width\": 0.5, \"weight\": 0.06666666666666667}, {\"source\": \"W24\", \"target\": \"W11\", \"color\": \"#999999\", \"width\": 0.5, \"weight\": 0.07142857142857142}, {\"source\": \"W24\", \"target\": \"W12\", \"color\": \"#999999\", \"width\": 0.5, \"weight\": 0.06666666666666667}, {\"source\": \"W24\", \"target\": \"W13\", \"color\": \"#999999\", \"width\": 0.5, \"weight\": 0.06666666666666667}, {\"source\": \"W24\", \"target\": \"W14\", \"color\": \"#999999\", \"width\": 0.5, \"weight\": 0.06666666666666667}, {\"source\": \"W24\", \"target\": \"W15\", \"color\": \"#999999\", \"width\": 0.5, \"weight\": 0.06666666666666667}, {\"source\": \"W24\", \"target\": \"W16\", \"color\": \"#999999\", \"width\": 0.5, \"weight\": 0.06666666666666667}, {\"source\": \"W24\", \"target\": \"W17\", \"color\": \"#999999\", \"width\": 0.5, \"weight\": 0.06666666666666667}, {\"source\": \"W24\", \"target\": \"W18\", \"color\": \"#999999\", \"width\": 0.5, \"weight\": 0.06666666666666667}, {\"source\": \"W24\", \"target\": \"W19\", \"color\": \"#999999\", \"width\": 0.5, \"weight\": 0.06666666666666667}, {\"source\": \"W25\", \"target\": \"W19\", \"color\": \"#999999\", \"width\": 0.5, \"weight\": 0.1111111111111111}, {\"source\": \"W25\", \"target\": \"W20\", \"color\": \"#999999\", \"width\": 0.5, \"weight\": 0.1111111111111111}, {\"source\": \"W25\", \"target\": \"W21\", \"color\": \"#999999\", \"width\": 0.5, \"weight\": 0.1111111111111111}, {\"source\": \"W25\", \"target\": \"W22\", \"color\": \"#999999\", \"width\": 0.5, \"weight\": 0.1111111111111111}, {\"source\": \"W25\", \"target\": \"W23\", \"color\": \"#999999\", \"width\": 0.5, \"weight\": 0.1111111111111111}, {\"source\": \"W25\", \"target\": \"W24\", \"color\": \"#999999\", \"width\": 0.5, \"weight\": 0.1111111111111111}, {\"source\": \"W26\", \"target\": \"TOR\", \"color\": \"#999999\", \"width\": 0.5, \"weight\": 0.07142857142857142}, {\"source\": \"W26\", \"target\": \"W12\", \"color\": \"#999999\", \"width\": 0.5, \"weight\": 0.07142857142857142}, {\"source\": \"W26\", \"target\": \"W13\", \"color\": \"#999999\", \"width\": 0.5, \"weight\": 0.07142857142857142}, {\"source\": \"W26\", \"target\": \"W14\", \"color\": \"#999999\", \"width\": 0.5, \"weight\": 0.07142857142857142}, {\"source\": \"W26\", \"target\": \"W15\", \"color\": \"#999999\", \"width\": 0.5, \"weight\": 0.07142857142857142}, {\"source\": \"W26\", \"target\": \"W16\", \"color\": \"#999999\", \"width\": 0.5, \"weight\": 0.07142857142857142}, {\"source\": \"W26\", \"target\": \"W17\", \"color\": \"#999999\", \"width\": 0.5, \"weight\": 0.07142857142857142}, {\"source\": \"W26\", \"target\": \"W18\", \"color\": \"#999999\", \"width\": 0.5, \"weight\": 0.07142857142857142}, {\"source\": \"W26\", \"target\": \"W19\", \"color\": \"#999999\", \"width\": 0.5, \"weight\": 0.07142857142857142}, {\"source\": \"W26\", \"target\": \"W20\", \"color\": \"#999999\", \"width\": 0.5, \"weight\": 0.07142857142857142}, {\"source\": \"W26\", \"target\": \"W25\", \"color\": \"#999999\", \"width\": 0.5, \"weight\": 0.1111111111111111}, {\"source\": \"W27\", \"target\": \"W14\", \"color\": \"#999999\", \"width\": 0.5, \"weight\": 0.1111111111111111}, {\"source\": \"W27\", \"target\": \"W15\", \"color\": \"#999999\", \"width\": 0.5, \"weight\": 0.1111111111111111}, {\"source\": \"W27\", \"target\": \"W16\", \"color\": \"#999999\", \"width\": 0.5, \"weight\": 0.1111111111111111}, {\"source\": \"W27\", \"target\": \"W17\", \"color\": \"#999999\", \"width\": 0.5, \"weight\": 0.1111111111111111}, {\"source\": \"W27\", \"target\": \"W18\", \"color\": \"#999999\", \"width\": 0.5, \"weight\": 0.1111111111111111}, {\"source\": \"W27\", \"target\": \"W19\", \"color\": \"#999999\", \"width\": 0.5, \"weight\": 0.1111111111111111}, {\"source\": \"W27\", \"target\": \"W20\", \"color\": \"#999999\", \"width\": 0.5, \"weight\": 0.1111111111111111}, {\"source\": \"W27\", \"target\": \"W21\", \"color\": \"#999999\", \"width\": 0.5, \"weight\": 0.1111111111111111}, {\"source\": \"W27\", \"target\": \"W25\", \"color\": \"#999999\", \"width\": 0.5, \"weight\": 0.1111111111111111}, {\"source\": \"W28\", \"target\": \"W15\", \"color\": \"#999999\", \"width\": 0.5, \"weight\": 0.1}, {\"source\": \"W28\", \"target\": \"W16\", \"color\": \"#999999\", \"width\": 0.5, \"weight\": 0.1}, {\"source\": \"W28\", \"target\": \"W17\", \"color\": \"#999999\", \"width\": 0.5, \"weight\": 0.1}, {\"source\": \"W28\", \"target\": \"W18\", \"color\": \"#999999\", \"width\": 0.5, \"weight\": 0.1}, {\"source\": \"W28\", \"target\": \"W19\", \"color\": \"#999999\", \"width\": 0.5, \"weight\": 0.1}, {\"source\": \"W28\", \"target\": \"W20\", \"color\": \"#999999\", \"width\": 0.5, \"weight\": 0.1}, {\"source\": \"W28\", \"target\": \"W21\", \"color\": \"#999999\", \"width\": 0.5, \"weight\": 0.1}, {\"source\": \"W28\", \"target\": \"W22\", \"color\": \"#999999\", \"width\": 0.5, \"weight\": 0.1}, {\"source\": \"W28\", \"target\": \"W23\", \"color\": \"#999999\", \"width\": 0.5, \"weight\": 0.1}, {\"source\": \"W28\", \"target\": \"W25\", \"color\": \"#999999\", \"width\": 0.5, \"weight\": 0.1111111111111111}, {\"source\": \"W29\", \"target\": \"W15\", \"color\": \"#999999\", \"width\": 0.5, \"weight\": 0.1}, {\"source\": \"W29\", \"target\": \"W16\", \"color\": \"#999999\", \"width\": 0.5, \"weight\": 0.1}, {\"source\": \"W29\", \"target\": \"W17\", \"color\": \"#999999\", \"width\": 0.5, \"weight\": 0.1}, {\"source\": \"W29\", \"target\": \"W18\", \"color\": \"#999999\", \"width\": 0.5, \"weight\": 0.1}, {\"source\": \"W29\", \"target\": \"W19\", \"color\": \"#999999\", \"width\": 0.5, \"weight\": 0.1}, {\"source\": \"W29\", \"target\": \"W20\", \"color\": \"#999999\", \"width\": 0.5, \"weight\": 0.1}, {\"source\": \"W29\", \"target\": \"W21\", \"color\": \"#999999\", \"width\": 0.5, \"weight\": 0.1}, {\"source\": \"W29\", \"target\": \"W22\", \"color\": \"#999999\", \"width\": 0.5, \"weight\": 0.1}, {\"source\": \"W29\", \"target\": \"W23\", \"color\": \"#999999\", \"width\": 0.5, \"weight\": 0.1}, {\"source\": \"W29\", \"target\": \"W24\", \"color\": \"#999999\", \"width\": 0.5, \"weight\": 0.1}, {\"source\": \"W30\", \"target\": \"W16\", \"color\": \"#999999\", \"width\": 0.5, \"weight\": 0.1}, {\"source\": \"W30\", \"target\": \"W17\", \"color\": \"#999999\", \"width\": 0.5, \"weight\": 0.1}, {\"source\": \"W30\", \"target\": \"W18\", \"color\": \"#999999\", \"width\": 0.5, \"weight\": 0.1}, {\"source\": \"W30\", \"target\": \"W19\", \"color\": \"#999999\", \"width\": 0.5, \"weight\": 0.1}, {\"source\": \"W30\", \"target\": \"W20\", \"color\": \"#999999\", \"width\": 0.5, \"weight\": 0.1}, {\"source\": \"W30\", \"target\": \"W21\", \"color\": \"#999999\", \"width\": 0.5, \"weight\": 0.1}, {\"source\": \"W30\", \"target\": \"W22\", \"color\": \"#999999\", \"width\": 0.5, \"weight\": 0.1}, {\"source\": \"W30\", \"target\": \"W23\", \"color\": \"#999999\", \"width\": 0.5, \"weight\": 0.1}, {\"source\": \"W30\", \"target\": \"W24\", \"color\": \"#999999\", \"width\": 0.5, \"weight\": 0.1}, {\"source\": \"W30\", \"target\": \"W26\", \"color\": \"#999999\", \"width\": 0.5, \"weight\": 0.1}, {\"source\": \"W31\", \"target\": \"W17\", \"color\": \"#999999\", \"width\": 0.5, \"weight\": 0.1111111111111111}, {\"source\": \"W31\", \"target\": \"W18\", \"color\": \"#999999\", \"width\": 0.5, \"weight\": 0.1111111111111111}, {\"source\": \"W31\", \"target\": \"W19\", \"color\": \"#999999\", \"width\": 0.5, \"weight\": 0.1111111111111111}, {\"source\": \"W31\", \"target\": \"W20\", \"color\": \"#999999\", \"width\": 0.5, \"weight\": 0.1111111111111111}, {\"source\": \"W31\", \"target\": \"W21\", \"color\": \"#999999\", \"width\": 0.5, \"weight\": 0.1111111111111111}, {\"source\": \"W31\", \"target\": \"W22\", \"color\": \"#999999\", \"width\": 0.5, \"weight\": 0.1111111111111111}, {\"source\": \"W31\", \"target\": \"W23\", \"color\": \"#999999\", \"width\": 0.5, \"weight\": 0.1111111111111111}, {\"source\": \"W31\", \"target\": \"W24\", \"color\": \"#999999\", \"width\": 0.5, \"weight\": 0.1111111111111111}, {\"source\": \"W31\", \"target\": \"W26\", \"color\": \"#999999\", \"width\": 0.5, \"weight\": 0.1111111111111111}, {\"source\": \"W32\", \"target\": \"W18\", \"color\": \"#999999\", \"width\": 0.5, \"weight\": 0.125}, {\"source\": \"W32\", \"target\": \"W19\", \"color\": \"#999999\", \"width\": 0.5, \"weight\": 0.125}, {\"source\": \"W32\", \"target\": \"W20\", \"color\": \"#999999\", \"width\": 0.5, \"weight\": 0.125}, {\"source\": \"W32\", \"target\": \"W21\", \"color\": \"#999999\", \"width\": 0.5, \"weight\": 0.125}, {\"source\": \"W32\", \"target\": \"W22\", \"color\": \"#999999\", \"width\": 0.5, \"weight\": 0.125}, {\"source\": \"W32\", \"target\": \"W23\", \"color\": \"#999999\", \"width\": 0.5, \"weight\": 0.125}, {\"source\": \"W32\", \"target\": \"W24\", \"color\": \"#999999\", \"width\": 0.5, \"weight\": 0.125}, {\"source\": \"W32\", \"target\": \"W26\", \"color\": \"#999999\", \"width\": 0.5, \"weight\": 0.125}], \"nodes\": [{\"id\": \"W01\", \"text\": \"W01\", \"color\": \"#99ccff\", \"size\": 5.0}, {\"id\": \"TOR\", \"text\": \"TOR\", \"color\": \"#99ccff\", \"size\": 5.0}, {\"id\": \"W02\", \"text\": \"W02\", \"color\": \"#99ccff\", \"size\": 5.0}, {\"id\": \"W03\", \"text\": \"W03\", \"color\": \"#99ccff\", \"size\": 5.0}, {\"id\": \"W04\", \"text\": \"W04\", \"color\": \"#99ccff\", \"size\": 5.0}, {\"id\": \"W05\", \"text\": \"W05\", \"color\": \"#99ccff\", \"size\": 5.0}, {\"id\": \"W06\", \"text\": \"W06\", \"color\": \"#99ccff\", \"size\": 5.0}, {\"id\": \"W07\", \"text\": \"W07\", \"color\": \"#99ccff\", \"size\": 5.0}, {\"id\": \"W08\", \"text\": \"W08\", \"color\": \"#99ccff\", \"size\": 5.0}, {\"id\": \"W09\", \"text\": \"W09\", \"color\": \"#99ccff\", \"size\": 5.0}, {\"id\": \"W10\", \"text\": \"W10\", \"color\": \"#99ccff\", \"size\": 5.0}, {\"id\": \"W11\", \"text\": \"W11\", \"color\": \"#99ccff\", \"size\": 5.0}, {\"id\": \"W12\", \"text\": \"W12\", \"color\": \"#99ccff\", \"size\": 5.0}, {\"id\": \"W13\", \"text\": \"W13\", \"color\": \"#99ccff\", \"size\": 5.0}, {\"id\": \"W14\", \"text\": \"W14\", \"color\": \"#99ccff\", \"size\": 5.0}, {\"id\": \"W15\", \"text\": \"W15\", \"color\": \"#99ccff\", \"size\": 5.0}, {\"id\": \"W16\", \"text\": \"W16\", \"color\": \"#99ccff\", \"size\": 5.0}, {\"id\": \"W17\", \"text\": \"W17\", \"color\": \"#99ccff\", \"size\": 5.0}, {\"id\": \"W18\", \"text\": \"W18\", \"color\": \"#99ccff\", \"size\": 5.0}, {\"id\": \"W19\", \"text\": \"W19\", \"color\": \"#99ccff\", \"size\": 5.0}, {\"id\": \"W20\", \"text\": \"W20\", \"color\": \"#99ccff\", \"size\": 5.0}, {\"id\": \"W21\", \"text\": \"W21\", \"color\": \"#99ccff\", \"size\": 5.0}, {\"id\": \"W22\", \"text\": \"W22\", \"color\": \"#99ccff\", \"size\": 5.0}, {\"id\": \"W23\", \"text\": \"W23\", \"color\": \"#99ccff\", \"size\": 5.0}, {\"id\": \"W24\", \"text\": \"W24\", \"color\": \"#99ccff\", \"size\": 5.0}, {\"id\": \"W25\", \"text\": \"W25\", \"color\": \"#99ccff\", \"size\": 5.0}, {\"id\": \"W26\", \"text\": \"W26\", \"color\": \"#99ccff\", \"size\": 5.0}, {\"id\": \"W27\", \"text\": \"W27\", \"color\": \"#99ccff\", \"size\": 5.0}, {\"id\": \"W28\", \"text\": \"W28\", \"color\": \"#99ccff\", \"size\": 5.0}, {\"id\": \"W29\", \"text\": \"W29\", \"color\": \"#99ccff\", \"size\": 5.0}, {\"id\": \"W30\", \"text\": \"W30\", \"color\": \"#99ccff\", \"size\": 5.0}, {\"id\": \"W31\", \"text\": \"W31\", \"color\": \"#99ccff\", \"size\": 5.0}, {\"id\": \"W32\", \"text\": \"W32\", \"color\": \"#99ccff\", \"size\": 5.0}]};\n",
       "    var directed = true;\n",
       "\n",
       "    var simulation = d3.forceSimulation()        \n",
       "       .force(\"link\", d3.forceLink().id(function(d) { return d.id; }).strength(function(d){return d.weight;}))\n",
       "        .force(\"charge\", d3.forceManyBody().strength(-20).distanceMax(400))\n",
       "       .force(\"repelForce\", d3.forceManyBody().strength(-200).distanceMax(100))\n",
       "       .force(\"center\", d3.forceCenter(400 / 2, 400 / 2))\n",
       "       .alphaTarget(0.0);\n",
       "\n",
       "    svg.append(\"defs\").selectAll(\"marker\")\n",
       "        .data([\"end\"])\n",
       "    .enter().append(\"marker\")\n",
       "        .attr(\"id\", String)\n",
       "        .attr(\"viewBox\", \"0 -5 20 20\")\n",
       "        .attr(\"refX\", 34)\n",
       "        .attr(\"refY\", 0)\n",
       "        .attr(\"markerWidth\", 15)\n",
       "        .attr(\"markerHeight\", 15)\n",
       "        .attr(\"orient\", \"auto\")\n",
       "    .append(\"path\")\n",
       "        // draws a filled path (triangle) between three points\n",
       "        .attr(\"d\", \"M0,-5 L20,0 L0,5 z\")\n",
       "        .attr(\"fill\", '#999')\n",
       "        .attr(\"stroke\", 'none');\n",
       "\n",
       "    var g = svg.append(\"g\")\n",
       "        .attr(\"class\", \"everything\");\n",
       "\n",
       "    var link = g.append(\"g\")\n",
       "        .attr(\"class\", \"links_chKxAtao\")\n",
       "        .selectAll(\"line\")\n",
       "        .data(graph.links)\n",
       "        .enter().append(\"line\")\n",
       "        .attr(\"stroke-width\", function(d) { return d.width; })\n",
       "        .attr(\"stroke\", function(d) { return d.color; } );\n",
       "\n",
       "    if (directed)\n",
       "        link.attr(\"marker-end\", \"url(#end)\");\n",
       "\n",
       "    var node_g = g.append(\"g\")\n",
       "        .attr(\"class\", \"nodes_chKxAtao\")\n",
       "        .selectAll(\"circle\")\n",
       "        .data(graph.nodes)\n",
       "        .enter()\n",
       "        .append(\"g\"); \n",
       "\n",
       "    var node = node_g.append(\"circle\")\n",
       "        .attr('id', function(d) { return d.id; })\n",
       "        .attr(\"r\", function(d) { return d.size; })\n",
       "        .attr(\"fill\", function(d) { return d.color; })\n",
       "        .call(d3.drag()\n",
       "            .on(\"start\", dragstarted)\n",
       "            .on(\"drag\", dragged)\n",
       "            .on(\"end\", dragended));\n",
       "\n",
       "    var text = node_g.append(\"text\")\n",
       "    .attr(\"x\", [0, -10][0])\n",
       "    .attr(\"y\", [0, -10][1]+3)\n",
       "    .attr(\"id\", function(d) {return d.id; })\n",
       "    .attr(\"class\", \"label_chKxAtao\")\n",
       "    .text(function(d) { return d.id; });\n",
       "\n",
       "    node.append(\"title\")\n",
       "        .text(function(d) { return d.text; });\n",
       "\n",
       "    var zoom_handler = d3.zoom()\n",
       "        .on(\"zoom\", zoom_actions);\n",
       "    zoom_handler(svg);\n",
       "\n",
       "    // attach event handler for svg export\n",
       "    d3.select('#chKxAtao_svg_txt').on(\"click\", save_svg);\n",
       "\n",
       "    simulation\n",
       "        .nodes(graph.nodes)\n",
       "        .on(\"tick\", ticked);\n",
       "\n",
       "    simulation.force(\"link\")\n",
       "        .links(graph.links);\n",
       "\n",
       "    function ticked() {\n",
       "        link.attr(\"x1\", function(d) { return d.source.x; })\n",
       "            .attr(\"y1\", function(d) { return d.source.y; })\n",
       "            .attr(\"x2\", function(d) { return d.target.x; })\n",
       "            .attr(\"y2\", function(d) { return d.target.y; });\n",
       "\n",
       "         text.attr(\"transform\", transform);\n",
       "\n",
       "\n",
       "        text.attr(\"cx\", function(d) { return d.x; })\n",
       "            .attr(\"cy\", function(d) { return d.y; });\n",
       "\n",
       "        node.attr(\"cx\", function(d) { return d.x; })\n",
       "            .attr(\"cy\", function(d) { return d.y; });\n",
       "    }\n",
       "\n",
       "    function transform(d) {\n",
       "        return \"translate(\" + d.x + \",\" + d.y + \")\";\n",
       "    }\n",
       "\n",
       "    function dragstarted(d) {\n",
       "    if (!d3.event.active) simulation.alphaTarget(0.3).restart();\n",
       "    d.fx = d.x;\n",
       "    d.fy = d.y;\n",
       "    }\n",
       "\n",
       "    function zoom_actions(){\n",
       "        g.attr(\"transform\", d3.event.transform)\n",
       "    }    \n",
       "\n",
       "    function dragged(d) {\n",
       "    d.fx = d3.event.x;\n",
       "    d.fy = d3.event.y;\n",
       "    }\n",
       "\n",
       "    function dragended(d) {\n",
       "    if (!d3.event.active) simulation.alphaTarget(0);\n",
       "    d.fx = null;\n",
       "    d.fy = null;\n",
       "    }\n",
       "\n",
       "    function to_svg() {\n",
       "        // Returns a SVG representation of the current state of the visualisation\n",
       "\t    var svg  = document.getElementById('chKxAtao');\n",
       "\t    var xml = (new XMLSerializer).serializeToString(svg);\n",
       "        return xml;\n",
       "    }\n",
       "\n",
       "    function save_svg() {\n",
       "        var svg  = document.getElementById('chKxAtao');\n",
       "        var xml = (new XMLSerializer).serializeToString(svg);        \n",
       "        var blob = new Blob([xml], {type: 'text/xml'});\n",
       "        if(window.navigator.msSaveOrOpenBlob) {\n",
       "            window.navigator.msSaveBlob(blob, 'network.svg');\n",
       "        }\n",
       "        else{\n",
       "            var elem = window.document.createElement('a');\n",
       "            elem.href = window.URL.createObjectURL(blob);\n",
       "            elem.download = 'network.svg';\n",
       "            document.body.appendChild(elem);\n",
       "            elem.click();\n",
       "            document.body.removeChild(elem);\n",
       "        }\n",
       "    }\n",
       "});\n",
       "</script>"
      ],
      "text/plain": [
       "<pathpy.classes.network.Network at 0x7fc4c152b8b0>"
      ]
     },
     "execution_count": 24,
     "metadata": {},
     "output_type": "execute_result"
    }
   ],
   "source": [
    "haver_graph"
   ]
  },
  {
   "cell_type": "code",
   "execution_count": 28,
   "metadata": {},
   "outputs": [],
   "source": [
    "euclid_graph = pp.Network(directed=True)"
   ]
  },
  {
   "cell_type": "code",
   "execution_count": 29,
   "metadata": {},
   "outputs": [
    {
     "name": "stdout",
     "output_type": "stream",
     "text": [
      "1089\n"
     ]
    }
   ],
   "source": [
    "cnt = 0\n",
    "\n",
    "for row in range(0, 33):\n",
    "    for turb1 in euclid_interaction.iloc[[row]].index:\n",
    "        for int, adj_turb in zip(euclid_interaction.values[row], euclid_interaction.columns):\n",
    "            cnt += 1\n",
    "            if int == 1:\n",
    "                euclid_graph.add_edge(turb1, adj_turb)\n",
    "            else:\n",
    "                pass\n",
    "\n",
    "print(cnt)\n"
   ]
  },
  {
   "cell_type": "code",
   "execution_count": 30,
   "metadata": {},
   "outputs": [
    {
     "data": {
      "text/html": [
       "<style>\n",
       "    text.label_xSrWxrHj {\n",
       "        text-anchor: middle;\n",
       "        font-size: 8px;\n",
       "        font-family: Arial, Helvetica, sans-serif;\n",
       "        fill: #999999;\n",
       "        stroke: #ffffff;\n",
       "        stroke-width: 0.1px;\n",
       "        opacity: 1.0;\n",
       "    }\n",
       "    .links_xSrWxrHj line {\n",
       "    stroke-opacity: 1.0;\n",
       "    }\n",
       "    .arrows svg:path {\n",
       "        stroke: #666;\n",
       "    }\n",
       "    .nodes_xSrWxrHj circle {\n",
       "    stroke: #fff;\n",
       "    stroke-width: 0.5px;\n",
       "    }\n",
       "</style>\n",
       "\n",
       "<svg width=\"400\" height=\"400\" id=\"xSrWxrHj\">        \n",
       "    <text x=\"20\" y=\"20\" font-family=\"sans-serif\" font-size=\"14px\" fill=\"#666\" style=\"cursor: pointer\"\n",
       "        id='xSrWxrHj_svg_txt'>[save svg]</text>\n",
       "</svg>\n",
       "\n",
       "<script charset=\"utf-8\" src=\"https://d3js.org/d3.v4.min.js\"></script>\n",
       "<script charset=\"utf-8\">\n",
       "\n",
       "// Load via requireJS if available (jupyter notebook environment)\n",
       "try {\n",
       "    // Problem: require.config will raise an exception when called for the second time \n",
       "    require.config({\n",
       "        paths: {\n",
       "            //d3: \"https://d3js.org/d3.v4.min\"\n",
       "            d3: \"https://d3js.org/d3.v4.min.js\".replace(\".js\", \"\")\n",
       "        }\n",
       "    });\n",
       "    console.log(\"Detected requireJS\");\n",
       "}\n",
       "catch(err){\n",
       "    // a reference error indicates that requireJS does not exist. \n",
       "    // other errors may occur due to multiple calls to config\n",
       "    if (err instanceof ReferenceError){\n",
       "        console.log(\"Detected no requireJS\");\n",
       "\n",
       "        // Helper function that waits for d3js to be loaded\n",
       "        require = function require(symbols, callback) {\n",
       "            var ms = 5;\n",
       "            window.setTimeout(function(t) {\n",
       "                if (window[symbols[0]])\n",
       "                    callback(window[symbols[0]]);\n",
       "                else \n",
       "                    window.setTimeout(arguments.callee, ms);\n",
       "            }, ms);\n",
       "        }\n",
       "    }\n",
       "}\n",
       "\n",
       "// wait until d3js has been loaded\n",
       "require([\"d3\"], function(d3) {\n",
       "    var svg = d3.select(\"#\"+\"xSrWxrHj\"), radius = 6, width = +svg.attr(\"width\"), height = +svg.attr(\"height\");\n",
       "\n",
       "    var color = d3.scaleOrdinal(d3.schemeCategory20);\n",
       "\n",
       "    var graph = {\"links\": [{\"source\": \"W02\", \"target\": \"W01\", \"color\": \"#999999\", \"width\": 0.5, \"weight\": 0.16666666666666666}, {\"source\": \"W03\", \"target\": \"W02\", \"color\": \"#999999\", \"width\": 0.5, \"weight\": 0.2}, {\"source\": \"W04\", \"target\": \"W01\", \"color\": \"#999999\", \"width\": 0.5, \"weight\": 0.16666666666666666}, {\"source\": \"W04\", \"target\": \"W02\", \"color\": \"#999999\", \"width\": 0.5, \"weight\": 0.16666666666666666}, {\"source\": \"W04\", \"target\": \"W03\", \"color\": \"#999999\", \"width\": 0.5, \"weight\": 0.2}, {\"source\": \"W05\", \"target\": \"W02\", \"color\": \"#999999\", \"width\": 0.5, \"weight\": 0.16666666666666666}, {\"source\": \"W05\", \"target\": \"W03\", \"color\": \"#999999\", \"width\": 0.5, \"weight\": 0.2}, {\"source\": \"W05\", \"target\": \"W04\", \"color\": \"#999999\", \"width\": 0.5, \"weight\": 0.16666666666666666}, {\"source\": \"W06\", \"target\": \"W01\", \"color\": \"#999999\", \"width\": 0.5, \"weight\": 0.16666666666666666}, {\"source\": \"W06\", \"target\": \"W02\", \"color\": \"#999999\", \"width\": 0.5, \"weight\": 0.16666666666666666}, {\"source\": \"W06\", \"target\": \"W03\", \"color\": \"#999999\", \"width\": 0.5, \"weight\": 0.2}, {\"source\": \"W06\", \"target\": \"W04\", \"color\": \"#999999\", \"width\": 0.5, \"weight\": 0.14285714285714285}, {\"source\": \"W06\", \"target\": \"W05\", \"color\": \"#999999\", \"width\": 0.5, \"weight\": 0.16666666666666666}, {\"source\": \"W07\", \"target\": \"W01\", \"color\": \"#999999\", \"width\": 0.5, \"weight\": 0.25}, {\"source\": \"W08\", \"target\": \"W04\", \"color\": \"#999999\", \"width\": 0.5, \"weight\": 0.3333333333333333}, {\"source\": \"W08\", \"target\": \"W05\", \"color\": \"#999999\", \"width\": 0.5, \"weight\": 0.3333333333333333}, {\"source\": \"W08\", \"target\": \"W06\", \"color\": \"#999999\", \"width\": 0.5, \"weight\": 0.3333333333333333}, {\"source\": \"W09\", \"target\": \"W01\", \"color\": \"#999999\", \"width\": 0.5, \"weight\": 0.2}, {\"source\": \"W09\", \"target\": \"W07\", \"color\": \"#999999\", \"width\": 0.5, \"weight\": 0.25}, {\"source\": \"W10\", \"target\": \"W01\", \"color\": \"#999999\", \"width\": 0.5, \"weight\": 0.16666666666666666}, {\"source\": \"W10\", \"target\": \"W02\", \"color\": \"#999999\", \"width\": 0.5, \"weight\": 0.16666666666666666}, {\"source\": \"W10\", \"target\": \"W03\", \"color\": \"#999999\", \"width\": 0.5, \"weight\": 0.2}, {\"source\": \"W10\", \"target\": \"W04\", \"color\": \"#999999\", \"width\": 0.5, \"weight\": 0.14285714285714285}, {\"source\": \"W10\", \"target\": \"W05\", \"color\": \"#999999\", \"width\": 0.5, \"weight\": 0.16666666666666666}, {\"source\": \"W10\", \"target\": \"W06\", \"color\": \"#999999\", \"width\": 0.5, \"weight\": 0.14285714285714285}, {\"source\": \"W10\", \"target\": \"W07\", \"color\": \"#999999\", \"width\": 0.5, \"weight\": 0.25}, {\"source\": \"W10\", \"target\": \"W09\", \"color\": \"#999999\", \"width\": 0.5, \"weight\": 0.2}, {\"source\": \"W11\", \"target\": \"TOR\", \"color\": \"#999999\", \"width\": 0.5, \"weight\": 0.16666666666666666}, {\"source\": \"W11\", \"target\": \"W07\", \"color\": \"#999999\", \"width\": 0.5, \"weight\": 0.25}, {\"source\": \"W11\", \"target\": \"W09\", \"color\": \"#999999\", \"width\": 0.5, \"weight\": 0.2}, {\"source\": \"W12\", \"target\": \"TOR\", \"color\": \"#999999\", \"width\": 0.5, \"weight\": 0.16666666666666666}, {\"source\": \"W12\", \"target\": \"W09\", \"color\": \"#999999\", \"width\": 0.5, \"weight\": 0.2}, {\"source\": \"W12\", \"target\": \"W11\", \"color\": \"#999999\", \"width\": 0.5, \"weight\": 0.16666666666666666}, {\"source\": \"W13\", \"target\": \"TOR\", \"color\": \"#999999\", \"width\": 0.5, \"weight\": 0.16666666666666666}, {\"source\": \"W13\", \"target\": \"W11\", \"color\": \"#999999\", \"width\": 0.5, \"weight\": 0.16666666666666666}, {\"source\": \"W13\", \"target\": \"W12\", \"color\": \"#999999\", \"width\": 0.5, \"weight\": 0.16666666666666666}, {\"source\": \"W14\", \"target\": \"TOR\", \"color\": \"#999999\", \"width\": 0.5, \"weight\": 0.16666666666666666}, {\"source\": \"W14\", \"target\": \"W11\", \"color\": \"#999999\", \"width\": 0.5, \"weight\": 0.16666666666666666}, {\"source\": \"W14\", \"target\": \"W12\", \"color\": \"#999999\", \"width\": 0.5, \"weight\": 0.16666666666666666}, {\"source\": \"W14\", \"target\": \"W13\", \"color\": \"#999999\", \"width\": 0.5, \"weight\": 0.16666666666666666}, {\"source\": \"W15\", \"target\": \"TOR\", \"color\": \"#999999\", \"width\": 0.5, \"weight\": 0.16666666666666666}, {\"source\": \"W15\", \"target\": \"W12\", \"color\": \"#999999\", \"width\": 0.5, \"weight\": 0.16666666666666666}, {\"source\": \"W15\", \"target\": \"W13\", \"color\": \"#999999\", \"width\": 0.5, \"weight\": 0.16666666666666666}, {\"source\": \"W15\", \"target\": \"W14\", \"color\": \"#999999\", \"width\": 0.5, \"weight\": 0.16666666666666666}, {\"source\": \"W16\", \"target\": \"TOR\", \"color\": \"#999999\", \"width\": 0.5, \"weight\": 0.16666666666666666}, {\"source\": \"W16\", \"target\": \"W13\", \"color\": \"#999999\", \"width\": 0.5, \"weight\": 0.16666666666666666}, {\"source\": \"W16\", \"target\": \"W14\", \"color\": \"#999999\", \"width\": 0.5, \"weight\": 0.16666666666666666}, {\"source\": \"W16\", \"target\": \"W15\", \"color\": \"#999999\", \"width\": 0.5, \"weight\": 0.16666666666666666}, {\"source\": \"W17\", \"target\": \"W15\", \"color\": \"#999999\", \"width\": 0.5, \"weight\": 0.2}, {\"source\": \"W17\", \"target\": \"W16\", \"color\": \"#999999\", \"width\": 0.5, \"weight\": 0.2}, {\"source\": \"W18\", \"target\": \"W16\", \"color\": \"#999999\", \"width\": 0.5, \"weight\": 0.2}, {\"source\": \"W18\", \"target\": \"W17\", \"color\": \"#999999\", \"width\": 0.5, \"weight\": 0.2}, {\"source\": \"W19\", \"target\": \"W16\", \"color\": \"#999999\", \"width\": 0.5, \"weight\": 0.2}, {\"source\": \"W19\", \"target\": \"W17\", \"color\": \"#999999\", \"width\": 0.5, \"weight\": 0.2}, {\"source\": \"W19\", \"target\": \"W18\", \"color\": \"#999999\", \"width\": 0.5, \"weight\": 0.2}, {\"source\": \"W20\", \"target\": \"W17\", \"color\": \"#999999\", \"width\": 0.5, \"weight\": 0.2}, {\"source\": \"W20\", \"target\": \"W18\", \"color\": \"#999999\", \"width\": 0.5, \"weight\": 0.2}, {\"source\": \"W20\", \"target\": \"W19\", \"color\": \"#999999\", \"width\": 0.5, \"weight\": 0.2}, {\"source\": \"W21\", \"target\": \"W18\", \"color\": \"#999999\", \"width\": 0.5, \"weight\": 0.2}, {\"source\": \"W21\", \"target\": \"W19\", \"color\": \"#999999\", \"width\": 0.5, \"weight\": 0.2}, {\"source\": \"W21\", \"target\": \"W20\", \"color\": \"#999999\", \"width\": 0.5, \"weight\": 0.16666666666666666}, {\"source\": \"W22\", \"target\": \"W20\", \"color\": \"#999999\", \"width\": 0.5, \"weight\": 0.25}, {\"source\": \"W22\", \"target\": \"W21\", \"color\": \"#999999\", \"width\": 0.5, \"weight\": 0.25}, {\"source\": \"W23\", \"target\": \"W20\", \"color\": \"#999999\", \"width\": 0.5, \"weight\": 0.2}, {\"source\": \"W23\", \"target\": \"W21\", \"color\": \"#999999\", \"width\": 0.5, \"weight\": 0.2}, {\"source\": \"W23\", \"target\": \"W22\", \"color\": \"#999999\", \"width\": 0.5, \"weight\": 0.25}, {\"source\": \"W24\", \"target\": \"W21\", \"color\": \"#999999\", \"width\": 0.5, \"weight\": 0.25}, {\"source\": \"W24\", \"target\": \"W22\", \"color\": \"#999999\", \"width\": 0.5, \"weight\": 0.25}, {\"source\": \"W24\", \"target\": \"W23\", \"color\": \"#999999\", \"width\": 0.5, \"weight\": 0.25}, {\"source\": \"W26\", \"target\": \"W23\", \"color\": \"#999999\", \"width\": 0.5, \"weight\": 0.25}, {\"source\": \"W26\", \"target\": \"W24\", \"color\": \"#999999\", \"width\": 0.5, \"weight\": 0.25}, {\"source\": \"W27\", \"target\": \"W26\", \"color\": \"#999999\", \"width\": 0.5, \"weight\": 0.25}, {\"source\": \"W28\", \"target\": \"W26\", \"color\": \"#999999\", \"width\": 0.5, \"weight\": 0.25}, {\"source\": \"W28\", \"target\": \"W27\", \"color\": \"#999999\", \"width\": 0.5, \"weight\": 0.25}, {\"source\": \"W29\", \"target\": \"W27\", \"color\": \"#999999\", \"width\": 0.5, \"weight\": 0.25}, {\"source\": \"W29\", \"target\": \"W28\", \"color\": \"#999999\", \"width\": 0.5, \"weight\": 0.2}, {\"source\": \"W30\", \"target\": \"W25\", \"color\": \"#999999\", \"width\": 0.5, \"weight\": 0.3333333333333333}, {\"source\": \"W30\", \"target\": \"W27\", \"color\": \"#999999\", \"width\": 0.5, \"weight\": 0.25}, {\"source\": \"W30\", \"target\": \"W28\", \"color\": \"#999999\", \"width\": 0.5, \"weight\": 0.2}, {\"source\": \"W30\", \"target\": \"W29\", \"color\": \"#999999\", \"width\": 0.5, \"weight\": 0.2}, {\"source\": \"W31\", \"target\": \"W25\", \"color\": \"#999999\", \"width\": 0.5, \"weight\": 0.3333333333333333}, {\"source\": \"W31\", \"target\": \"W28\", \"color\": \"#999999\", \"width\": 0.5, \"weight\": 0.2}, {\"source\": \"W31\", \"target\": \"W29\", \"color\": \"#999999\", \"width\": 0.5, \"weight\": 0.2}, {\"source\": \"W31\", \"target\": \"W30\", \"color\": \"#999999\", \"width\": 0.5, \"weight\": 0.2}, {\"source\": \"W32\", \"target\": \"W25\", \"color\": \"#999999\", \"width\": 0.5, \"weight\": 0.3333333333333333}, {\"source\": \"W32\", \"target\": \"W29\", \"color\": \"#999999\", \"width\": 0.5, \"weight\": 0.25}, {\"source\": \"W32\", \"target\": \"W30\", \"color\": \"#999999\", \"width\": 0.5, \"weight\": 0.25}, {\"source\": \"W32\", \"target\": \"W31\", \"color\": \"#999999\", \"width\": 0.5, \"weight\": 0.25}], \"nodes\": [{\"id\": \"W02\", \"text\": \"W02\", \"color\": \"#99ccff\", \"size\": 5.0}, {\"id\": \"W01\", \"text\": \"W01\", \"color\": \"#99ccff\", \"size\": 5.0}, {\"id\": \"W03\", \"text\": \"W03\", \"color\": \"#99ccff\", \"size\": 5.0}, {\"id\": \"W04\", \"text\": \"W04\", \"color\": \"#99ccff\", \"size\": 5.0}, {\"id\": \"W05\", \"text\": \"W05\", \"color\": \"#99ccff\", \"size\": 5.0}, {\"id\": \"W06\", \"text\": \"W06\", \"color\": \"#99ccff\", \"size\": 5.0}, {\"id\": \"W07\", \"text\": \"W07\", \"color\": \"#99ccff\", \"size\": 5.0}, {\"id\": \"W08\", \"text\": \"W08\", \"color\": \"#99ccff\", \"size\": 5.0}, {\"id\": \"W09\", \"text\": \"W09\", \"color\": \"#99ccff\", \"size\": 5.0}, {\"id\": \"W10\", \"text\": \"W10\", \"color\": \"#99ccff\", \"size\": 5.0}, {\"id\": \"W11\", \"text\": \"W11\", \"color\": \"#99ccff\", \"size\": 5.0}, {\"id\": \"TOR\", \"text\": \"TOR\", \"color\": \"#99ccff\", \"size\": 5.0}, {\"id\": \"W12\", \"text\": \"W12\", \"color\": \"#99ccff\", \"size\": 5.0}, {\"id\": \"W13\", \"text\": \"W13\", \"color\": \"#99ccff\", \"size\": 5.0}, {\"id\": \"W14\", \"text\": \"W14\", \"color\": \"#99ccff\", \"size\": 5.0}, {\"id\": \"W15\", \"text\": \"W15\", \"color\": \"#99ccff\", \"size\": 5.0}, {\"id\": \"W16\", \"text\": \"W16\", \"color\": \"#99ccff\", \"size\": 5.0}, {\"id\": \"W17\", \"text\": \"W17\", \"color\": \"#99ccff\", \"size\": 5.0}, {\"id\": \"W18\", \"text\": \"W18\", \"color\": \"#99ccff\", \"size\": 5.0}, {\"id\": \"W19\", \"text\": \"W19\", \"color\": \"#99ccff\", \"size\": 5.0}, {\"id\": \"W20\", \"text\": \"W20\", \"color\": \"#99ccff\", \"size\": 5.0}, {\"id\": \"W21\", \"text\": \"W21\", \"color\": \"#99ccff\", \"size\": 5.0}, {\"id\": \"W22\", \"text\": \"W22\", \"color\": \"#99ccff\", \"size\": 5.0}, {\"id\": \"W23\", \"text\": \"W23\", \"color\": \"#99ccff\", \"size\": 5.0}, {\"id\": \"W24\", \"text\": \"W24\", \"color\": \"#99ccff\", \"size\": 5.0}, {\"id\": \"W26\", \"text\": \"W26\", \"color\": \"#99ccff\", \"size\": 5.0}, {\"id\": \"W27\", \"text\": \"W27\", \"color\": \"#99ccff\", \"size\": 5.0}, {\"id\": \"W28\", \"text\": \"W28\", \"color\": \"#99ccff\", \"size\": 5.0}, {\"id\": \"W29\", \"text\": \"W29\", \"color\": \"#99ccff\", \"size\": 5.0}, {\"id\": \"W30\", \"text\": \"W30\", \"color\": \"#99ccff\", \"size\": 5.0}, {\"id\": \"W25\", \"text\": \"W25\", \"color\": \"#99ccff\", \"size\": 5.0}, {\"id\": \"W31\", \"text\": \"W31\", \"color\": \"#99ccff\", \"size\": 5.0}, {\"id\": \"W32\", \"text\": \"W32\", \"color\": \"#99ccff\", \"size\": 5.0}]};\n",
       "    var directed = true;\n",
       "\n",
       "    var simulation = d3.forceSimulation()        \n",
       "       .force(\"link\", d3.forceLink().id(function(d) { return d.id; }).strength(function(d){return d.weight;}))\n",
       "        .force(\"charge\", d3.forceManyBody().strength(-20).distanceMax(400))\n",
       "       .force(\"repelForce\", d3.forceManyBody().strength(-200).distanceMax(100))\n",
       "       .force(\"center\", d3.forceCenter(400 / 2, 400 / 2))\n",
       "       .alphaTarget(0.0);\n",
       "\n",
       "    svg.append(\"defs\").selectAll(\"marker\")\n",
       "        .data([\"end\"])\n",
       "    .enter().append(\"marker\")\n",
       "        .attr(\"id\", String)\n",
       "        .attr(\"viewBox\", \"0 -5 20 20\")\n",
       "        .attr(\"refX\", 34)\n",
       "        .attr(\"refY\", 0)\n",
       "        .attr(\"markerWidth\", 15)\n",
       "        .attr(\"markerHeight\", 15)\n",
       "        .attr(\"orient\", \"auto\")\n",
       "    .append(\"path\")\n",
       "        // draws a filled path (triangle) between three points\n",
       "        .attr(\"d\", \"M0,-5 L20,0 L0,5 z\")\n",
       "        .attr(\"fill\", '#999')\n",
       "        .attr(\"stroke\", 'none');\n",
       "\n",
       "    var g = svg.append(\"g\")\n",
       "        .attr(\"class\", \"everything\");\n",
       "\n",
       "    var link = g.append(\"g\")\n",
       "        .attr(\"class\", \"links_xSrWxrHj\")\n",
       "        .selectAll(\"line\")\n",
       "        .data(graph.links)\n",
       "        .enter().append(\"line\")\n",
       "        .attr(\"stroke-width\", function(d) { return d.width; })\n",
       "        .attr(\"stroke\", function(d) { return d.color; } );\n",
       "\n",
       "    if (directed)\n",
       "        link.attr(\"marker-end\", \"url(#end)\");\n",
       "\n",
       "    var node_g = g.append(\"g\")\n",
       "        .attr(\"class\", \"nodes_xSrWxrHj\")\n",
       "        .selectAll(\"circle\")\n",
       "        .data(graph.nodes)\n",
       "        .enter()\n",
       "        .append(\"g\"); \n",
       "\n",
       "    var node = node_g.append(\"circle\")\n",
       "        .attr('id', function(d) { return d.id; })\n",
       "        .attr(\"r\", function(d) { return d.size; })\n",
       "        .attr(\"fill\", function(d) { return d.color; })\n",
       "        .call(d3.drag()\n",
       "            .on(\"start\", dragstarted)\n",
       "            .on(\"drag\", dragged)\n",
       "            .on(\"end\", dragended));\n",
       "\n",
       "    var text = node_g.append(\"text\")\n",
       "    .attr(\"x\", [0, -10][0])\n",
       "    .attr(\"y\", [0, -10][1]+3)\n",
       "    .attr(\"id\", function(d) {return d.id; })\n",
       "    .attr(\"class\", \"label_xSrWxrHj\")\n",
       "    .text(function(d) { return d.id; });\n",
       "\n",
       "    node.append(\"title\")\n",
       "        .text(function(d) { return d.text; });\n",
       "\n",
       "    var zoom_handler = d3.zoom()\n",
       "        .on(\"zoom\", zoom_actions);\n",
       "    zoom_handler(svg);\n",
       "\n",
       "    // attach event handler for svg export\n",
       "    d3.select('#xSrWxrHj_svg_txt').on(\"click\", save_svg);\n",
       "\n",
       "    simulation\n",
       "        .nodes(graph.nodes)\n",
       "        .on(\"tick\", ticked);\n",
       "\n",
       "    simulation.force(\"link\")\n",
       "        .links(graph.links);\n",
       "\n",
       "    function ticked() {\n",
       "        link.attr(\"x1\", function(d) { return d.source.x; })\n",
       "            .attr(\"y1\", function(d) { return d.source.y; })\n",
       "            .attr(\"x2\", function(d) { return d.target.x; })\n",
       "            .attr(\"y2\", function(d) { return d.target.y; });\n",
       "\n",
       "         text.attr(\"transform\", transform);\n",
       "\n",
       "\n",
       "        text.attr(\"cx\", function(d) { return d.x; })\n",
       "            .attr(\"cy\", function(d) { return d.y; });\n",
       "\n",
       "        node.attr(\"cx\", function(d) { return d.x; })\n",
       "            .attr(\"cy\", function(d) { return d.y; });\n",
       "    }\n",
       "\n",
       "    function transform(d) {\n",
       "        return \"translate(\" + d.x + \",\" + d.y + \")\";\n",
       "    }\n",
       "\n",
       "    function dragstarted(d) {\n",
       "    if (!d3.event.active) simulation.alphaTarget(0.3).restart();\n",
       "    d.fx = d.x;\n",
       "    d.fy = d.y;\n",
       "    }\n",
       "\n",
       "    function zoom_actions(){\n",
       "        g.attr(\"transform\", d3.event.transform)\n",
       "    }    \n",
       "\n",
       "    function dragged(d) {\n",
       "    d.fx = d3.event.x;\n",
       "    d.fy = d3.event.y;\n",
       "    }\n",
       "\n",
       "    function dragended(d) {\n",
       "    if (!d3.event.active) simulation.alphaTarget(0);\n",
       "    d.fx = null;\n",
       "    d.fy = null;\n",
       "    }\n",
       "\n",
       "    function to_svg() {\n",
       "        // Returns a SVG representation of the current state of the visualisation\n",
       "\t    var svg  = document.getElementById('xSrWxrHj');\n",
       "\t    var xml = (new XMLSerializer).serializeToString(svg);\n",
       "        return xml;\n",
       "    }\n",
       "\n",
       "    function save_svg() {\n",
       "        var svg  = document.getElementById('xSrWxrHj');\n",
       "        var xml = (new XMLSerializer).serializeToString(svg);        \n",
       "        var blob = new Blob([xml], {type: 'text/xml'});\n",
       "        if(window.navigator.msSaveOrOpenBlob) {\n",
       "            window.navigator.msSaveBlob(blob, 'network.svg');\n",
       "        }\n",
       "        else{\n",
       "            var elem = window.document.createElement('a');\n",
       "            elem.href = window.URL.createObjectURL(blob);\n",
       "            elem.download = 'network.svg';\n",
       "            document.body.appendChild(elem);\n",
       "            elem.click();\n",
       "            document.body.removeChild(elem);\n",
       "        }\n",
       "    }\n",
       "});\n",
       "</script>"
      ],
      "text/plain": [
       "<pathpy.classes.network.Network at 0x7fc4c152b460>"
      ]
     },
     "execution_count": 30,
     "metadata": {},
     "output_type": "execute_result"
    }
   ],
   "source": [
    "euclid_graph"
   ]
  },
  {
   "cell_type": "code",
   "execution_count": 31,
   "metadata": {},
   "outputs": [
    {
     "name": "stdout",
     "output_type": "stream",
     "text": [
      "Directed network\n",
      "Nodes:\t\t\t\t33\n",
      "Links:\t\t\t\t88\n",
      "\n"
     ]
    }
   ],
   "source": [
    "print(euclid_graph)"
   ]
  },
  {
   "cell_type": "markdown",
   "metadata": {},
   "source": [
    "## Centrality Measures\n",
    "\n",
    " - Degree centrality: How many edges does a node have?\n",
    "    - A node is central if it has a high degree \n",
    "    - Out degree, in-degree, or the sum of both\n",
    " - Closeness centrality: Indicates how close a node is to all other nodes in the network\n",
    "    - Calculated as the average of the shortest path length from the node to every other node in the network"
   ]
  },
  {
   "cell_type": "code",
   "execution_count": 40,
   "metadata": {},
   "outputs": [],
   "source": [
    "def centrality_measures(graph):\n",
    "    # Calculates betweeness centrality of all nodes\n",
    "    betweenness = pp.algorithms.centralities.betweenness(graph)\n",
    "    # Calculates degree centrality of all nodes\n",
    "    degree = pp.algorithms.centralities.degree(graph)\n",
    "    # Calculates closeness centrality of all nodes\n",
    "    closeness = pp.algorithms.centralities.closeness(graph)\n",
    "    # . . .\n",
    "    distance_matrix = pp.algorithms.centralities.distance_matrix(graph)\n",
    "    # . . .\n",
    "    #rank_centrality = pp.algorithms.centralities.rank_centralities(graph)\n",
    "\n",
    "    return betweenness, degree, closeness, distance_matrix"
   ]
  },
  {
   "cell_type": "code",
   "execution_count": 70,
   "metadata": {},
   "outputs": [],
   "source": [
    "def plotter(measure, name):\n",
    "\n",
    "    df = pd.DataFrame.from_dict(\n",
    "        measure, orient='index', columns=['measure'])\n",
    "    \n",
    "    plt.figure(figsize=(14, 7))\n",
    "    plt.title(name)\n",
    "    sns.barplot(x=df.index, y=df.measure)\n",
    "    plt.xticks(rotation=45)\n",
    "    plt.xlabel('Turbine')\n",
    "    plt.ylabel('Count')"
   ]
  },
  {
   "cell_type": "code",
   "execution_count": 41,
   "metadata": {},
   "outputs": [
    {
     "name": "stdout",
     "output_type": "stream",
     "text": [
      "2022-01-10 13:47:13 [Severity.INFO]\tCalculating betweenness centralities ...\n",
      "2022-01-10 13:47:13 [Severity.INFO]\tCalculating closeness in network ...\n",
      "2022-01-10 13:47:13 [Severity.INFO]\tfinished.\n"
     ]
    }
   ],
   "source": [
    "# Euclidean Distances\n",
    "betweenness, degree, closeness, distance_matrix = centrality_measures(euclid_graph)"
   ]
  },
  {
   "cell_type": "code",
   "execution_count": 71,
   "metadata": {},
   "outputs": [
    {
     "data": {
      "image/png": "[encoded data removed]",
      "text/plain": [
       "<Figure size 1008x504 with 1 Axes>"
      ]
     },
     "metadata": {
      "needs_background": "light"
     },
     "output_type": "display_data"
    }
   ],
   "source": [
    "plotter(degree, 'Degree of Centrality')"
   ]
  },
  {
   "cell_type": "code",
   "execution_count": 74,
   "metadata": {},
   "outputs": [
    {
     "data": {
      "image/png": "[encoded data removed]",
      "text/plain": [
       "<Figure size 1008x504 with 1 Axes>"
      ]
     },
     "metadata": {
      "needs_background": "light"
     },
     "output_type": "display_data"
    }
   ],
   "source": [
    "plotter(betweenness, 'Betweeness')"
   ]
  },
  {
   "cell_type": "code",
   "execution_count": 75,
   "metadata": {},
   "outputs": [
    {
     "data": {
      "image/png": "[encoded data removed]",
      "text/plain": [
       "<Figure size 1008x504 with 1 Axes>"
      ]
     },
     "metadata": {
      "needs_background": "light"
     },
     "output_type": "display_data"
    }
   ],
   "source": [
    "plotter(closeness, 'Closeness')"
   ]
  },
  {
   "cell_type": "code",
   "execution_count": 78,
   "metadata": {},
   "outputs": [
    {
     "name": "stdout",
     "output_type": "stream",
     "text": [
      "Avg degree: 2.6666666666666665\n",
      "Avg degree: 2.6666666666666665\n"
     ]
    }
   ],
   "source": [
    "print(f\"Avg degree: {pp.statistics.mean_degree(euclid_graph, degree='indegree')}\")\n",
    "print(f\"Avg degree: {pp.statistics.mean_degree(euclid_graph, degree='outdegree')}\")"
   ]
  },
  {
   "cell_type": "code",
   "execution_count": 43,
   "metadata": {},
   "outputs": [
    {
     "name": "stdout",
     "output_type": "stream",
     "text": [
      "2022-01-10 13:48:04 [Severity.INFO]\tCalculating betweenness centralities ...\n",
      "2022-01-10 13:48:04 [Severity.INFO]\tCalculating closeness in network ...\n",
      "2022-01-10 13:48:04 [Severity.INFO]\tfinished.\n"
     ]
    }
   ],
   "source": [
    "# Haversine Distances\n",
    "betweenness_h, degree_h, closeness_h, distance_matrix_h = centrality_measures(haver_graph)"
   ]
  },
  {
   "cell_type": "code",
   "execution_count": 51,
   "metadata": {},
   "outputs": [
    {
     "name": "stdout",
     "output_type": "stream",
     "text": [
      "Avg degree: 6.787878787878788\n"
     ]
    }
   ],
   "source": [
    "print(f\"Avg degree: {pp.statistics.mean_degree(haver_graph, degree='indegree')}\")"
   ]
  },
  {
   "cell_type": "code",
   "execution_count": 73,
   "metadata": {},
   "outputs": [
    {
     "data": {
      "image/png": "[encoded data removed]",
      "text/plain": [
       "<Figure size 1008x504 with 1 Axes>"
      ]
     },
     "metadata": {
      "needs_background": "light"
     },
     "output_type": "display_data"
    }
   ],
   "source": [
    "plotter(betweenness_h, 'Betweeness')"
   ]
  },
  {
   "cell_type": "code",
   "execution_count": 72,
   "metadata": {},
   "outputs": [
    {
     "data": {
      "image/png": "[encoded data removed]",
      "text/plain": [
       "<Figure size 1008x504 with 1 Axes>"
      ]
     },
     "metadata": {
      "needs_background": "light"
     },
     "output_type": "display_data"
    }
   ],
   "source": [
    "plotter(degree_h, 'Degree of Centrality')"
   ]
  },
  {
   "cell_type": "code",
   "execution_count": 77,
   "metadata": {},
   "outputs": [
    {
     "data": {
      "image/png": "[encoded data removed]",
      "text/plain": [
       "<Figure size 1008x504 with 1 Axes>"
      ]
     },
     "metadata": {
      "needs_background": "light"
     },
     "output_type": "display_data"
    }
   ],
   "source": [
    "plotter(closeness_h, 'Closeness')"
   ]
  },
  {
   "cell_type": "code",
   "execution_count": null,
   "metadata": {},
   "outputs": [],
   "source": []
  }
 ],
 "metadata": {
  "interpreter": {
   "hash": "6ea8e6696542bf91b5850513673ceef1808937d627ee3e2c71e2007cafbd44d0"
  },
  "kernelspec": {
   "display_name": "Python 3",
   "language": "python",
   "name": "python3"
  },
  "language_info": {
   "codemirror_mode": {
    "name": "ipython",
    "version": 3
   },
   "file_extension": ".py",
   "mimetype": "text/x-python",
   "name": "python",
   "nbconvert_exporter": "python",
   "pygments_lexer": "ipython3",
   "version": "3.8.12"
  }
 },
 "nbformat": 4,
 "nbformat_minor": 2
}
