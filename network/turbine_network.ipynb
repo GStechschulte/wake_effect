{
 "cells": [
  {
   "cell_type": "code",
   "execution_count": null,
   "metadata": {},
   "outputs": [],
   "source": [
    "import numpy as np\n",
    "import pandas as pd\n",
    "from scipy.spatial import distance\n",
    "import seaborn as sns\n",
    "import matplotlib.pyplot as plt\n",
    "import pathpy as pp\n",
    "import sys\n",
    "sys.path.append('/Users/wastechs/Documents/git-repos/wake_effect/turbine_distances')\n",
    "from interaction_matrix import interaction_matrix"
   ]
  },
  {
   "cell_type": "code",
   "execution_count": null,
   "metadata": {},
   "outputs": [],
   "source": [
    "coord = pd.read_csv('/Users/wastechs/Documents/git-repos/wake_effect/data/Pos_WTG_Brasil.csv')"
   ]
  },
  {
   "cell_type": "code",
   "execution_count": null,
   "metadata": {},
   "outputs": [],
   "source": [
    "matrix = interaction_matrix(coord)"
   ]
  },
  {
   "cell_type": "code",
   "execution_count": null,
   "metadata": {},
   "outputs": [],
   "source": [
    "haver_interaction_full = matrix.calculate_haver(tri=False, plot=True)"
   ]
  },
  {
   "cell_type": "code",
   "execution_count": null,
   "metadata": {},
   "outputs": [],
   "source": [
    "haver_interaction_tri = matrix.calculate_haver(True, True)"
   ]
  },
  {
   "cell_type": "code",
   "execution_count": null,
   "metadata": {},
   "outputs": [],
   "source": [
    "euclid_interaction_full_v1 = matrix.calculate_euclidean(threshold=0.004, tri=False, plot=False)\n",
    "euclid_interaction_full_v2 = matrix.calculate_euclidean(threshold=0.003, tri=False, plot=False)\n",
    "euclid_interaction_full_v3 = matrix.calculate_euclidean(threshold=0.0035, tri=False, plot=False)"
   ]
  },
  {
   "cell_type": "code",
   "execution_count": null,
   "metadata": {},
   "outputs": [],
   "source": [
    "euclid_interaction_tri_v1 = matrix.calculate_euclidean(threshold=0.004, tri=True, plot=False)\n",
    "euclid_interaction_tri_v2 = matrix.calculate_euclidean(threshold=0.003, tri=True, plot=False)\n",
    "euclid_interaction_tri_v3 = matrix.calculate_euclidean(threshold=0.0035, tri=True, plot=False)"
   ]
  },
  {
   "cell_type": "markdown",
   "metadata": {},
   "source": [
    "## Building the Network\n",
    "\n",
    "if 1 then .add_edge between the two nodes (turbines) else nothing"
   ]
  },
  {
   "cell_type": "code",
   "execution_count": null,
   "metadata": {},
   "outputs": [],
   "source": [
    "def build_network(interaction, directed=bool):\n",
    "    \n",
    "    graph = pp.Network(directed=directed)\n",
    "    \n",
    "    cnt = 0\n",
    "    for row in range(0, 33):\n",
    "        for turb1 in interaction.iloc[[row]].index:\n",
    "            for int, adj_turb in zip(interaction.values[row], interaction.columns):\n",
    "                cnt += 1\n",
    "                if int == 1:\n",
    "                    graph.add_edge(turb1, adj_turb)\n",
    "                else:\n",
    "                    pass\n",
    "\n",
    "    print(cnt)\n",
    "    return graph"
   ]
  },
  {
   "cell_type": "code",
   "execution_count": null,
   "metadata": {},
   "outputs": [],
   "source": [
    "haver_full = build_network(haver_interaction_full, True)\n",
    "haver_tri = build_network(haver_interaction_tri, True)"
   ]
  },
  {
   "cell_type": "code",
   "execution_count": null,
   "metadata": {},
   "outputs": [],
   "source": [
    "haver_tri"
   ]
  },
  {
   "cell_type": "code",
   "execution_count": null,
   "metadata": {},
   "outputs": [],
   "source": [
    "haver_full"
   ]
  },
  {
   "cell_type": "code",
   "execution_count": null,
   "metadata": {},
   "outputs": [],
   "source": [
    "euclid_full_v1 = build_network(euclid_interaction_full_v1, True)\n",
    "euclid_tri_v1 = build_network(euclid_interaction_tri_v1, True)"
   ]
  },
  {
   "cell_type": "code",
   "execution_count": null,
   "metadata": {},
   "outputs": [],
   "source": [
    "euclid_full_v2 = build_network(euclid_interaction_full_v2, True)\n",
    "euclid_tri_v2 = build_network(euclid_interaction_tri_v2, True)"
   ]
  },
  {
   "cell_type": "code",
   "execution_count": null,
   "metadata": {},
   "outputs": [],
   "source": [
    "euclid_full_v3 = build_network(euclid_interaction_full_v3, True)\n",
    "euclid_tri_v3 = build_network(euclid_interaction_tri_v3, True)"
   ]
  },
  {
   "cell_type": "code",
   "execution_count": 38,
   "metadata": {},
   "outputs": [
    {
     "data": {
      "text/html": [
       "<style>\n",
       "    text.label_PJnuQoDR {\n",
       "        text-anchor: middle;\n",
       "        font-size: 8px;\n",
       "        font-family: Arial, Helvetica, sans-serif;\n",
       "        fill: #999999;\n",
       "        stroke: #ffffff;\n",
       "        stroke-width: 0.1px;\n",
       "        opacity: 1.0;\n",
       "    }\n",
       "    .links_PJnuQoDR line {\n",
       "    stroke-opacity: 1.0;\n",
       "    }\n",
       "    .arrows svg:path {\n",
       "        stroke: #666;\n",
       "    }\n",
       "    .nodes_PJnuQoDR circle {\n",
       "    stroke: #fff;\n",
       "    stroke-width: 0.5px;\n",
       "    }\n",
       "</style>\n",
       "\n",
       "<svg width=\"400\" height=\"400\" id=\"PJnuQoDR\">        \n",
       "    <text x=\"20\" y=\"20\" font-family=\"sans-serif\" font-size=\"14px\" fill=\"#666\" style=\"cursor: pointer\"\n",
       "        id='PJnuQoDR_svg_txt'>[save svg]</text>\n",
       "</svg>\n",
       "\n",
       "<script charset=\"utf-8\" src=\"https://d3js.org/d3.v4.min.js\"></script>\n",
       "<script charset=\"utf-8\">\n",
       "\n",
       "// Load via requireJS if available (jupyter notebook environment)\n",
       "try {\n",
       "    // Problem: require.config will raise an exception when called for the second time \n",
       "    require.config({\n",
       "        paths: {\n",
       "            //d3: \"https://d3js.org/d3.v4.min\"\n",
       "            d3: \"https://d3js.org/d3.v4.min.js\".replace(\".js\", \"\")\n",
       "        }\n",
       "    });\n",
       "    console.log(\"Detected requireJS\");\n",
       "}\n",
       "catch(err){\n",
       "    // a reference error indicates that requireJS does not exist. \n",
       "    // other errors may occur due to multiple calls to config\n",
       "    if (err instanceof ReferenceError){\n",
       "        console.log(\"Detected no requireJS\");\n",
       "\n",
       "        // Helper function that waits for d3js to be loaded\n",
       "        require = function require(symbols, callback) {\n",
       "            var ms = 5;\n",
       "            window.setTimeout(function(t) {\n",
       "                if (window[symbols[0]])\n",
       "                    callback(window[symbols[0]]);\n",
       "                else \n",
       "                    window.setTimeout(arguments.callee, ms);\n",
       "            }, ms);\n",
       "        }\n",
       "    }\n",
       "}\n",
       "\n",
       "// wait until d3js has been loaded\n",
       "require([\"d3\"], function(d3) {\n",
       "    var svg = d3.select(\"#\"+\"PJnuQoDR\"), radius = 6, width = +svg.attr(\"width\"), height = +svg.attr(\"height\");\n",
       "\n",
       "    var color = d3.scaleOrdinal(d3.schemeCategory20);\n",
       "\n",
       "    var graph = {\"links\": [{\"source\": \"W02\", \"target\": \"W01\", \"color\": \"#999999\", \"width\": 0.5, \"weight\": 0.16666666666666666}, {\"source\": \"W03\", \"target\": \"W02\", \"color\": \"#999999\", \"width\": 0.5, \"weight\": 0.2}, {\"source\": \"W04\", \"target\": \"W01\", \"color\": \"#999999\", \"width\": 0.5, \"weight\": 0.16666666666666666}, {\"source\": \"W04\", \"target\": \"W02\", \"color\": \"#999999\", \"width\": 0.5, \"weight\": 0.16666666666666666}, {\"source\": \"W04\", \"target\": \"W03\", \"color\": \"#999999\", \"width\": 0.5, \"weight\": 0.2}, {\"source\": \"W05\", \"target\": \"W02\", \"color\": \"#999999\", \"width\": 0.5, \"weight\": 0.2}, {\"source\": \"W05\", \"target\": \"W03\", \"color\": \"#999999\", \"width\": 0.5, \"weight\": 0.2}, {\"source\": \"W05\", \"target\": \"W04\", \"color\": \"#999999\", \"width\": 0.5, \"weight\": 0.2}, {\"source\": \"W06\", \"target\": \"W01\", \"color\": \"#999999\", \"width\": 0.5, \"weight\": 0.16666666666666666}, {\"source\": \"W06\", \"target\": \"W02\", \"color\": \"#999999\", \"width\": 0.5, \"weight\": 0.16666666666666666}, {\"source\": \"W06\", \"target\": \"W03\", \"color\": \"#999999\", \"width\": 0.5, \"weight\": 0.2}, {\"source\": \"W06\", \"target\": \"W04\", \"color\": \"#999999\", \"width\": 0.5, \"weight\": 0.14285714285714285}, {\"source\": \"W06\", \"target\": \"W05\", \"color\": \"#999999\", \"width\": 0.5, \"weight\": 0.2}, {\"source\": \"W07\", \"target\": \"W01\", \"color\": \"#999999\", \"width\": 0.5, \"weight\": 0.25}, {\"source\": \"W08\", \"target\": \"W04\", \"color\": \"#999999\", \"width\": 0.5, \"weight\": 0.3333333333333333}, {\"source\": \"W08\", \"target\": \"W05\", \"color\": \"#999999\", \"width\": 0.5, \"weight\": 0.3333333333333333}, {\"source\": \"W08\", \"target\": \"W06\", \"color\": \"#999999\", \"width\": 0.5, \"weight\": 0.3333333333333333}, {\"source\": \"W09\", \"target\": \"W01\", \"color\": \"#999999\", \"width\": 0.5, \"weight\": 0.25}, {\"source\": \"W09\", \"target\": \"W07\", \"color\": \"#999999\", \"width\": 0.5, \"weight\": 0.25}, {\"source\": \"W10\", \"target\": \"W01\", \"color\": \"#999999\", \"width\": 0.5, \"weight\": 0.16666666666666666}, {\"source\": \"W10\", \"target\": \"W02\", \"color\": \"#999999\", \"width\": 0.5, \"weight\": 0.16666666666666666}, {\"source\": \"W10\", \"target\": \"W03\", \"color\": \"#999999\", \"width\": 0.5, \"weight\": 0.2}, {\"source\": \"W10\", \"target\": \"W04\", \"color\": \"#999999\", \"width\": 0.5, \"weight\": 0.16666666666666666}, {\"source\": \"W10\", \"target\": \"W06\", \"color\": \"#999999\", \"width\": 0.5, \"weight\": 0.16666666666666666}, {\"source\": \"W10\", \"target\": \"W07\", \"color\": \"#999999\", \"width\": 0.5, \"weight\": 0.25}, {\"source\": \"W11\", \"target\": \"TOR\", \"color\": \"#999999\", \"width\": 0.5, \"weight\": 0.2}, {\"source\": \"W11\", \"target\": \"W07\", \"color\": \"#999999\", \"width\": 0.5, \"weight\": 0.25}, {\"source\": \"W11\", \"target\": \"W09\", \"color\": \"#999999\", \"width\": 0.5, \"weight\": 0.25}, {\"source\": \"W12\", \"target\": \"TOR\", \"color\": \"#999999\", \"width\": 0.5, \"weight\": 0.2}, {\"source\": \"W12\", \"target\": \"W09\", \"color\": \"#999999\", \"width\": 0.5, \"weight\": 0.25}, {\"source\": \"W12\", \"target\": \"W11\", \"color\": \"#999999\", \"width\": 0.5, \"weight\": 0.2}, {\"source\": \"W13\", \"target\": \"TOR\", \"color\": \"#999999\", \"width\": 0.5, \"weight\": 0.2}, {\"source\": \"W13\", \"target\": \"W11\", \"color\": \"#999999\", \"width\": 0.5, \"weight\": 0.2}, {\"source\": \"W13\", \"target\": \"W12\", \"color\": \"#999999\", \"width\": 0.5, \"weight\": 0.2}, {\"source\": \"W14\", \"target\": \"TOR\", \"color\": \"#999999\", \"width\": 0.5, \"weight\": 0.2}, {\"source\": \"W14\", \"target\": \"W12\", \"color\": \"#999999\", \"width\": 0.5, \"weight\": 0.2}, {\"source\": \"W14\", \"target\": \"W13\", \"color\": \"#999999\", \"width\": 0.5, \"weight\": 0.2}, {\"source\": \"W15\", \"target\": \"TOR\", \"color\": \"#999999\", \"width\": 0.5, \"weight\": 0.2}, {\"source\": \"W15\", \"target\": \"W13\", \"color\": \"#999999\", \"width\": 0.5, \"weight\": 0.2}, {\"source\": \"W15\", \"target\": \"W14\", \"color\": \"#999999\", \"width\": 0.5, \"weight\": 0.2}, {\"source\": \"W16\", \"target\": \"W14\", \"color\": \"#999999\", \"width\": 0.5, \"weight\": 0.25}, {\"source\": \"W16\", \"target\": \"W15\", \"color\": \"#999999\", \"width\": 0.5, \"weight\": 0.25}, {\"source\": \"W17\", \"target\": \"W15\", \"color\": \"#999999\", \"width\": 0.5, \"weight\": 0.25}, {\"source\": \"W17\", \"target\": \"W16\", \"color\": \"#999999\", \"width\": 0.5, \"weight\": 0.25}, {\"source\": \"W18\", \"target\": \"W16\", \"color\": \"#999999\", \"width\": 0.5, \"weight\": 0.25}, {\"source\": \"W18\", \"target\": \"W17\", \"color\": \"#999999\", \"width\": 0.5, \"weight\": 0.25}, {\"source\": \"W19\", \"target\": \"W17\", \"color\": \"#999999\", \"width\": 0.5, \"weight\": 0.25}, {\"source\": \"W19\", \"target\": \"W18\", \"color\": \"#999999\", \"width\": 0.5, \"weight\": 0.25}, {\"source\": \"W20\", \"target\": \"W18\", \"color\": \"#999999\", \"width\": 0.5, \"weight\": 0.3333333333333333}, {\"source\": \"W20\", \"target\": \"W19\", \"color\": \"#999999\", \"width\": 0.5, \"weight\": 0.3333333333333333}, {\"source\": \"W21\", \"target\": \"W19\", \"color\": \"#999999\", \"width\": 0.5, \"weight\": 0.25}, {\"source\": \"W21\", \"target\": \"W20\", \"color\": \"#999999\", \"width\": 0.5, \"weight\": 0.3333333333333333}, {\"source\": \"W22\", \"target\": \"W21\", \"color\": \"#999999\", \"width\": 0.5, \"weight\": 0.3333333333333333}, {\"source\": \"W23\", \"target\": \"W21\", \"color\": \"#999999\", \"width\": 0.5, \"weight\": 0.25}, {\"source\": \"W23\", \"target\": \"W22\", \"color\": \"#999999\", \"width\": 0.5, \"weight\": 0.3333333333333333}, {\"source\": \"W24\", \"target\": \"W21\", \"color\": \"#999999\", \"width\": 0.5, \"weight\": 0.25}, {\"source\": \"W24\", \"target\": \"W22\", \"color\": \"#999999\", \"width\": 0.5, \"weight\": 0.3333333333333333}, {\"source\": \"W24\", \"target\": \"W23\", \"color\": \"#999999\", \"width\": 0.5, \"weight\": 0.25}, {\"source\": \"W26\", \"target\": \"W23\", \"color\": \"#999999\", \"width\": 0.5, \"weight\": 0.3333333333333333}, {\"source\": \"W26\", \"target\": \"W24\", \"color\": \"#999999\", \"width\": 0.5, \"weight\": 0.3333333333333333}, {\"source\": \"W27\", \"target\": \"W26\", \"color\": \"#999999\", \"width\": 0.5, \"weight\": 0.3333333333333333}, {\"source\": \"W28\", \"target\": \"W27\", \"color\": \"#999999\", \"width\": 0.5, \"weight\": 0.25}, {\"source\": \"W29\", \"target\": \"W27\", \"color\": \"#999999\", \"width\": 0.5, \"weight\": 0.25}, {\"source\": \"W29\", \"target\": \"W28\", \"color\": \"#999999\", \"width\": 0.5, \"weight\": 0.25}, {\"source\": \"W30\", \"target\": \"W27\", \"color\": \"#999999\", \"width\": 0.5, \"weight\": 0.25}, {\"source\": \"W30\", \"target\": \"W28\", \"color\": \"#999999\", \"width\": 0.5, \"weight\": 0.25}, {\"source\": \"W30\", \"target\": \"W29\", \"color\": \"#999999\", \"width\": 0.5, \"weight\": 0.25}, {\"source\": \"W31\", \"target\": \"W25\", \"color\": \"#999999\", \"width\": 0.5, \"weight\": 0.5}, {\"source\": \"W31\", \"target\": \"W28\", \"color\": \"#999999\", \"width\": 0.5, \"weight\": 0.25}, {\"source\": \"W31\", \"target\": \"W29\", \"color\": \"#999999\", \"width\": 0.5, \"weight\": 0.25}, {\"source\": \"W31\", \"target\": \"W30\", \"color\": \"#999999\", \"width\": 0.5, \"weight\": 0.2}, {\"source\": \"W32\", \"target\": \"W25\", \"color\": \"#999999\", \"width\": 0.5, \"weight\": 0.5}, {\"source\": \"W32\", \"target\": \"W30\", \"color\": \"#999999\", \"width\": 0.5, \"weight\": 0.3333333333333333}, {\"source\": \"W32\", \"target\": \"W31\", \"color\": \"#999999\", \"width\": 0.5, \"weight\": 0.3333333333333333}], \"nodes\": [{\"id\": \"W02\", \"text\": \"W02\", \"color\": \"#99ccff\", \"size\": 5.0}, {\"id\": \"W01\", \"text\": \"W01\", \"color\": \"#99ccff\", \"size\": 5.0}, {\"id\": \"W03\", \"text\": \"W03\", \"color\": \"#99ccff\", \"size\": 5.0}, {\"id\": \"W04\", \"text\": \"W04\", \"color\": \"#99ccff\", \"size\": 5.0}, {\"id\": \"W05\", \"text\": \"W05\", \"color\": \"#99ccff\", \"size\": 5.0}, {\"id\": \"W06\", \"text\": \"W06\", \"color\": \"#99ccff\", \"size\": 5.0}, {\"id\": \"W07\", \"text\": \"W07\", \"color\": \"#99ccff\", \"size\": 5.0}, {\"id\": \"W08\", \"text\": \"W08\", \"color\": \"#99ccff\", \"size\": 5.0}, {\"id\": \"W09\", \"text\": \"W09\", \"color\": \"#99ccff\", \"size\": 5.0}, {\"id\": \"W10\", \"text\": \"W10\", \"color\": \"#99ccff\", \"size\": 5.0}, {\"id\": \"W11\", \"text\": \"W11\", \"color\": \"#99ccff\", \"size\": 5.0}, {\"id\": \"TOR\", \"text\": \"TOR\", \"color\": \"#99ccff\", \"size\": 5.0}, {\"id\": \"W12\", \"text\": \"W12\", \"color\": \"#99ccff\", \"size\": 5.0}, {\"id\": \"W13\", \"text\": \"W13\", \"color\": \"#99ccff\", \"size\": 5.0}, {\"id\": \"W14\", \"text\": \"W14\", \"color\": \"#99ccff\", \"size\": 5.0}, {\"id\": \"W15\", \"text\": \"W15\", \"color\": \"#99ccff\", \"size\": 5.0}, {\"id\": \"W16\", \"text\": \"W16\", \"color\": \"#99ccff\", \"size\": 5.0}, {\"id\": \"W17\", \"text\": \"W17\", \"color\": \"#99ccff\", \"size\": 5.0}, {\"id\": \"W18\", \"text\": \"W18\", \"color\": \"#99ccff\", \"size\": 5.0}, {\"id\": \"W19\", \"text\": \"W19\", \"color\": \"#99ccff\", \"size\": 5.0}, {\"id\": \"W20\", \"text\": \"W20\", \"color\": \"#99ccff\", \"size\": 5.0}, {\"id\": \"W21\", \"text\": \"W21\", \"color\": \"#99ccff\", \"size\": 5.0}, {\"id\": \"W22\", \"text\": \"W22\", \"color\": \"#99ccff\", \"size\": 5.0}, {\"id\": \"W23\", \"text\": \"W23\", \"color\": \"#99ccff\", \"size\": 5.0}, {\"id\": \"W24\", \"text\": \"W24\", \"color\": \"#99ccff\", \"size\": 5.0}, {\"id\": \"W26\", \"text\": \"W26\", \"color\": \"#99ccff\", \"size\": 5.0}, {\"id\": \"W27\", \"text\": \"W27\", \"color\": \"#99ccff\", \"size\": 5.0}, {\"id\": \"W28\", \"text\": \"W28\", \"color\": \"#99ccff\", \"size\": 5.0}, {\"id\": \"W29\", \"text\": \"W29\", \"color\": \"#99ccff\", \"size\": 5.0}, {\"id\": \"W30\", \"text\": \"W30\", \"color\": \"#99ccff\", \"size\": 5.0}, {\"id\": \"W31\", \"text\": \"W31\", \"color\": \"#99ccff\", \"size\": 5.0}, {\"id\": \"W25\", \"text\": \"W25\", \"color\": \"#99ccff\", \"size\": 5.0}, {\"id\": \"W32\", \"text\": \"W32\", \"color\": \"#99ccff\", \"size\": 5.0}]};\n",
       "    var directed = true;\n",
       "\n",
       "    var simulation = d3.forceSimulation()        \n",
       "       .force(\"link\", d3.forceLink().id(function(d) { return d.id; }).strength(function(d){return d.weight;}))\n",
       "        .force(\"charge\", d3.forceManyBody().strength(-20).distanceMax(400))\n",
       "       .force(\"repelForce\", d3.forceManyBody().strength(-200).distanceMax(100))\n",
       "       .force(\"center\", d3.forceCenter(400 / 2, 400 / 2))\n",
       "       .alphaTarget(0.0);\n",
       "\n",
       "    svg.append(\"defs\").selectAll(\"marker\")\n",
       "        .data([\"end\"])\n",
       "    .enter().append(\"marker\")\n",
       "        .attr(\"id\", String)\n",
       "        .attr(\"viewBox\", \"0 -5 20 20\")\n",
       "        .attr(\"refX\", 34)\n",
       "        .attr(\"refY\", 0)\n",
       "        .attr(\"markerWidth\", 15)\n",
       "        .attr(\"markerHeight\", 15)\n",
       "        .attr(\"orient\", \"auto\")\n",
       "    .append(\"path\")\n",
       "        // draws a filled path (triangle) between three points\n",
       "        .attr(\"d\", \"M0,-5 L20,0 L0,5 z\")\n",
       "        .attr(\"fill\", '#999')\n",
       "        .attr(\"stroke\", 'none');\n",
       "\n",
       "    var g = svg.append(\"g\")\n",
       "        .attr(\"class\", \"everything\");\n",
       "\n",
       "    var link = g.append(\"g\")\n",
       "        .attr(\"class\", \"links_PJnuQoDR\")\n",
       "        .selectAll(\"line\")\n",
       "        .data(graph.links)\n",
       "        .enter().append(\"line\")\n",
       "        .attr(\"stroke-width\", function(d) { return d.width; })\n",
       "        .attr(\"stroke\", function(d) { return d.color; } );\n",
       "\n",
       "    if (directed)\n",
       "        link.attr(\"marker-end\", \"url(#end)\");\n",
       "\n",
       "    var node_g = g.append(\"g\")\n",
       "        .attr(\"class\", \"nodes_PJnuQoDR\")\n",
       "        .selectAll(\"circle\")\n",
       "        .data(graph.nodes)\n",
       "        .enter()\n",
       "        .append(\"g\"); \n",
       "\n",
       "    var node = node_g.append(\"circle\")\n",
       "        .attr('id', function(d) { return d.id; })\n",
       "        .attr(\"r\", function(d) { return d.size; })\n",
       "        .attr(\"fill\", function(d) { return d.color; })\n",
       "        .call(d3.drag()\n",
       "            .on(\"start\", dragstarted)\n",
       "            .on(\"drag\", dragged)\n",
       "            .on(\"end\", dragended));\n",
       "\n",
       "    var text = node_g.append(\"text\")\n",
       "    .attr(\"x\", [0, -10][0])\n",
       "    .attr(\"y\", [0, -10][1]+3)\n",
       "    .attr(\"id\", function(d) {return d.id; })\n",
       "    .attr(\"class\", \"label_PJnuQoDR\")\n",
       "    .text(function(d) { return d.id; });\n",
       "\n",
       "    node.append(\"title\")\n",
       "        .text(function(d) { return d.text; });\n",
       "\n",
       "    var zoom_handler = d3.zoom()\n",
       "        .on(\"zoom\", zoom_actions);\n",
       "    zoom_handler(svg);\n",
       "\n",
       "    // attach event handler for svg export\n",
       "    d3.select('#PJnuQoDR_svg_txt').on(\"click\", save_svg);\n",
       "\n",
       "    simulation\n",
       "        .nodes(graph.nodes)\n",
       "        .on(\"tick\", ticked);\n",
       "\n",
       "    simulation.force(\"link\")\n",
       "        .links(graph.links);\n",
       "\n",
       "    function ticked() {\n",
       "        link.attr(\"x1\", function(d) { return d.source.x; })\n",
       "            .attr(\"y1\", function(d) { return d.source.y; })\n",
       "            .attr(\"x2\", function(d) { return d.target.x; })\n",
       "            .attr(\"y2\", function(d) { return d.target.y; });\n",
       "\n",
       "         text.attr(\"transform\", transform);\n",
       "\n",
       "\n",
       "        text.attr(\"cx\", function(d) { return d.x; })\n",
       "            .attr(\"cy\", function(d) { return d.y; });\n",
       "\n",
       "        node.attr(\"cx\", function(d) { return d.x; })\n",
       "            .attr(\"cy\", function(d) { return d.y; });\n",
       "    }\n",
       "\n",
       "    function transform(d) {\n",
       "        return \"translate(\" + d.x + \",\" + d.y + \")\";\n",
       "    }\n",
       "\n",
       "    function dragstarted(d) {\n",
       "    if (!d3.event.active) simulation.alphaTarget(0.3).restart();\n",
       "    d.fx = d.x;\n",
       "    d.fy = d.y;\n",
       "    }\n",
       "\n",
       "    function zoom_actions(){\n",
       "        g.attr(\"transform\", d3.event.transform)\n",
       "    }    \n",
       "\n",
       "    function dragged(d) {\n",
       "    d.fx = d3.event.x;\n",
       "    d.fy = d3.event.y;\n",
       "    }\n",
       "\n",
       "    function dragended(d) {\n",
       "    if (!d3.event.active) simulation.alphaTarget(0);\n",
       "    d.fx = null;\n",
       "    d.fy = null;\n",
       "    }\n",
       "\n",
       "    function to_svg() {\n",
       "        // Returns a SVG representation of the current state of the visualisation\n",
       "\t    var svg  = document.getElementById('PJnuQoDR');\n",
       "\t    var xml = (new XMLSerializer).serializeToString(svg);\n",
       "        return xml;\n",
       "    }\n",
       "\n",
       "    function save_svg() {\n",
       "        var svg  = document.getElementById('PJnuQoDR');\n",
       "        var xml = (new XMLSerializer).serializeToString(svg);        \n",
       "        var blob = new Blob([xml], {type: 'text/xml'});\n",
       "        if(window.navigator.msSaveOrOpenBlob) {\n",
       "            window.navigator.msSaveBlob(blob, 'network.svg');\n",
       "        }\n",
       "        else{\n",
       "            var elem = window.document.createElement('a');\n",
       "            elem.href = window.URL.createObjectURL(blob);\n",
       "            elem.download = 'network.svg';\n",
       "            document.body.appendChild(elem);\n",
       "            elem.click();\n",
       "            document.body.removeChild(elem);\n",
       "        }\n",
       "    }\n",
       "});\n",
       "</script>"
      ],
      "text/plain": [
       "<pathpy.classes.network.Network at 0x7fa8606bf8b0>"
      ]
     },
     "execution_count": 38,
     "metadata": {},
     "output_type": "execute_result"
    }
   ],
   "source": [
    "euclid_tri_v3"
   ]
  },
  {
   "cell_type": "markdown",
   "metadata": {},
   "source": [
    "## Centrality Measures\n",
    "\n",
    " - Degree centrality: How many edges does a node have?\n",
    "    - A node is central if it has a high degree \n",
    "    - Out degree, in-degree, or the sum of both\n",
    " - Closeness centrality: Indicates how close a node is to all other nodes in the network\n",
    "    - Calculated as the average of the shortest path length from the node to every other node in the network"
   ]
  },
  {
   "cell_type": "code",
   "execution_count": null,
   "metadata": {},
   "outputs": [],
   "source": [
    "def centrality_measures(graph):\n",
    "    # Calculates betweeness centrality of all nodes\n",
    "    betweenness = pp.algorithms.centralities.betweenness(graph)\n",
    "    # Calculates degree centrality of all nodes\n",
    "    degree = pp.algorithms.centralities.degree(graph)\n",
    "    # Calculates closeness centrality of all nodes\n",
    "    closeness = pp.algorithms.centralities.closeness(graph)\n",
    "    # . . .\n",
    "    distance_matrix = pp.algorithms.centralities.distance_matrix(graph)\n",
    "    # . . .\n",
    "    #rank_centrality = pp.algorithms.centralities.rank_centralities(graph)\n",
    "\n",
    "    return betweenness, degree, closeness, distance_matrix"
   ]
  },
  {
   "cell_type": "code",
   "execution_count": null,
   "metadata": {},
   "outputs": [],
   "source": [
    "def plotter(measure, name):\n",
    "\n",
    "    df = pd.DataFrame.from_dict(\n",
    "        measure, orient='index', columns=['measure'])\n",
    "    \n",
    "    plt.figure(figsize=(14, 7))\n",
    "    plt.title(name)\n",
    "    sns.barplot(x=df.index, y=df.measure, palette='deep')\n",
    "    plt.xticks(rotation=45)\n",
    "    plt.xlabel('Turbine')\n",
    "    plt.ylabel('Count')\n",
    "    plt.show()"
   ]
  },
  {
   "cell_type": "code",
   "execution_count": null,
   "metadata": {},
   "outputs": [],
   "source": [
    "# Euclidean Distances\n",
    "betweenness, degree, closeness, distance_matrix = centrality_measures(euclid_tri_v1)\n",
    "\n",
    "plotter(degree, 'Degree of Centrality')\n",
    "plotter(betweenness, 'Betweeness')\n",
    "plotter(closeness, 'Closeness')"
   ]
  },
  {
   "cell_type": "code",
   "execution_count": null,
   "metadata": {},
   "outputs": [],
   "source": [
    "print(f\"Avg degree: {pp.statistics.mean_degree(euclid_graph, degree='indegree')}\")\n",
    "print(f\"Avg degree: {pp.statistics.mean_degree(euclid_graph, degree='outdegree')}\")"
   ]
  },
  {
   "cell_type": "code",
   "execution_count": 39,
   "metadata": {},
   "outputs": [
    {
     "name": "stdout",
     "output_type": "stream",
     "text": [
      "2022-01-14 16:48:49 [Severity.INFO]\tCalculating betweenness centralities ...\n",
      "2022-01-14 16:48:49 [Severity.INFO]\tCalculating closeness in network ...\n",
      "2022-01-14 16:48:49 [Severity.INFO]\tfinished.\n"
     ]
    },
    {
     "data": {
      "image/png": "[encoded data removed]",
      "text/plain": [
       "<Figure size 1008x504 with 1 Axes>"
      ]
     },
     "metadata": {
      "needs_background": "light"
     },
     "output_type": "display_data"
    },
    {
     "data": {
      "image/png": "[encoded data removed]",
      "text/plain": [
       "<Figure size 1008x504 with 1 Axes>"
      ]
     },
     "metadata": {
      "needs_background": "light"
     },
     "output_type": "display_data"
    },
    {
     "data": {
      "image/png": "[encoded data removed]",
      "text/plain": [
       "<Figure size 1008x504 with 1 Axes>"
      ]
     },
     "metadata": {
      "needs_background": "light"
     },
     "output_type": "display_data"
    }
   ],
   "source": [
    "# Euclidean Distances\n",
    "betweenness, degree, closeness, distance_matrix = centrality_measures(euclid_tri_v2)\n",
    "\n",
    "plotter(degree, 'Degree of Centrality')\n",
    "plotter(betweenness, 'Betweeness')\n",
    "plotter(closeness, 'Closeness')"
   ]
  },
  {
   "cell_type": "code",
   "execution_count": null,
   "metadata": {},
   "outputs": [],
   "source": [
    "# Euclidean Distances\n",
    "betweenness, degree, closeness, distance_matrix = centrality_measures(euclid_full_v2)\n",
    "\n",
    "plotter(degree, 'Degree of Centrality')\n",
    "plotter(betweenness, 'Betweeness')\n",
    "plotter(closeness, 'Closeness')"
   ]
  },
  {
   "cell_type": "code",
   "execution_count": null,
   "metadata": {},
   "outputs": [],
   "source": [
    "# Haversine Distances\n",
    "betweenness_h, degree_h, closeness_h, distance_matrix_h = centrality_measures(haver_full)"
   ]
  },
  {
   "cell_type": "code",
   "execution_count": null,
   "metadata": {},
   "outputs": [],
   "source": [
    "print(f\"Avg degree: {pp.statistics.mean_degree(haver_graph, degree='indegree')}\")"
   ]
  },
  {
   "cell_type": "code",
   "execution_count": null,
   "metadata": {},
   "outputs": [],
   "source": [
    "plotter(betweenness_h, 'Betweeness')"
   ]
  },
  {
   "cell_type": "code",
   "execution_count": null,
   "metadata": {},
   "outputs": [],
   "source": [
    "plotter(degree_h, 'Degree of Centrality')"
   ]
  },
  {
   "cell_type": "code",
   "execution_count": null,
   "metadata": {},
   "outputs": [],
   "source": [
    "plotter(closeness_h, 'Closeness')"
   ]
  },
  {
   "cell_type": "code",
   "execution_count": null,
   "metadata": {},
   "outputs": [],
   "source": []
  }
 ],
 "metadata": {
  "interpreter": {
   "hash": "6ea8e6696542bf91b5850513673ceef1808937d627ee3e2c71e2007cafbd44d0"
  },
  "kernelspec": {
   "display_name": "Python 3",
   "language": "python",
   "name": "python3"
  },
  "language_info": {
   "codemirror_mode": {
    "name": "ipython",
    "version": 3
   },
   "file_extension": ".py",
   "mimetype": "text/x-python",
   "name": "python",
   "nbconvert_exporter": "python",
   "pygments_lexer": "ipython3",
   "version": "3.8.12"
  }
 },
 "nbformat": 4,
 "nbformat_minor": 2
}
