{
 "cells": [
  {
   "cell_type": "code",
   "execution_count": 13,
   "metadata": {},
   "outputs": [],
   "source": [
    "import numpy as np\n",
    "import pandas as pd\n",
    "from scipy.spatial import distance\n",
    "import seaborn as sns\n",
    "import matplotlib.pyplot as plt\n",
    "import networkx\n",
    "import pathpy as pp"
   ]
  },
  {
   "cell_type": "code",
   "execution_count": 4,
   "metadata": {},
   "outputs": [],
   "source": [
    "coord = pd.read_csv('/Users/wastechs/Documents/git-repos/wake_effect/data/Pos_WTG_Brasil.csv')"
   ]
  },
  {
   "cell_type": "code",
   "execution_count": 5,
   "metadata": {},
   "outputs": [
    {
     "data": {
      "text/html": [
       "<div>\n",
       "<style scoped>\n",
       "    .dataframe tbody tr th:only-of-type {\n",
       "        vertical-align: middle;\n",
       "    }\n",
       "\n",
       "    .dataframe tbody tr th {\n",
       "        vertical-align: top;\n",
       "    }\n",
       "\n",
       "    .dataframe thead th {\n",
       "        text-align: right;\n",
       "    }\n",
       "</style>\n",
       "<table border=\"1\" class=\"dataframe\">\n",
       "  <thead>\n",
       "    <tr style=\"text-align: right;\">\n",
       "      <th></th>\n",
       "      <th>WTG</th>\n",
       "      <th>Alt.</th>\n",
       "      <th>Lat.</th>\n",
       "      <th>Long.</th>\n",
       "    </tr>\n",
       "  </thead>\n",
       "  <tbody>\n",
       "    <tr>\n",
       "      <th>0</th>\n",
       "      <td>TOR</td>\n",
       "      <td>41.5</td>\n",
       "      <td>-4.190</td>\n",
       "      <td>-38.080</td>\n",
       "    </tr>\n",
       "    <tr>\n",
       "      <th>1</th>\n",
       "      <td>W01</td>\n",
       "      <td>33.9</td>\n",
       "      <td>-4.185</td>\n",
       "      <td>-38.084</td>\n",
       "    </tr>\n",
       "    <tr>\n",
       "      <th>2</th>\n",
       "      <td>W02</td>\n",
       "      <td>32.5</td>\n",
       "      <td>-4.183</td>\n",
       "      <td>-38.086</td>\n",
       "    </tr>\n",
       "    <tr>\n",
       "      <th>3</th>\n",
       "      <td>W03</td>\n",
       "      <td>42.6</td>\n",
       "      <td>-4.183</td>\n",
       "      <td>-38.088</td>\n",
       "    </tr>\n",
       "    <tr>\n",
       "      <th>4</th>\n",
       "      <td>W04</td>\n",
       "      <td>42.1</td>\n",
       "      <td>-4.184</td>\n",
       "      <td>-38.087</td>\n",
       "    </tr>\n",
       "  </tbody>\n",
       "</table>\n",
       "</div>"
      ],
      "text/plain": [
       "   WTG  Alt.   Lat.   Long.\n",
       "0  TOR  41.5 -4.190 -38.080\n",
       "1  W01  33.9 -4.185 -38.084\n",
       "2  W02  32.5 -4.183 -38.086\n",
       "3  W03  42.6 -4.183 -38.088\n",
       "4  W04  42.1 -4.184 -38.087"
      ]
     },
     "execution_count": 5,
     "metadata": {},
     "output_type": "execute_result"
    }
   ],
   "source": [
    "coord.head()"
   ]
  },
  {
   "cell_type": "code",
   "execution_count": 6,
   "metadata": {},
   "outputs": [],
   "source": [
    "lat = coord['Lat.'].values\n",
    "long = coord['Long.'].values\n",
    "\n",
    "coords = []\n",
    "\n",
    "for lat, long in zip(lat, long):\n",
    "    coords.append((lat, long))\n",
    "\n",
    "euclid_distances = pd.DataFrame(\n",
    "    distance.cdist(coords, coords, 'euclidean'), \n",
    "    columns=coord['WTG'],\n",
    "    index = coord['WTG'])\n",
    "\n",
    "subset_proximity = euclid_distances[(euclid_distances <= 0.004) & (euclid_distances > 0.0)]\n",
    "subset_proximity.fillna(value=0, inplace=True)\n",
    "subset_proximity[subset_proximity > 0] = 1"
   ]
  },
  {
   "cell_type": "code",
   "execution_count": 7,
   "metadata": {},
   "outputs": [
    {
     "data": {
      "image/png": "[encoded data removed]",
      "text/plain": [
       "<Figure size 864x576 with 2 Axes>"
      ]
     },
     "metadata": {
      "needs_background": "light"
     },
     "output_type": "display_data"
    }
   ],
   "source": [
    "plt.figure(figsize=(12, 8))\n",
    "sns.heatmap(subset_proximity)\n",
    "plt.title('Interaction Matrix')\n",
    "plt.show()"
   ]
  },
  {
   "cell_type": "markdown",
   "metadata": {},
   "source": [
    "## Building the Network\n",
    "\n",
    "if 1 then .add_edge between the two nodes (turbines) else nothing\n",
    "\n",
    "_Notes_:\n",
    "\n",
    "Should use a triangular matrix due to commutative property. Then, could use a weighting to represent density (how many other turbines a turbine has a connection to)"
   ]
  },
  {
   "cell_type": "code",
   "execution_count": 168,
   "metadata": {},
   "outputs": [],
   "source": [
    "turb_graph = pp.Network(directed=False)"
   ]
  },
  {
   "cell_type": "code",
   "execution_count": 169,
   "metadata": {},
   "outputs": [
    {
     "name": "stdout",
     "output_type": "stream",
     "text": [
      "1089\n"
     ]
    }
   ],
   "source": [
    "cnt = 0\n",
    "\n",
    "for row in range(0, 33):\n",
    "    for turb1 in subset_proximity.iloc[[row]].index:\n",
    "        for int, adj_turb in zip(subset_proximity.values[row], subset_proximity.columns):\n",
    "            cnt += 1\n",
    "            if int == 1:\n",
    "                turb_graph.add_edge(turb1, adj_turb)\n",
    "                #print(turb1, '&', adj_turb)\n",
    "            else:\n",
    "                pass\n",
    "\n",
    "print(cnt)\n"
   ]
  },
  {
   "cell_type": "code",
   "execution_count": 170,
   "metadata": {},
   "outputs": [
    {
     "data": {
      "text/html": [
       "<style>\n",
       "    text.label_DaJyxiuR {\n",
       "        text-anchor: middle;\n",
       "        font-size: 8px;\n",
       "        font-family: Arial, Helvetica, sans-serif;\n",
       "        fill: #999999;\n",
       "        stroke: #ffffff;\n",
       "        stroke-width: 0.1px;\n",
       "        opacity: 1.0;\n",
       "    }\n",
       "    .links_DaJyxiuR line {\n",
       "    stroke-opacity: 1.0;\n",
       "    }\n",
       "    .arrows svg:path {\n",
       "        stroke: #666;\n",
       "    }\n",
       "    .nodes_DaJyxiuR circle {\n",
       "    stroke: #fff;\n",
       "    stroke-width: 0.5px;\n",
       "    }\n",
       "</style>\n",
       "\n",
       "<svg width=\"400\" height=\"400\" id=\"DaJyxiuR\">        \n",
       "    <text x=\"20\" y=\"20\" font-family=\"sans-serif\" font-size=\"14px\" fill=\"#666\" style=\"cursor: pointer\"\n",
       "        id='DaJyxiuR_svg_txt'>[save svg]</text>\n",
       "</svg>\n",
       "\n",
       "<script charset=\"utf-8\" src=\"https://d3js.org/d3.v4.min.js\"></script>\n",
       "<script charset=\"utf-8\">\n",
       "\n",
       "// Load via requireJS if available (jupyter notebook environment)\n",
       "try {\n",
       "    // Problem: require.config will raise an exception when called for the second time \n",
       "    require.config({\n",
       "        paths: {\n",
       "            //d3: \"https://d3js.org/d3.v4.min\"\n",
       "            d3: \"https://d3js.org/d3.v4.min.js\".replace(\".js\", \"\")\n",
       "        }\n",
       "    });\n",
       "    console.log(\"Detected requireJS\");\n",
       "}\n",
       "catch(err){\n",
       "    // a reference error indicates that requireJS does not exist. \n",
       "    // other errors may occur due to multiple calls to config\n",
       "    if (err instanceof ReferenceError){\n",
       "        console.log(\"Detected no requireJS\");\n",
       "\n",
       "        // Helper function that waits for d3js to be loaded\n",
       "        require = function require(symbols, callback) {\n",
       "            var ms = 5;\n",
       "            window.setTimeout(function(t) {\n",
       "                if (window[symbols[0]])\n",
       "                    callback(window[symbols[0]]);\n",
       "                else \n",
       "                    window.setTimeout(arguments.callee, ms);\n",
       "            }, ms);\n",
       "        }\n",
       "    }\n",
       "}\n",
       "\n",
       "// wait until d3js has been loaded\n",
       "require([\"d3\"], function(d3) {\n",
       "    var svg = d3.select(\"#\"+\"DaJyxiuR\"), radius = 6, width = +svg.attr(\"width\"), height = +svg.attr(\"height\");\n",
       "\n",
       "    var color = d3.scaleOrdinal(d3.schemeCategory20);\n",
       "\n",
       "    var graph = {\"links\": [{\"source\": \"TOR\", \"target\": \"W11\", \"color\": \"#999999\", \"width\": 0.5, \"weight\": 0.08333333333333333}, {\"source\": \"TOR\", \"target\": \"W12\", \"color\": \"#999999\", \"width\": 0.5, \"weight\": 0.08333333333333333}, {\"source\": \"TOR\", \"target\": \"W13\", \"color\": \"#999999\", \"width\": 0.5, \"weight\": 0.08333333333333333}, {\"source\": \"TOR\", \"target\": \"W14\", \"color\": \"#999999\", \"width\": 0.5, \"weight\": 0.08333333333333333}, {\"source\": \"TOR\", \"target\": \"W15\", \"color\": \"#999999\", \"width\": 0.5, \"weight\": 0.08333333333333333}, {\"source\": \"TOR\", \"target\": \"W16\", \"color\": \"#999999\", \"width\": 0.5, \"weight\": 0.08333333333333333}, {\"source\": \"W01\", \"target\": \"W02\", \"color\": \"#999999\", \"width\": 0.5, \"weight\": 0.08333333333333333}, {\"source\": \"W01\", \"target\": \"W04\", \"color\": \"#999999\", \"width\": 0.5, \"weight\": 0.08333333333333333}, {\"source\": \"W01\", \"target\": \"W06\", \"color\": \"#999999\", \"width\": 0.5, \"weight\": 0.08333333333333333}, {\"source\": \"W01\", \"target\": \"W07\", \"color\": \"#999999\", \"width\": 0.5, \"weight\": 0.125}, {\"source\": \"W01\", \"target\": \"W09\", \"color\": \"#999999\", \"width\": 0.5, \"weight\": 0.1}, {\"source\": \"W01\", \"target\": \"W10\", \"color\": \"#999999\", \"width\": 0.5, \"weight\": 0.08333333333333333}, {\"source\": \"W02\", \"target\": \"W03\", \"color\": \"#999999\", \"width\": 0.5, \"weight\": 0.1}, {\"source\": \"W02\", \"target\": \"W04\", \"color\": \"#999999\", \"width\": 0.5, \"weight\": 0.08333333333333333}, {\"source\": \"W02\", \"target\": \"W05\", \"color\": \"#999999\", \"width\": 0.5, \"weight\": 0.08333333333333333}, {\"source\": \"W02\", \"target\": \"W06\", \"color\": \"#999999\", \"width\": 0.5, \"weight\": 0.08333333333333333}, {\"source\": \"W02\", \"target\": \"W10\", \"color\": \"#999999\", \"width\": 0.5, \"weight\": 0.08333333333333333}, {\"source\": \"W03\", \"target\": \"W04\", \"color\": \"#999999\", \"width\": 0.5, \"weight\": 0.1}, {\"source\": \"W03\", \"target\": \"W05\", \"color\": \"#999999\", \"width\": 0.5, \"weight\": 0.1}, {\"source\": \"W03\", \"target\": \"W06\", \"color\": \"#999999\", \"width\": 0.5, \"weight\": 0.1}, {\"source\": \"W03\", \"target\": \"W10\", \"color\": \"#999999\", \"width\": 0.5, \"weight\": 0.1}, {\"source\": \"W04\", \"target\": \"W05\", \"color\": \"#999999\", \"width\": 0.5, \"weight\": 0.08333333333333333}, {\"source\": \"W04\", \"target\": \"W06\", \"color\": \"#999999\", \"width\": 0.5, \"weight\": 0.07142857142857142}, {\"source\": \"W04\", \"target\": \"W08\", \"color\": \"#999999\", \"width\": 0.5, \"weight\": 0.16666666666666666}, {\"source\": \"W04\", \"target\": \"W10\", \"color\": \"#999999\", \"width\": 0.5, \"weight\": 0.07142857142857142}, {\"source\": \"W05\", \"target\": \"W06\", \"color\": \"#999999\", \"width\": 0.5, \"weight\": 0.08333333333333333}, {\"source\": \"W05\", \"target\": \"W08\", \"color\": \"#999999\", \"width\": 0.5, \"weight\": 0.16666666666666666}, {\"source\": \"W05\", \"target\": \"W10\", \"color\": \"#999999\", \"width\": 0.5, \"weight\": 0.08333333333333333}, {\"source\": \"W06\", \"target\": \"W08\", \"color\": \"#999999\", \"width\": 0.5, \"weight\": 0.16666666666666666}, {\"source\": \"W06\", \"target\": \"W10\", \"color\": \"#999999\", \"width\": 0.5, \"weight\": 0.07142857142857142}, {\"source\": \"W07\", \"target\": \"W09\", \"color\": \"#999999\", \"width\": 0.5, \"weight\": 0.125}, {\"source\": \"W07\", \"target\": \"W10\", \"color\": \"#999999\", \"width\": 0.5, \"weight\": 0.125}, {\"source\": \"W07\", \"target\": \"W11\", \"color\": \"#999999\", \"width\": 0.5, \"weight\": 0.125}, {\"source\": \"W09\", \"target\": \"W10\", \"color\": \"#999999\", \"width\": 0.5, \"weight\": 0.1}, {\"source\": \"W09\", \"target\": \"W11\", \"color\": \"#999999\", \"width\": 0.5, \"weight\": 0.1}, {\"source\": \"W09\", \"target\": \"W12\", \"color\": \"#999999\", \"width\": 0.5, \"weight\": 0.1}, {\"source\": \"W11\", \"target\": \"W12\", \"color\": \"#999999\", \"width\": 0.5, \"weight\": 0.08333333333333333}, {\"source\": \"W11\", \"target\": \"W13\", \"color\": \"#999999\", \"width\": 0.5, \"weight\": 0.08333333333333333}, {\"source\": \"W11\", \"target\": \"W14\", \"color\": \"#999999\", \"width\": 0.5, \"weight\": 0.08333333333333333}, {\"source\": \"W12\", \"target\": \"W13\", \"color\": \"#999999\", \"width\": 0.5, \"weight\": 0.08333333333333333}, {\"source\": \"W12\", \"target\": \"W14\", \"color\": \"#999999\", \"width\": 0.5, \"weight\": 0.08333333333333333}, {\"source\": \"W12\", \"target\": \"W15\", \"color\": \"#999999\", \"width\": 0.5, \"weight\": 0.08333333333333333}, {\"source\": \"W13\", \"target\": \"W14\", \"color\": \"#999999\", \"width\": 0.5, \"weight\": 0.08333333333333333}, {\"source\": \"W13\", \"target\": \"W15\", \"color\": \"#999999\", \"width\": 0.5, \"weight\": 0.08333333333333333}, {\"source\": \"W13\", \"target\": \"W16\", \"color\": \"#999999\", \"width\": 0.5, \"weight\": 0.08333333333333333}, {\"source\": \"W14\", \"target\": \"W15\", \"color\": \"#999999\", \"width\": 0.5, \"weight\": 0.08333333333333333}, {\"source\": \"W14\", \"target\": \"W16\", \"color\": \"#999999\", \"width\": 0.5, \"weight\": 0.08333333333333333}, {\"source\": \"W15\", \"target\": \"W16\", \"color\": \"#999999\", \"width\": 0.5, \"weight\": 0.08333333333333333}, {\"source\": \"W15\", \"target\": \"W17\", \"color\": \"#999999\", \"width\": 0.5, \"weight\": 0.1}, {\"source\": \"W16\", \"target\": \"W17\", \"color\": \"#999999\", \"width\": 0.5, \"weight\": 0.1}, {\"source\": \"W16\", \"target\": \"W18\", \"color\": \"#999999\", \"width\": 0.5, \"weight\": 0.1}, {\"source\": \"W16\", \"target\": \"W19\", \"color\": \"#999999\", \"width\": 0.5, \"weight\": 0.1}, {\"source\": \"W17\", \"target\": \"W18\", \"color\": \"#999999\", \"width\": 0.5, \"weight\": 0.1}, {\"source\": \"W17\", \"target\": \"W19\", \"color\": \"#999999\", \"width\": 0.5, \"weight\": 0.1}, {\"source\": \"W17\", \"target\": \"W20\", \"color\": \"#999999\", \"width\": 0.5, \"weight\": 0.1}, {\"source\": \"W18\", \"target\": \"W19\", \"color\": \"#999999\", \"width\": 0.5, \"weight\": 0.1}, {\"source\": \"W18\", \"target\": \"W20\", \"color\": \"#999999\", \"width\": 0.5, \"weight\": 0.1}, {\"source\": \"W18\", \"target\": \"W21\", \"color\": \"#999999\", \"width\": 0.5, \"weight\": 0.1}, {\"source\": \"W19\", \"target\": \"W20\", \"color\": \"#999999\", \"width\": 0.5, \"weight\": 0.1}, {\"source\": \"W19\", \"target\": \"W21\", \"color\": \"#999999\", \"width\": 0.5, \"weight\": 0.1}, {\"source\": \"W20\", \"target\": \"W21\", \"color\": \"#999999\", \"width\": 0.5, \"weight\": 0.08333333333333333}, {\"source\": \"W20\", \"target\": \"W22\", \"color\": \"#999999\", \"width\": 0.5, \"weight\": 0.125}, {\"source\": \"W20\", \"target\": \"W23\", \"color\": \"#999999\", \"width\": 0.5, \"weight\": 0.1}, {\"source\": \"W21\", \"target\": \"W22\", \"color\": \"#999999\", \"width\": 0.5, \"weight\": 0.125}, {\"source\": \"W21\", \"target\": \"W23\", \"color\": \"#999999\", \"width\": 0.5, \"weight\": 0.1}, {\"source\": \"W21\", \"target\": \"W24\", \"color\": \"#999999\", \"width\": 0.5, \"weight\": 0.125}, {\"source\": \"W22\", \"target\": \"W23\", \"color\": \"#999999\", \"width\": 0.5, \"weight\": 0.125}, {\"source\": \"W22\", \"target\": \"W24\", \"color\": \"#999999\", \"width\": 0.5, \"weight\": 0.125}, {\"source\": \"W23\", \"target\": \"W24\", \"color\": \"#999999\", \"width\": 0.5, \"weight\": 0.125}, {\"source\": \"W23\", \"target\": \"W26\", \"color\": \"#999999\", \"width\": 0.5, \"weight\": 0.125}, {\"source\": \"W24\", \"target\": \"W26\", \"color\": \"#999999\", \"width\": 0.5, \"weight\": 0.125}, {\"source\": \"W25\", \"target\": \"W30\", \"color\": \"#999999\", \"width\": 0.5, \"weight\": 0.16666666666666666}, {\"source\": \"W25\", \"target\": \"W31\", \"color\": \"#999999\", \"width\": 0.5, \"weight\": 0.16666666666666666}, {\"source\": \"W25\", \"target\": \"W32\", \"color\": \"#999999\", \"width\": 0.5, \"weight\": 0.16666666666666666}, {\"source\": \"W26\", \"target\": \"W27\", \"color\": \"#999999\", \"width\": 0.5, \"weight\": 0.125}, {\"source\": \"W26\", \"target\": \"W28\", \"color\": \"#999999\", \"width\": 0.5, \"weight\": 0.125}, {\"source\": \"W27\", \"target\": \"W28\", \"color\": \"#999999\", \"width\": 0.5, \"weight\": 0.125}, {\"source\": \"W27\", \"target\": \"W29\", \"color\": \"#999999\", \"width\": 0.5, \"weight\": 0.125}, {\"source\": \"W27\", \"target\": \"W30\", \"color\": \"#999999\", \"width\": 0.5, \"weight\": 0.125}, {\"source\": \"W28\", \"target\": \"W29\", \"color\": \"#999999\", \"width\": 0.5, \"weight\": 0.1}, {\"source\": \"W28\", \"target\": \"W30\", \"color\": \"#999999\", \"width\": 0.5, \"weight\": 0.1}, {\"source\": \"W28\", \"target\": \"W31\", \"color\": \"#999999\", \"width\": 0.5, \"weight\": 0.1}, {\"source\": \"W29\", \"target\": \"W30\", \"color\": \"#999999\", \"width\": 0.5, \"weight\": 0.1}, {\"source\": \"W29\", \"target\": \"W31\", \"color\": \"#999999\", \"width\": 0.5, \"weight\": 0.1}, {\"source\": \"W29\", \"target\": \"W32\", \"color\": \"#999999\", \"width\": 0.5, \"weight\": 0.125}, {\"source\": \"W30\", \"target\": \"W31\", \"color\": \"#999999\", \"width\": 0.5, \"weight\": 0.1}, {\"source\": \"W30\", \"target\": \"W32\", \"color\": \"#999999\", \"width\": 0.5, \"weight\": 0.125}, {\"source\": \"W31\", \"target\": \"W32\", \"color\": \"#999999\", \"width\": 0.5, \"weight\": 0.125}], \"nodes\": [{\"id\": \"TOR\", \"text\": \"TOR\", \"color\": \"#99ccff\", \"size\": 5.0}, {\"id\": \"W11\", \"text\": \"W11\", \"color\": \"#99ccff\", \"size\": 5.0}, {\"id\": \"W12\", \"text\": \"W12\", \"color\": \"#99ccff\", \"size\": 5.0}, {\"id\": \"W13\", \"text\": \"W13\", \"color\": \"#99ccff\", \"size\": 5.0}, {\"id\": \"W14\", \"text\": \"W14\", \"color\": \"#99ccff\", \"size\": 5.0}, {\"id\": \"W15\", \"text\": \"W15\", \"color\": \"#99ccff\", \"size\": 5.0}, {\"id\": \"W16\", \"text\": \"W16\", \"color\": \"#99ccff\", \"size\": 5.0}, {\"id\": \"W01\", \"text\": \"W01\", \"color\": \"#99ccff\", \"size\": 5.0}, {\"id\": \"W02\", \"text\": \"W02\", \"color\": \"#99ccff\", \"size\": 5.0}, {\"id\": \"W04\", \"text\": \"W04\", \"color\": \"#99ccff\", \"size\": 5.0}, {\"id\": \"W06\", \"text\": \"W06\", \"color\": \"#99ccff\", \"size\": 5.0}, {\"id\": \"W07\", \"text\": \"W07\", \"color\": \"#99ccff\", \"size\": 5.0}, {\"id\": \"W09\", \"text\": \"W09\", \"color\": \"#99ccff\", \"size\": 5.0}, {\"id\": \"W10\", \"text\": \"W10\", \"color\": \"#99ccff\", \"size\": 5.0}, {\"id\": \"W03\", \"text\": \"W03\", \"color\": \"#99ccff\", \"size\": 5.0}, {\"id\": \"W05\", \"text\": \"W05\", \"color\": \"#99ccff\", \"size\": 5.0}, {\"id\": \"W08\", \"text\": \"W08\", \"color\": \"#99ccff\", \"size\": 5.0}, {\"id\": \"W17\", \"text\": \"W17\", \"color\": \"#99ccff\", \"size\": 5.0}, {\"id\": \"W18\", \"text\": \"W18\", \"color\": \"#99ccff\", \"size\": 5.0}, {\"id\": \"W19\", \"text\": \"W19\", \"color\": \"#99ccff\", \"size\": 5.0}, {\"id\": \"W20\", \"text\": \"W20\", \"color\": \"#99ccff\", \"size\": 5.0}, {\"id\": \"W21\", \"text\": \"W21\", \"color\": \"#99ccff\", \"size\": 5.0}, {\"id\": \"W22\", \"text\": \"W22\", \"color\": \"#99ccff\", \"size\": 5.0}, {\"id\": \"W23\", \"text\": \"W23\", \"color\": \"#99ccff\", \"size\": 5.0}, {\"id\": \"W24\", \"text\": \"W24\", \"color\": \"#99ccff\", \"size\": 5.0}, {\"id\": \"W26\", \"text\": \"W26\", \"color\": \"#99ccff\", \"size\": 5.0}, {\"id\": \"W25\", \"text\": \"W25\", \"color\": \"#99ccff\", \"size\": 5.0}, {\"id\": \"W30\", \"text\": \"W30\", \"color\": \"#99ccff\", \"size\": 5.0}, {\"id\": \"W31\", \"text\": \"W31\", \"color\": \"#99ccff\", \"size\": 5.0}, {\"id\": \"W32\", \"text\": \"W32\", \"color\": \"#99ccff\", \"size\": 5.0}, {\"id\": \"W27\", \"text\": \"W27\", \"color\": \"#99ccff\", \"size\": 5.0}, {\"id\": \"W28\", \"text\": \"W28\", \"color\": \"#99ccff\", \"size\": 5.0}, {\"id\": \"W29\", \"text\": \"W29\", \"color\": \"#99ccff\", \"size\": 5.0}]};\n",
       "    var directed = false;\n",
       "\n",
       "    var simulation = d3.forceSimulation()        \n",
       "       .force(\"link\", d3.forceLink().id(function(d) { return d.id; }).strength(function(d){return d.weight;}))\n",
       "        .force(\"charge\", d3.forceManyBody().strength(-20).distanceMax(400))\n",
       "       .force(\"repelForce\", d3.forceManyBody().strength(-200).distanceMax(100))\n",
       "       .force(\"center\", d3.forceCenter(400 / 2, 400 / 2))\n",
       "       .alphaTarget(0.0);\n",
       "\n",
       "    svg.append(\"defs\").selectAll(\"marker\")\n",
       "        .data([\"end\"])\n",
       "    .enter().append(\"marker\")\n",
       "        .attr(\"id\", String)\n",
       "        .attr(\"viewBox\", \"0 -5 20 20\")\n",
       "        .attr(\"refX\", 34)\n",
       "        .attr(\"refY\", 0)\n",
       "        .attr(\"markerWidth\", 15)\n",
       "        .attr(\"markerHeight\", 15)\n",
       "        .attr(\"orient\", \"auto\")\n",
       "    .append(\"path\")\n",
       "        // draws a filled path (triangle) between three points\n",
       "        .attr(\"d\", \"M0,-5 L20,0 L0,5 z\")\n",
       "        .attr(\"fill\", '#999')\n",
       "        .attr(\"stroke\", 'none');\n",
       "\n",
       "    var g = svg.append(\"g\")\n",
       "        .attr(\"class\", \"everything\");\n",
       "\n",
       "    var link = g.append(\"g\")\n",
       "        .attr(\"class\", \"links_DaJyxiuR\")\n",
       "        .selectAll(\"line\")\n",
       "        .data(graph.links)\n",
       "        .enter().append(\"line\")\n",
       "        .attr(\"stroke-width\", function(d) { return d.width; })\n",
       "        .attr(\"stroke\", function(d) { return d.color; } );\n",
       "\n",
       "    if (directed)\n",
       "        link.attr(\"marker-end\", \"url(#end)\");\n",
       "\n",
       "    var node_g = g.append(\"g\")\n",
       "        .attr(\"class\", \"nodes_DaJyxiuR\")\n",
       "        .selectAll(\"circle\")\n",
       "        .data(graph.nodes)\n",
       "        .enter()\n",
       "        .append(\"g\"); \n",
       "\n",
       "    var node = node_g.append(\"circle\")\n",
       "        .attr('id', function(d) { return d.id; })\n",
       "        .attr(\"r\", function(d) { return d.size; })\n",
       "        .attr(\"fill\", function(d) { return d.color; })\n",
       "        .call(d3.drag()\n",
       "            .on(\"start\", dragstarted)\n",
       "            .on(\"drag\", dragged)\n",
       "            .on(\"end\", dragended));\n",
       "\n",
       "    var text = node_g.append(\"text\")\n",
       "    .attr(\"x\", [0, -10][0])\n",
       "    .attr(\"y\", [0, -10][1]+3)\n",
       "    .attr(\"id\", function(d) {return d.id; })\n",
       "    .attr(\"class\", \"label_DaJyxiuR\")\n",
       "    .text(function(d) { return d.id; });\n",
       "\n",
       "    node.append(\"title\")\n",
       "        .text(function(d) { return d.text; });\n",
       "\n",
       "    var zoom_handler = d3.zoom()\n",
       "        .on(\"zoom\", zoom_actions);\n",
       "    zoom_handler(svg);\n",
       "\n",
       "    // attach event handler for svg export\n",
       "    d3.select('#DaJyxiuR_svg_txt').on(\"click\", save_svg);\n",
       "\n",
       "    simulation\n",
       "        .nodes(graph.nodes)\n",
       "        .on(\"tick\", ticked);\n",
       "\n",
       "    simulation.force(\"link\")\n",
       "        .links(graph.links);\n",
       "\n",
       "    function ticked() {\n",
       "        link.attr(\"x1\", function(d) { return d.source.x; })\n",
       "            .attr(\"y1\", function(d) { return d.source.y; })\n",
       "            .attr(\"x2\", function(d) { return d.target.x; })\n",
       "            .attr(\"y2\", function(d) { return d.target.y; });\n",
       "\n",
       "         text.attr(\"transform\", transform);\n",
       "\n",
       "\n",
       "        text.attr(\"cx\", function(d) { return d.x; })\n",
       "            .attr(\"cy\", function(d) { return d.y; });\n",
       "\n",
       "        node.attr(\"cx\", function(d) { return d.x; })\n",
       "            .attr(\"cy\", function(d) { return d.y; });\n",
       "    }\n",
       "\n",
       "    function transform(d) {\n",
       "        return \"translate(\" + d.x + \",\" + d.y + \")\";\n",
       "    }\n",
       "\n",
       "    function dragstarted(d) {\n",
       "    if (!d3.event.active) simulation.alphaTarget(0.3).restart();\n",
       "    d.fx = d.x;\n",
       "    d.fy = d.y;\n",
       "    }\n",
       "\n",
       "    function zoom_actions(){\n",
       "        g.attr(\"transform\", d3.event.transform)\n",
       "    }    \n",
       "\n",
       "    function dragged(d) {\n",
       "    d.fx = d3.event.x;\n",
       "    d.fy = d3.event.y;\n",
       "    }\n",
       "\n",
       "    function dragended(d) {\n",
       "    if (!d3.event.active) simulation.alphaTarget(0);\n",
       "    d.fx = null;\n",
       "    d.fy = null;\n",
       "    }\n",
       "\n",
       "    function to_svg() {\n",
       "        // Returns a SVG representation of the current state of the visualisation\n",
       "\t    var svg  = document.getElementById('DaJyxiuR');\n",
       "\t    var xml = (new XMLSerializer).serializeToString(svg);\n",
       "        return xml;\n",
       "    }\n",
       "\n",
       "    function save_svg() {\n",
       "        var svg  = document.getElementById('DaJyxiuR');\n",
       "        var xml = (new XMLSerializer).serializeToString(svg);        \n",
       "        var blob = new Blob([xml], {type: 'text/xml'});\n",
       "        if(window.navigator.msSaveOrOpenBlob) {\n",
       "            window.navigator.msSaveBlob(blob, 'network.svg');\n",
       "        }\n",
       "        else{\n",
       "            var elem = window.document.createElement('a');\n",
       "            elem.href = window.URL.createObjectURL(blob);\n",
       "            elem.download = 'network.svg';\n",
       "            document.body.appendChild(elem);\n",
       "            elem.click();\n",
       "            document.body.removeChild(elem);\n",
       "        }\n",
       "    }\n",
       "});\n",
       "</script>"
      ],
      "text/plain": [
       "<pathpy.classes.network.Network at 0x7fe6fa272f70>"
      ]
     },
     "execution_count": 170,
     "metadata": {},
     "output_type": "execute_result"
    }
   ],
   "source": [
    "turb_graph"
   ]
  },
  {
   "cell_type": "code",
   "execution_count": 147,
   "metadata": {},
   "outputs": [
    {
     "name": "stdout",
     "output_type": "stream",
     "text": [
      "Undirected network\n",
      "Nodes:\t\t\t\t33\n",
      "Links:\t\t\t\t88\n",
      "\n"
     ]
    }
   ],
   "source": [
    "print(turb_graph)"
   ]
  },
  {
   "cell_type": "code",
   "execution_count": 150,
   "metadata": {},
   "outputs": [
    {
     "name": "stdout",
     "output_type": "stream",
     "text": [
      "2022-01-05 17:54:06 [Severity.INFO]\tCalculating betweenness centralities ...\n"
     ]
    },
    {
     "data": {
      "text/plain": [
       "defaultdict(<function pathpy.algorithms.centralities.betweenness.<locals>.<lambda>()>,\n",
       "            {'W11': 123.16873394071143,\n",
       "             'W07': 45.5411857707512,\n",
       "             'W09': 325.0670559874895,\n",
       "             'W12': 301.2295945728805,\n",
       "             'W01': 94.99999999999969,\n",
       "             'W10': 206.0000000000015,\n",
       "             'W04': 23.999999999999854,\n",
       "             'W05': 11.99999999999995,\n",
       "             'W06': 23.999999999999854,\n",
       "             'W15': 285.7748041714642,\n",
       "             'W16': 207.97988304736265,\n",
       "             'W17': 295.7674834457959,\n",
       "             'W19': 79.86741141032455,\n",
       "             'W18': 79.86741141032455,\n",
       "             'W20': 325.21229111804195,\n",
       "             'W21': 119.10098322729935,\n",
       "             'W23': 319.48108733372055,\n",
       "             'W24': 50.770402930403186,\n",
       "             'W26': 350.00000000000307,\n",
       "             'W27': 90.13333333333364,\n",
       "             'W30': 61.466666666666974,\n",
       "             'W28': 170.53333333333478,\n",
       "             'W31': 30.066666666666666,\n",
       "             'W29': 23.133333333333265,\n",
       "             'W14': 48.30672712310399,\n",
       "             'W13': 48.30672712310399,\n",
       "             'TOR': 48.30672712310399,\n",
       "             'W22': 2.251490264121843,\n",
       "             'W02': 1.0,\n",
       "             'W32': 0.6666666666666666,\n",
       "             'W03': 0,\n",
       "             'W08': 0,\n",
       "             'W25': 0})"
      ]
     },
     "execution_count": 150,
     "metadata": {},
     "output_type": "execute_result"
    }
   ],
   "source": [
    "pp.algorithms.centralities.betweenness(turb_graph)"
   ]
  },
  {
   "cell_type": "code",
   "execution_count": null,
   "metadata": {},
   "outputs": [],
   "source": []
  }
 ],
 "metadata": {
  "interpreter": {
   "hash": "6ea8e6696542bf91b5850513673ceef1808937d627ee3e2c71e2007cafbd44d0"
  },
  "kernelspec": {
   "display_name": "Python 3",
   "language": "python",
   "name": "python3"
  },
  "language_info": {
   "codemirror_mode": {
    "name": "ipython",
    "version": 3
   },
   "file_extension": ".py",
   "mimetype": "text/x-python",
   "name": "python",
   "nbconvert_exporter": "python",
   "pygments_lexer": "ipython3",
   "version": "3.8.12"
  }
 },
 "nbformat": 4,
 "nbformat_minor": 2
}
