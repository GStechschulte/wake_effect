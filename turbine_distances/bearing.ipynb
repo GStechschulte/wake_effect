{
 "cells": [
  {
   "cell_type": "code",
   "execution_count": 9,
   "metadata": {},
   "outputs": [],
   "source": [
    "import numpy as np\n",
    "import pandas as pd\n",
    "import math"
   ]
  },
  {
   "cell_type": "code",
   "execution_count": 3,
   "metadata": {},
   "outputs": [],
   "source": [
    "coord = pd.read_csv('/Users/wastechs/Documents/git-repos/wake_effect/data/Pos_WTG_Brasil.csv')"
   ]
  },
  {
   "cell_type": "code",
   "execution_count": 4,
   "metadata": {},
   "outputs": [
    {
     "data": {
      "text/html": [
       "<div>\n",
       "<style scoped>\n",
       "    .dataframe tbody tr th:only-of-type {\n",
       "        vertical-align: middle;\n",
       "    }\n",
       "\n",
       "    .dataframe tbody tr th {\n",
       "        vertical-align: top;\n",
       "    }\n",
       "\n",
       "    .dataframe thead th {\n",
       "        text-align: right;\n",
       "    }\n",
       "</style>\n",
       "<table border=\"1\" class=\"dataframe\">\n",
       "  <thead>\n",
       "    <tr style=\"text-align: right;\">\n",
       "      <th></th>\n",
       "      <th>WTG</th>\n",
       "      <th>Alt.</th>\n",
       "      <th>Lat.</th>\n",
       "      <th>Long.</th>\n",
       "    </tr>\n",
       "  </thead>\n",
       "  <tbody>\n",
       "    <tr>\n",
       "      <th>0</th>\n",
       "      <td>TOR</td>\n",
       "      <td>41.5</td>\n",
       "      <td>-4.190</td>\n",
       "      <td>-38.080</td>\n",
       "    </tr>\n",
       "    <tr>\n",
       "      <th>1</th>\n",
       "      <td>W01</td>\n",
       "      <td>33.9</td>\n",
       "      <td>-4.185</td>\n",
       "      <td>-38.084</td>\n",
       "    </tr>\n",
       "    <tr>\n",
       "      <th>2</th>\n",
       "      <td>W02</td>\n",
       "      <td>32.5</td>\n",
       "      <td>-4.183</td>\n",
       "      <td>-38.086</td>\n",
       "    </tr>\n",
       "    <tr>\n",
       "      <th>3</th>\n",
       "      <td>W03</td>\n",
       "      <td>42.6</td>\n",
       "      <td>-4.183</td>\n",
       "      <td>-38.088</td>\n",
       "    </tr>\n",
       "    <tr>\n",
       "      <th>4</th>\n",
       "      <td>W04</td>\n",
       "      <td>42.1</td>\n",
       "      <td>-4.184</td>\n",
       "      <td>-38.087</td>\n",
       "    </tr>\n",
       "    <tr>\n",
       "      <th>5</th>\n",
       "      <td>W05</td>\n",
       "      <td>42.8</td>\n",
       "      <td>-4.184</td>\n",
       "      <td>-38.089</td>\n",
       "    </tr>\n",
       "    <tr>\n",
       "      <th>6</th>\n",
       "      <td>W06</td>\n",
       "      <td>50.0</td>\n",
       "      <td>-4.185</td>\n",
       "      <td>-38.087</td>\n",
       "    </tr>\n",
       "    <tr>\n",
       "      <th>7</th>\n",
       "      <td>W07</td>\n",
       "      <td>34.7</td>\n",
       "      <td>-4.186</td>\n",
       "      <td>-38.083</td>\n",
       "    </tr>\n",
       "    <tr>\n",
       "      <th>8</th>\n",
       "      <td>W08</td>\n",
       "      <td>36.4</td>\n",
       "      <td>-4.187</td>\n",
       "      <td>-38.088</td>\n",
       "    </tr>\n",
       "    <tr>\n",
       "      <th>9</th>\n",
       "      <td>W09</td>\n",
       "      <td>34.7</td>\n",
       "      <td>-4.187</td>\n",
       "      <td>-38.083</td>\n",
       "    </tr>\n",
       "    <tr>\n",
       "      <th>10</th>\n",
       "      <td>W10</td>\n",
       "      <td>31.6</td>\n",
       "      <td>-4.184</td>\n",
       "      <td>-38.085</td>\n",
       "    </tr>\n",
       "  </tbody>\n",
       "</table>\n",
       "</div>"
      ],
      "text/plain": [
       "    WTG  Alt.   Lat.   Long.\n",
       "0   TOR  41.5 -4.190 -38.080\n",
       "1   W01  33.9 -4.185 -38.084\n",
       "2   W02  32.5 -4.183 -38.086\n",
       "3   W03  42.6 -4.183 -38.088\n",
       "4   W04  42.1 -4.184 -38.087\n",
       "5   W05  42.8 -4.184 -38.089\n",
       "6   W06  50.0 -4.185 -38.087\n",
       "7   W07  34.7 -4.186 -38.083\n",
       "8   W08  36.4 -4.187 -38.088\n",
       "9   W09  34.7 -4.187 -38.083\n",
       "10  W10  31.6 -4.184 -38.085"
      ]
     },
     "execution_count": 4,
     "metadata": {},
     "output_type": "execute_result"
    }
   ],
   "source": [
    "coord.head(11)"
   ]
  },
  {
   "cell_type": "code",
   "execution_count": 5,
   "metadata": {},
   "outputs": [
    {
     "data": {
      "text/plain": [
       "(-1.5716599472426946, -90.04948180676003)"
      ]
     },
     "execution_count": 5,
     "metadata": {},
     "output_type": "execute_result"
    }
   ],
   "source": [
    "a = {'lat': -4.184, 'lon': -38.087}\n",
    "b = {'lat': -4.184, 'lon': -38.085}\n",
    "\n",
    "dL = b['lon'] - a['lon'] ## difference in long. between W10 - W04\n",
    "\n",
    "X = np.cos(b['lat']) * np.sin(dL)\n",
    "Y = np.cos(a['lat']) * np.sin(b['lat']) - np.sin(a['lat']) * np.cos(b['lat']) * np.cos(dL)\n",
    "\n",
    "bearing = np.arctan2(X, Y)\n",
    "\n",
    "bearing, np.degrees(bearing)\n",
    "\n",
    "# From turbine W04, if we move -90 degrees bearing direction, we will reach turbine W10"
   ]
  },
  {
   "cell_type": "code",
   "execution_count": 6,
   "metadata": {},
   "outputs": [
    {
     "data": {
      "text/plain": [
       "(1.5716599472426946, 90.04948180676003)"
      ]
     },
     "execution_count": 6,
     "metadata": {},
     "output_type": "execute_result"
    }
   ],
   "source": [
    "a = {'lat': -4.184, 'lon': -38.087}\n",
    "b = {'lat': -4.184, 'lon': -38.085}\n",
    "\n",
    "dL = a['lon'] - b['lon']\n",
    "\n",
    "X = np.cos(b['lat']) * np.sin(dL)\n",
    "Y = np.cos(a['lat']) * np.sin(b['lat']) - np.sin(a['lat']) * np.cos(b['lat']) * np.cos(dL)\n",
    "\n",
    "bearing = np.arctan2(X, Y)\n",
    "\n",
    "bearing, np.degrees(bearing)"
   ]
  },
  {
   "cell_type": "code",
   "execution_count": 7,
   "metadata": {},
   "outputs": [
    {
     "data": {
      "text/plain": [
       "(2.6809552087979753, 153.6074185277384)"
      ]
     },
     "execution_count": 7,
     "metadata": {},
     "output_type": "execute_result"
    }
   ],
   "source": [
    "a = {'lat': -4.192, 'lon': -38.079} # W15\n",
    "b = {'lat': -4.193, 'lon': -38.078} # W16\n",
    "\n",
    "dL = a['lon'] - b['lon']\n",
    "\n",
    "X = np.cos(b['lat']) * np.sin(dL)\n",
    "Y = np.cos(a['lat']) * np.sin(b['lat']) - np.sin(a['lat']) * np.cos(b['lat']) * np.cos(dL)\n",
    "\n",
    "bearing = np.arctan2(X, Y)\n",
    "\n",
    "bearing, np.degrees(bearing)\n"
   ]
  },
  {
   "cell_type": "code",
   "execution_count": 11,
   "metadata": {},
   "outputs": [],
   "source": [
    "def get_bearing(lat1, long1, lat2, long2):\n",
    "    dLon = (long2 - long1)\n",
    "    x = math.cos(math.radians(lat2)) * math.sin(math.radians(dLon))\n",
    "    y = math.cos(math.radians(lat1)) * math.sin(math.radians(lat2)) - math.sin(math.radians(lat1)) * math.cos(math.radians(lat2)) * math.cos(math.radians(dLon))\n",
    "    brng = np.arctan2(x,y)\n",
    "    brng = np.degrees(brng)\n",
    "\n",
    "    return brng"
   ]
  },
  {
   "cell_type": "code",
   "execution_count": 12,
   "metadata": {},
   "outputs": [
    {
     "data": {
      "text/plain": [
       "135.07679937538725"
      ]
     },
     "execution_count": 12,
     "metadata": {},
     "output_type": "execute_result"
    }
   ],
   "source": [
    "get_bearing(-4.192, -38.079, -4.193, -38.078) ## W15 --> W16"
   ]
  },
  {
   "cell_type": "code",
   "execution_count": 14,
   "metadata": {},
   "outputs": [
    {
     "data": {
      "text/plain": [
       "-135.07646978624615"
      ]
     },
     "execution_count": 14,
     "metadata": {},
     "output_type": "execute_result"
    }
   ],
   "source": [
    "get_bearing(-4.183, -38.086, -4.184, -38.087) ## W02 --> W04"
   ]
  }
 ],
 "metadata": {
  "interpreter": {
   "hash": "6ea8e6696542bf91b5850513673ceef1808937d627ee3e2c71e2007cafbd44d0"
  },
  "kernelspec": {
   "display_name": "Python 3.8.12 64-bit ('autodidact': conda)",
   "language": "python",
   "name": "python3"
  },
  "language_info": {
   "codemirror_mode": {
    "name": "ipython",
    "version": 3
   },
   "file_extension": ".py",
   "mimetype": "text/x-python",
   "name": "python",
   "nbconvert_exporter": "python",
   "pygments_lexer": "ipython3",
   "version": "3.8.12"
  },
  "orig_nbformat": 4
 },
 "nbformat": 4,
 "nbformat_minor": 2
}
