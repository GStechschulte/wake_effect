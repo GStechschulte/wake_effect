{
 "cells": [
  {
   "cell_type": "code",
   "execution_count": 1,
   "metadata": {},
   "outputs": [],
   "source": [
    "import numpy as np\n",
    "import pandas as pd\n",
    "from scipy.spatial import distance\n",
    "import seaborn as sns\n",
    "import matplotlib.pyplot as plt\n",
    "from sklearn.neighbors import DistanceMetric"
   ]
  },
  {
   "cell_type": "markdown",
   "metadata": {},
   "source": [
    "### Notes\n",
    "\n",
    "[Link](https://www.intechopen.com/chapters/40860)\n",
    "\n",
    "Opinions on near wake length have varied, but can be considered to fall in the range of 1 to 5 rotor diameters (1D to 5D) downstream from the rotor disc. \n",
    "\n",
    "The full extent of far wake length is currently still under study, but may range from up to 15D for onshore sites [8] and up to 14 km for offshore [9]. The 5D to 15D wake region has been defined as an intermediate wake region by some [10], with the far wake pertaining to distances farther than 15D.\n",
    "\n",
    "Where average rotor diameter in 2020 being 125 meters\n",
    " - 5D = 625 meters\n",
    " - 15D = 1875 meters"
   ]
  },
  {
   "cell_type": "code",
   "execution_count": 2,
   "metadata": {},
   "outputs": [],
   "source": [
    "coord = pd.read_csv('/Users/wastechs/Documents/git-repos/wake_effect/data/Pos_WTG_Brasil.csv')"
   ]
  },
  {
   "cell_type": "code",
   "execution_count": 3,
   "metadata": {},
   "outputs": [
    {
     "data": {
      "text/html": [
       "<div>\n",
       "<style scoped>\n",
       "    .dataframe tbody tr th:only-of-type {\n",
       "        vertical-align: middle;\n",
       "    }\n",
       "\n",
       "    .dataframe tbody tr th {\n",
       "        vertical-align: top;\n",
       "    }\n",
       "\n",
       "    .dataframe thead th {\n",
       "        text-align: right;\n",
       "    }\n",
       "</style>\n",
       "<table border=\"1\" class=\"dataframe\">\n",
       "  <thead>\n",
       "    <tr style=\"text-align: right;\">\n",
       "      <th></th>\n",
       "      <th>WTG</th>\n",
       "      <th>Alt.</th>\n",
       "      <th>Lat.</th>\n",
       "      <th>Long.</th>\n",
       "    </tr>\n",
       "  </thead>\n",
       "  <tbody>\n",
       "    <tr>\n",
       "      <th>0</th>\n",
       "      <td>TOR</td>\n",
       "      <td>41.5</td>\n",
       "      <td>-4.190</td>\n",
       "      <td>-38.080</td>\n",
       "    </tr>\n",
       "    <tr>\n",
       "      <th>1</th>\n",
       "      <td>W01</td>\n",
       "      <td>33.9</td>\n",
       "      <td>-4.185</td>\n",
       "      <td>-38.084</td>\n",
       "    </tr>\n",
       "    <tr>\n",
       "      <th>2</th>\n",
       "      <td>W02</td>\n",
       "      <td>32.5</td>\n",
       "      <td>-4.183</td>\n",
       "      <td>-38.086</td>\n",
       "    </tr>\n",
       "    <tr>\n",
       "      <th>3</th>\n",
       "      <td>W03</td>\n",
       "      <td>42.6</td>\n",
       "      <td>-4.183</td>\n",
       "      <td>-38.088</td>\n",
       "    </tr>\n",
       "    <tr>\n",
       "      <th>4</th>\n",
       "      <td>W04</td>\n",
       "      <td>42.1</td>\n",
       "      <td>-4.184</td>\n",
       "      <td>-38.087</td>\n",
       "    </tr>\n",
       "    <tr>\n",
       "      <th>5</th>\n",
       "      <td>W05</td>\n",
       "      <td>42.8</td>\n",
       "      <td>-4.184</td>\n",
       "      <td>-38.089</td>\n",
       "    </tr>\n",
       "    <tr>\n",
       "      <th>6</th>\n",
       "      <td>W06</td>\n",
       "      <td>50.0</td>\n",
       "      <td>-4.185</td>\n",
       "      <td>-38.087</td>\n",
       "    </tr>\n",
       "    <tr>\n",
       "      <th>7</th>\n",
       "      <td>W07</td>\n",
       "      <td>34.7</td>\n",
       "      <td>-4.186</td>\n",
       "      <td>-38.083</td>\n",
       "    </tr>\n",
       "    <tr>\n",
       "      <th>8</th>\n",
       "      <td>W08</td>\n",
       "      <td>36.4</td>\n",
       "      <td>-4.187</td>\n",
       "      <td>-38.088</td>\n",
       "    </tr>\n",
       "    <tr>\n",
       "      <th>9</th>\n",
       "      <td>W09</td>\n",
       "      <td>34.7</td>\n",
       "      <td>-4.187</td>\n",
       "      <td>-38.083</td>\n",
       "    </tr>\n",
       "    <tr>\n",
       "      <th>10</th>\n",
       "      <td>W10</td>\n",
       "      <td>31.6</td>\n",
       "      <td>-4.184</td>\n",
       "      <td>-38.085</td>\n",
       "    </tr>\n",
       "  </tbody>\n",
       "</table>\n",
       "</div>"
      ],
      "text/plain": [
       "    WTG  Alt.   Lat.   Long.\n",
       "0   TOR  41.5 -4.190 -38.080\n",
       "1   W01  33.9 -4.185 -38.084\n",
       "2   W02  32.5 -4.183 -38.086\n",
       "3   W03  42.6 -4.183 -38.088\n",
       "4   W04  42.1 -4.184 -38.087\n",
       "5   W05  42.8 -4.184 -38.089\n",
       "6   W06  50.0 -4.185 -38.087\n",
       "7   W07  34.7 -4.186 -38.083\n",
       "8   W08  36.4 -4.187 -38.088\n",
       "9   W09  34.7 -4.187 -38.083\n",
       "10  W10  31.6 -4.184 -38.085"
      ]
     },
     "execution_count": 3,
     "metadata": {},
     "output_type": "execute_result"
    }
   ],
   "source": [
    "coord.head(11)"
   ]
  },
  {
   "cell_type": "markdown",
   "metadata": {},
   "source": [
    "### Haversine"
   ]
  },
  {
   "cell_type": "code",
   "execution_count": 4,
   "metadata": {},
   "outputs": [],
   "source": [
    "# With longitude preprocessing\n",
    "\n",
    "haversine = DistanceMetric.get_metric('haversine')\n",
    "\n",
    "coord['lat_rad'] = np.radians(coord['Lat.'])\n",
    "coord['long_rad'] = np.radians(coord['Long.'])\n",
    "\n",
    "# Kilometers\n",
    "#haversine.pairwise(coord[['lat_rad', 'long_rad']].to_numpy())*6373\n",
    "# Meters\n",
    "#haversine.pairwise(coord[['lat_rad', 'long_rad']].to_numpy())*6373000\n",
    "\n",
    "# Calculate haversine distances (in meters)\n",
    "haversine_distances = haversine.pairwise(coord[['lat_rad', 'long_rad']].to_numpy())*6373000\n",
    "# Lower triangular matrix\n",
    "#haversine_triangular = np.tril(haversine_distances)\n",
    "# Convert to dataframe\n",
    "haversine_df = pd.DataFrame(\n",
    "    haversine_distances,\n",
    "    columns=coord['WTG'].unique(),\n",
    "    index=coord['WTG'].unique()\n",
    ")\n",
    "\n",
    "subset_proximity_haver = haversine_df[(haversine_df <= 1875) & (haversine_df > 625)]\n",
    "subset_proximity_haver.fillna(value=0, inplace=True)\n",
    "subset_proximity_haver[subset_proximity_haver > 0] = 1"
   ]
  },
  {
   "cell_type": "code",
   "execution_count": 19,
   "metadata": {},
   "outputs": [
    {
     "data": {
      "image/png": "[encoded data removed]",
      "text/plain": [
       "<Figure size 864x576 with 2 Axes>"
      ]
     },
     "metadata": {
      "needs_background": "light"
     },
     "output_type": "display_data"
    }
   ],
   "source": [
    "plt.figure(figsize=(12, 8))\n",
    "sns.heatmap(subset_proximity_haver)\n",
    "plt.title('Haversine Interaction Matrix')\n",
    "plt.show()"
   ]
  },
  {
   "cell_type": "code",
   "execution_count": 26,
   "metadata": {},
   "outputs": [],
   "source": [
    "subset_proximity_haver.to_csv('/Users/wastechs/Documents/git-repos/wake_effect/data/haversine_interaction_full.csv')"
   ]
  },
  {
   "cell_type": "code",
   "execution_count": 18,
   "metadata": {},
   "outputs": [
    {
     "data": {
      "image/png": "[encoded data removed]",
      "text/plain": [
       "<Figure size 864x576 with 2 Axes>"
      ]
     },
     "metadata": {
      "needs_background": "light"
     },
     "output_type": "display_data"
    }
   ],
   "source": [
    "haversine = DistanceMetric.get_metric('haversine')\n",
    "\n",
    "coord['lat_rad'] = np.radians(coord['Lat.'])\n",
    "coord['long_rad'] = np.radians(coord['Long.'])\n",
    "\n",
    "# Kilometers\n",
    "#haversine.pairwise(coord[['lat_rad', 'long_rad']].to_numpy())*6373\n",
    "# Meters\n",
    "#haversine.pairwise(coord[['lat_rad', 'long_rad']].to_numpy())*6373000\n",
    "\n",
    "# Calculate haversine distances (in meters)\n",
    "haversine_distances = haversine.pairwise(coord[['lat_rad', 'long_rad']].to_numpy())*6373000\n",
    "# Lower triangular matrix\n",
    "haversine_triangular = np.tril(haversine_distances)\n",
    "# Convert to dataframe\n",
    "haversine_df = pd.DataFrame(\n",
    "    haversine_triangular,\n",
    "    columns=coord['WTG'].unique(),\n",
    "    index=coord['WTG'].unique()\n",
    ")\n",
    "\n",
    "subset_proximity_haver = haversine_df[(haversine_df <= 1875) & (haversine_df > 625)]\n",
    "subset_proximity_haver.fillna(value=0, inplace=True)\n",
    "subset_proximity_haver[subset_proximity_haver > 0] = 1\n",
    "\n",
    "plt.figure(figsize=(12, 8))\n",
    "sns.heatmap(subset_proximity_haver)\n",
    "plt.title('Haversine Interaction Matrix')\n",
    "plt.show()"
   ]
  },
  {
   "cell_type": "code",
   "execution_count": 32,
   "metadata": {},
   "outputs": [],
   "source": [
    "subset_proximity_haver.to_csv('/Users/wastechs/Documents/git-repos/wake_effect/data/haversine_interaction.csv')"
   ]
  },
  {
   "cell_type": "markdown",
   "metadata": {},
   "source": [
    "### Euclidean"
   ]
  },
  {
   "cell_type": "code",
   "execution_count": 23,
   "metadata": {},
   "outputs": [
    {
     "data": {
      "image/png": "[encoded data removed]",
      "text/plain": [
       "<Figure size 864x576 with 2 Axes>"
      ]
     },
     "metadata": {
      "needs_background": "light"
     },
     "output_type": "display_data"
    }
   ],
   "source": [
    "lat = coord['Lat.'].values\n",
    "long = coord['Long.'].values\n",
    "\n",
    "coords = []\n",
    "\n",
    "for lat, long in zip(lat, long):\n",
    "    coords.append((lat, long))\n",
    "\n",
    "euclid_distances = pd.DataFrame(\n",
    "    distance.cdist(coords, coords, 'euclidean'), \n",
    "    columns=coord['WTG'],\n",
    "    index = coord['WTG'])\n",
    "\n",
    "subset_proximity = euclid_distances[(euclid_distances <= 0.0035) & (euclid_distances > 0.0)]\n",
    "subset_proximity.fillna(value=0, inplace=True)\n",
    "subset_proximity[subset_proximity > 0] = 1\n",
    "\n",
    "plt.figure(figsize=(12, 8))\n",
    "sns.heatmap(subset_proximity)\n",
    "plt.title('Euclidean Interaction Matrix')\n",
    "plt.show()"
   ]
  },
  {
   "cell_type": "code",
   "execution_count": 21,
   "metadata": {},
   "outputs": [
    {
     "data": {
      "image/png": "[encoded data removed]",
      "text/plain": [
       "<Figure size 864x576 with 2 Axes>"
      ]
     },
     "metadata": {
      "needs_background": "light"
     },
     "output_type": "display_data"
    }
   ],
   "source": [
    "lat = coord['Lat.'].values\n",
    "long = coord['Long.'].values\n",
    "\n",
    "coords = []\n",
    "\n",
    "for lat, long in zip(lat, long):\n",
    "    coords.append((lat, long))\n",
    "\n",
    "euclid_distances = pd.DataFrame(\n",
    "    distance.cdist(coords, coords, 'euclidean'), \n",
    "    columns=coord['WTG'],\n",
    "    index = coord['WTG'])\n",
    "\n",
    "subset_proximity = euclid_distances[(euclid_distances <= 0.004) & (euclid_distances > 0.0)]\n",
    "subset_proximity.fillna(value=0, inplace=True)\n",
    "subset_proximity[subset_proximity > 0] = 1\n",
    "\n",
    "plt.figure(figsize=(12, 8))\n",
    "sns.heatmap(subset_proximity)\n",
    "plt.title('Euclidean Interaction Matrix')\n",
    "plt.show()"
   ]
  },
  {
   "cell_type": "code",
   "execution_count": 31,
   "metadata": {},
   "outputs": [],
   "source": [
    "subset_proximity.to_csv('/Users/wastechs/Documents/git-repos/wake_effect/data/euclid_interaction_full.csv')"
   ]
  },
  {
   "cell_type": "code",
   "execution_count": 16,
   "metadata": {},
   "outputs": [
    {
     "data": {
      "image/png": "[encoded data removed]",
      "text/plain": [
       "<Figure size 864x576 with 2 Axes>"
      ]
     },
     "metadata": {
      "needs_background": "light"
     },
     "output_type": "display_data"
    }
   ],
   "source": [
    "lat = coord['Lat.'].values\n",
    "long = coord['Long.'].values\n",
    "\n",
    "coords = []\n",
    "\n",
    "for lat, long in zip(lat, long):\n",
    "    coords.append((lat, long))\n",
    "\n",
    "euclid_distances = distance.cdist(coords, coords, 'euclidean')\n",
    "\n",
    "euclid_triangular = np.tril(euclid_distances)\n",
    "\n",
    "euclid_df = pd.DataFrame(\n",
    "    euclid_triangular,\n",
    "    columns=coord['WTG'].unique(),\n",
    "    index = coord['WTG'].unique()\n",
    ")\n",
    "\n",
    "subset_proximity_euclid = euclid_df[(euclid_df <= 0.004) & (euclid_df > 0.0)]\n",
    "subset_proximity_euclid.fillna(value=0, inplace=True)\n",
    "subset_proximity_euclid[subset_proximity_euclid > 0] = 1\n",
    "\n",
    "plt.figure(figsize=(12, 8))\n",
    "sns.heatmap(subset_proximity_euclid)\n",
    "plt.title('Interaction Matrix')\n",
    "plt.show()"
   ]
  },
  {
   "cell_type": "code",
   "execution_count": 32,
   "metadata": {},
   "outputs": [],
   "source": [
    "subset_proximity_euclid.to_csv('/Users/wastechs/Documents/git-repos/wake_effect/data/euclid_interaction.csv')"
   ]
  },
  {
   "cell_type": "markdown",
   "metadata": {},
   "source": [
    "### Geographic Visualization of Turbines"
   ]
  },
  {
   "cell_type": "code",
   "execution_count": 33,
   "metadata": {},
   "outputs": [
    {
     "data": {
      "application/vnd.plotly.v1+json": {
       "config": {
        "plotlyServerURL": "https://plot.ly"
       },
       "data": [
        {
         "hovertemplate": "WTG=TOR<br>Lat.=%{lat}<br>Long.=%{lon}<extra></extra>",
         "lat": [
          -4.19
         ],
         "legendgroup": "TOR",
         "lon": [
          -38.08
         ],
         "marker": {
          "color": "#636efa"
         },
         "mode": "markers",
         "name": "TOR",
         "showlegend": true,
         "subplot": "mapbox",
         "type": "scattermapbox"
        },
        {
         "hovertemplate": "WTG=W01<br>Lat.=%{lat}<br>Long.=%{lon}<extra></extra>",
         "lat": [
          -4.185
         ],
         "legendgroup": "W01",
         "lon": [
          -38.084
         ],
         "marker": {
          "color": "#EF553B"
         },
         "mode": "markers",
         "name": "W01",
         "showlegend": true,
         "subplot": "mapbox",
         "type": "scattermapbox"
        },
        {
         "hovertemplate": "WTG=W02<br>Lat.=%{lat}<br>Long.=%{lon}<extra></extra>",
         "lat": [
          -4.183
         ],
         "legendgroup": "W02",
         "lon": [
          -38.086
         ],
         "marker": {
          "color": "#00cc96"
         },
         "mode": "markers",
         "name": "W02",
         "showlegend": true,
         "subplot": "mapbox",
         "type": "scattermapbox"
        },
        {
         "hovertemplate": "WTG=W03<br>Lat.=%{lat}<br>Long.=%{lon}<extra></extra>",
         "lat": [
          -4.183
         ],
         "legendgroup": "W03",
         "lon": [
          -38.088
         ],
         "marker": {
          "color": "#ab63fa"
         },
         "mode": "markers",
         "name": "W03",
         "showlegend": true,
         "subplot": "mapbox",
         "type": "scattermapbox"
        },
        {
         "hovertemplate": "WTG=W04<br>Lat.=%{lat}<br>Long.=%{lon}<extra></extra>",
         "lat": [
          -4.184
         ],
         "legendgroup": "W04",
         "lon": [
          -38.087
         ],
         "marker": {
          "color": "#FFA15A"
         },
         "mode": "markers",
         "name": "W04",
         "showlegend": true,
         "subplot": "mapbox",
         "type": "scattermapbox"
        },
        {
         "hovertemplate": "WTG=W05<br>Lat.=%{lat}<br>Long.=%{lon}<extra></extra>",
         "lat": [
          -4.184
         ],
         "legendgroup": "W05",
         "lon": [
          -38.089
         ],
         "marker": {
          "color": "#19d3f3"
         },
         "mode": "markers",
         "name": "W05",
         "showlegend": true,
         "subplot": "mapbox",
         "type": "scattermapbox"
        },
        {
         "hovertemplate": "WTG=W06<br>Lat.=%{lat}<br>Long.=%{lon}<extra></extra>",
         "lat": [
          -4.185
         ],
         "legendgroup": "W06",
         "lon": [
          -38.087
         ],
         "marker": {
          "color": "#FF6692"
         },
         "mode": "markers",
         "name": "W06",
         "showlegend": true,
         "subplot": "mapbox",
         "type": "scattermapbox"
        },
        {
         "hovertemplate": "WTG=W07<br>Lat.=%{lat}<br>Long.=%{lon}<extra></extra>",
         "lat": [
          -4.186
         ],
         "legendgroup": "W07",
         "lon": [
          -38.083
         ],
         "marker": {
          "color": "#B6E880"
         },
         "mode": "markers",
         "name": "W07",
         "showlegend": true,
         "subplot": "mapbox",
         "type": "scattermapbox"
        },
        {
         "hovertemplate": "WTG=W08<br>Lat.=%{lat}<br>Long.=%{lon}<extra></extra>",
         "lat": [
          -4.187
         ],
         "legendgroup": "W08",
         "lon": [
          -38.088
         ],
         "marker": {
          "color": "#FF97FF"
         },
         "mode": "markers",
         "name": "W08",
         "showlegend": true,
         "subplot": "mapbox",
         "type": "scattermapbox"
        },
        {
         "hovertemplate": "WTG=W09<br>Lat.=%{lat}<br>Long.=%{lon}<extra></extra>",
         "lat": [
          -4.187
         ],
         "legendgroup": "W09",
         "lon": [
          -38.083
         ],
         "marker": {
          "color": "#FECB52"
         },
         "mode": "markers",
         "name": "W09",
         "showlegend": true,
         "subplot": "mapbox",
         "type": "scattermapbox"
        },
        {
         "hovertemplate": "WTG=W10<br>Lat.=%{lat}<br>Long.=%{lon}<extra></extra>",
         "lat": [
          -4.184
         ],
         "legendgroup": "W10",
         "lon": [
          -38.085
         ],
         "marker": {
          "color": "#636efa"
         },
         "mode": "markers",
         "name": "W10",
         "showlegend": true,
         "subplot": "mapbox",
         "type": "scattermapbox"
        },
        {
         "hovertemplate": "WTG=W11<br>Lat.=%{lat}<br>Long.=%{lon}<extra></extra>",
         "lat": [
          -4.189
         ],
         "legendgroup": "W11",
         "lon": [
          -38.083
         ],
         "marker": {
          "color": "#EF553B"
         },
         "mode": "markers",
         "name": "W11",
         "showlegend": true,
         "subplot": "mapbox",
         "type": "scattermapbox"
        },
        {
         "hovertemplate": "WTG=W12<br>Lat.=%{lat}<br>Long.=%{lon}<extra></extra>",
         "lat": [
          -4.19
         ],
         "legendgroup": "W12",
         "lon": [
          -38.082
         ],
         "marker": {
          "color": "#00cc96"
         },
         "mode": "markers",
         "name": "W12",
         "showlegend": true,
         "subplot": "mapbox",
         "type": "scattermapbox"
        },
        {
         "hovertemplate": "WTG=W13<br>Lat.=%{lat}<br>Long.=%{lon}<extra></extra>",
         "lat": [
          -4.191
         ],
         "legendgroup": "W13",
         "lon": [
          -38.081
         ],
         "marker": {
          "color": "#ab63fa"
         },
         "mode": "markers",
         "name": "W13",
         "showlegend": true,
         "subplot": "mapbox",
         "type": "scattermapbox"
        },
        {
         "hovertemplate": "WTG=W14<br>Lat.=%{lat}<br>Long.=%{lon}<extra></extra>",
         "lat": [
          -4.191
         ],
         "legendgroup": "W14",
         "lon": [
          -38.08
         ],
         "marker": {
          "color": "#FFA15A"
         },
         "mode": "markers",
         "name": "W14",
         "showlegend": true,
         "subplot": "mapbox",
         "type": "scattermapbox"
        },
        {
         "hovertemplate": "WTG=W15<br>Lat.=%{lat}<br>Long.=%{lon}<extra></extra>",
         "lat": [
          -4.192
         ],
         "legendgroup": "W15",
         "lon": [
          -38.079
         ],
         "marker": {
          "color": "#19d3f3"
         },
         "mode": "markers",
         "name": "W15",
         "showlegend": true,
         "subplot": "mapbox",
         "type": "scattermapbox"
        },
        {
         "hovertemplate": "WTG=W16<br>Lat.=%{lat}<br>Long.=%{lon}<extra></extra>",
         "lat": [
          -4.193
         ],
         "legendgroup": "W16",
         "lon": [
          -38.078
         ],
         "marker": {
          "color": "#FF6692"
         },
         "mode": "markers",
         "name": "W16",
         "showlegend": true,
         "subplot": "mapbox",
         "type": "scattermapbox"
        },
        {
         "hovertemplate": "WTG=W17<br>Lat.=%{lat}<br>Long.=%{lon}<extra></extra>",
         "lat": [
          -4.194
         ],
         "legendgroup": "W17",
         "lon": [
          -38.077
         ],
         "marker": {
          "color": "#B6E880"
         },
         "mode": "markers",
         "name": "W17",
         "showlegend": true,
         "subplot": "mapbox",
         "type": "scattermapbox"
        },
        {
         "hovertemplate": "WTG=W18<br>Lat.=%{lat}<br>Long.=%{lon}<extra></extra>",
         "lat": [
          -4.195
         ],
         "legendgroup": "W18",
         "lon": [
          -38.076
         ],
         "marker": {
          "color": "#FF97FF"
         },
         "mode": "markers",
         "name": "W18",
         "showlegend": true,
         "subplot": "mapbox",
         "type": "scattermapbox"
        },
        {
         "hovertemplate": "WTG=W19<br>Lat.=%{lat}<br>Long.=%{lon}<extra></extra>",
         "lat": [
          -4.196
         ],
         "legendgroup": "W19",
         "lon": [
          -38.076
         ],
         "marker": {
          "color": "#FECB52"
         },
         "mode": "markers",
         "name": "W19",
         "showlegend": true,
         "subplot": "mapbox",
         "type": "scattermapbox"
        },
        {
         "hovertemplate": "WTG=W20<br>Lat.=%{lat}<br>Long.=%{lon}<extra></extra>",
         "lat": [
          -4.197
         ],
         "legendgroup": "W20",
         "lon": [
          -38.075
         ],
         "marker": {
          "color": "#636efa"
         },
         "mode": "markers",
         "name": "W20",
         "showlegend": true,
         "subplot": "mapbox",
         "type": "scattermapbox"
        },
        {
         "hovertemplate": "WTG=W21<br>Lat.=%{lat}<br>Long.=%{lon}<extra></extra>",
         "lat": [
          -4.198
         ],
         "legendgroup": "W21",
         "lon": [
          -38.074
         ],
         "marker": {
          "color": "#EF553B"
         },
         "mode": "markers",
         "name": "W21",
         "showlegend": true,
         "subplot": "mapbox",
         "type": "scattermapbox"
        },
        {
         "hovertemplate": "WTG=W22<br>Lat.=%{lat}<br>Long.=%{lon}<extra></extra>",
         "lat": [
          -4.199
         ],
         "legendgroup": "W22",
         "lon": [
          -38.072
         ],
         "marker": {
          "color": "#00cc96"
         },
         "mode": "markers",
         "name": "W22",
         "showlegend": true,
         "subplot": "mapbox",
         "type": "scattermapbox"
        },
        {
         "hovertemplate": "WTG=W23<br>Lat.=%{lat}<br>Long.=%{lon}<extra></extra>",
         "lat": [
          -4.2
         ],
         "legendgroup": "W23",
         "lon": [
          -38.073
         ],
         "marker": {
          "color": "#ab63fa"
         },
         "mode": "markers",
         "name": "W23",
         "showlegend": true,
         "subplot": "mapbox",
         "type": "scattermapbox"
        },
        {
         "hovertemplate": "WTG=W24<br>Lat.=%{lat}<br>Long.=%{lon}<extra></extra>",
         "lat": [
          -4.201
         ],
         "legendgroup": "W24",
         "lon": [
          -38.073
         ],
         "marker": {
          "color": "#FFA15A"
         },
         "mode": "markers",
         "name": "W24",
         "showlegend": true,
         "subplot": "mapbox",
         "type": "scattermapbox"
        },
        {
         "hovertemplate": "WTG=W25<br>Lat.=%{lat}<br>Long.=%{lon}<extra></extra>",
         "lat": [
          -4.21
         ],
         "legendgroup": "W25",
         "lon": [
          -38.067
         ],
         "marker": {
          "color": "#19d3f3"
         },
         "mode": "markers",
         "name": "W25",
         "showlegend": true,
         "subplot": "mapbox",
         "type": "scattermapbox"
        },
        {
         "hovertemplate": "WTG=W26<br>Lat.=%{lat}<br>Long.=%{lon}<extra></extra>",
         "lat": [
          -4.203
         ],
         "legendgroup": "W26",
         "lon": [
          -38.073
         ],
         "marker": {
          "color": "#FF6692"
         },
         "mode": "markers",
         "name": "W26",
         "showlegend": true,
         "subplot": "mapbox",
         "type": "scattermapbox"
        },
        {
         "hovertemplate": "WTG=W27<br>Lat.=%{lat}<br>Long.=%{lon}<extra></extra>",
         "lat": [
          -4.204
         ],
         "legendgroup": "W27",
         "lon": [
          -38.07
         ],
         "marker": {
          "color": "#B6E880"
         },
         "mode": "markers",
         "name": "W27",
         "showlegend": true,
         "subplot": "mapbox",
         "type": "scattermapbox"
        },
        {
         "hovertemplate": "WTG=W28<br>Lat.=%{lat}<br>Long.=%{lon}<extra></extra>",
         "lat": [
          -4.205
         ],
         "legendgroup": "W28",
         "lon": [
          -38.07
         ],
         "marker": {
          "color": "#FF97FF"
         },
         "mode": "markers",
         "name": "W28",
         "showlegend": true,
         "subplot": "mapbox",
         "type": "scattermapbox"
        },
        {
         "hovertemplate": "WTG=W29<br>Lat.=%{lat}<br>Long.=%{lon}<extra></extra>",
         "lat": [
          -4.206
         ],
         "legendgroup": "W29",
         "lon": [
          -38.07
         ],
         "marker": {
          "color": "#FECB52"
         },
         "mode": "markers",
         "name": "W29",
         "showlegend": true,
         "subplot": "mapbox",
         "type": "scattermapbox"
        },
        {
         "hovertemplate": "WTG=W30<br>Lat.=%{lat}<br>Long.=%{lon}<extra></extra>",
         "lat": [
          -4.207
         ],
         "legendgroup": "W30",
         "lon": [
          -38.069
         ],
         "marker": {
          "color": "#636efa"
         },
         "mode": "markers",
         "name": "W30",
         "showlegend": true,
         "subplot": "mapbox",
         "type": "scattermapbox"
        },
        {
         "hovertemplate": "WTG=W31<br>Lat.=%{lat}<br>Long.=%{lon}<extra></extra>",
         "lat": [
          -4.208
         ],
         "legendgroup": "W31",
         "lon": [
          -38.069
         ],
         "marker": {
          "color": "#EF553B"
         },
         "mode": "markers",
         "name": "W31",
         "showlegend": true,
         "subplot": "mapbox",
         "type": "scattermapbox"
        },
        {
         "hovertemplate": "WTG=W32<br>Lat.=%{lat}<br>Long.=%{lon}<extra></extra>",
         "lat": [
          -4.209
         ],
         "legendgroup": "W32",
         "lon": [
          -38.068
         ],
         "marker": {
          "color": "#00cc96"
         },
         "mode": "markers",
         "name": "W32",
         "showlegend": true,
         "subplot": "mapbox",
         "type": "scattermapbox"
        }
       ],
       "layout": {
        "legend": {
         "title": {
          "text": "WTG"
         },
         "tracegroupgap": 0
        },
        "mapbox": {
         "accesstoken": "pk.eyJ1IjoiZ3N0ZWNoc2NodWx0ZSIsImEiOiJja3g0d21vZDAyZnkwMndsYTM0ZjY0cHYwIn0.zEAHc1MIWOrqUbfPe1pB8g",
         "center": {
          "lat": -4.194424242424242,
          "lon": -38.078030303030296
         },
         "domain": {
          "x": [
           0,
           1
          ],
          "y": [
           0,
           1
          ]
         },
         "zoom": 12
        },
        "margin": {
         "t": 60
        },
        "template": {
         "data": {
          "bar": [
           {
            "error_x": {
             "color": "#2a3f5f"
            },
            "error_y": {
             "color": "#2a3f5f"
            },
            "marker": {
             "line": {
              "color": "#E5ECF6",
              "width": 0.5
             },
             "pattern": {
              "fillmode": "overlay",
              "size": 10,
              "solidity": 0.2
             }
            },
            "type": "bar"
           }
          ],
          "barpolar": [
           {
            "marker": {
             "line": {
              "color": "#E5ECF6",
              "width": 0.5
             },
             "pattern": {
              "fillmode": "overlay",
              "size": 10,
              "solidity": 0.2
             }
            },
            "type": "barpolar"
           }
          ],
          "carpet": [
           {
            "aaxis": {
             "endlinecolor": "#2a3f5f",
             "gridcolor": "white",
             "linecolor": "white",
             "minorgridcolor": "white",
             "startlinecolor": "#2a3f5f"
            },
            "baxis": {
             "endlinecolor": "#2a3f5f",
             "gridcolor": "white",
             "linecolor": "white",
             "minorgridcolor": "white",
             "startlinecolor": "#2a3f5f"
            },
            "type": "carpet"
           }
          ],
          "choropleth": [
           {
            "colorbar": {
             "outlinewidth": 0,
             "ticks": ""
            },
            "type": "choropleth"
           }
          ],
          "contour": [
           {
            "colorbar": {
             "outlinewidth": 0,
             "ticks": ""
            },
            "colorscale": [
             [
              0,
              "#0d0887"
             ],
             [
              0.1111111111111111,
              "#46039f"
             ],
             [
              0.2222222222222222,
              "#7201a8"
             ],
             [
              0.3333333333333333,
              "#9c179e"
             ],
             [
              0.4444444444444444,
              "#bd3786"
             ],
             [
              0.5555555555555556,
              "#d8576b"
             ],
             [
              0.6666666666666666,
              "#ed7953"
             ],
             [
              0.7777777777777778,
              "#fb9f3a"
             ],
             [
              0.8888888888888888,
              "#fdca26"
             ],
             [
              1,
              "#f0f921"
             ]
            ],
            "type": "contour"
           }
          ],
          "contourcarpet": [
           {
            "colorbar": {
             "outlinewidth": 0,
             "ticks": ""
            },
            "type": "contourcarpet"
           }
          ],
          "heatmap": [
           {
            "colorbar": {
             "outlinewidth": 0,
             "ticks": ""
            },
            "colorscale": [
             [
              0,
              "#0d0887"
             ],
             [
              0.1111111111111111,
              "#46039f"
             ],
             [
              0.2222222222222222,
              "#7201a8"
             ],
             [
              0.3333333333333333,
              "#9c179e"
             ],
             [
              0.4444444444444444,
              "#bd3786"
             ],
             [
              0.5555555555555556,
              "#d8576b"
             ],
             [
              0.6666666666666666,
              "#ed7953"
             ],
             [
              0.7777777777777778,
              "#fb9f3a"
             ],
             [
              0.8888888888888888,
              "#fdca26"
             ],
             [
              1,
              "#f0f921"
             ]
            ],
            "type": "heatmap"
           }
          ],
          "heatmapgl": [
           {
            "colorbar": {
             "outlinewidth": 0,
             "ticks": ""
            },
            "colorscale": [
             [
              0,
              "#0d0887"
             ],
             [
              0.1111111111111111,
              "#46039f"
             ],
             [
              0.2222222222222222,
              "#7201a8"
             ],
             [
              0.3333333333333333,
              "#9c179e"
             ],
             [
              0.4444444444444444,
              "#bd3786"
             ],
             [
              0.5555555555555556,
              "#d8576b"
             ],
             [
              0.6666666666666666,
              "#ed7953"
             ],
             [
              0.7777777777777778,
              "#fb9f3a"
             ],
             [
              0.8888888888888888,
              "#fdca26"
             ],
             [
              1,
              "#f0f921"
             ]
            ],
            "type": "heatmapgl"
           }
          ],
          "histogram": [
           {
            "marker": {
             "pattern": {
              "fillmode": "overlay",
              "size": 10,
              "solidity": 0.2
             }
            },
            "type": "histogram"
           }
          ],
          "histogram2d": [
           {
            "colorbar": {
             "outlinewidth": 0,
             "ticks": ""
            },
            "colorscale": [
             [
              0,
              "#0d0887"
             ],
             [
              0.1111111111111111,
              "#46039f"
             ],
             [
              0.2222222222222222,
              "#7201a8"
             ],
             [
              0.3333333333333333,
              "#9c179e"
             ],
             [
              0.4444444444444444,
              "#bd3786"
             ],
             [
              0.5555555555555556,
              "#d8576b"
             ],
             [
              0.6666666666666666,
              "#ed7953"
             ],
             [
              0.7777777777777778,
              "#fb9f3a"
             ],
             [
              0.8888888888888888,
              "#fdca26"
             ],
             [
              1,
              "#f0f921"
             ]
            ],
            "type": "histogram2d"
           }
          ],
          "histogram2dcontour": [
           {
            "colorbar": {
             "outlinewidth": 0,
             "ticks": ""
            },
            "colorscale": [
             [
              0,
              "#0d0887"
             ],
             [
              0.1111111111111111,
              "#46039f"
             ],
             [
              0.2222222222222222,
              "#7201a8"
             ],
             [
              0.3333333333333333,
              "#9c179e"
             ],
             [
              0.4444444444444444,
              "#bd3786"
             ],
             [
              0.5555555555555556,
              "#d8576b"
             ],
             [
              0.6666666666666666,
              "#ed7953"
             ],
             [
              0.7777777777777778,
              "#fb9f3a"
             ],
             [
              0.8888888888888888,
              "#fdca26"
             ],
             [
              1,
              "#f0f921"
             ]
            ],
            "type": "histogram2dcontour"
           }
          ],
          "mesh3d": [
           {
            "colorbar": {
             "outlinewidth": 0,
             "ticks": ""
            },
            "type": "mesh3d"
           }
          ],
          "parcoords": [
           {
            "line": {
             "colorbar": {
              "outlinewidth": 0,
              "ticks": ""
             }
            },
            "type": "parcoords"
           }
          ],
          "pie": [
           {
            "automargin": true,
            "type": "pie"
           }
          ],
          "scatter": [
           {
            "marker": {
             "colorbar": {
              "outlinewidth": 0,
              "ticks": ""
             }
            },
            "type": "scatter"
           }
          ],
          "scatter3d": [
           {
            "line": {
             "colorbar": {
              "outlinewidth": 0,
              "ticks": ""
             }
            },
            "marker": {
             "colorbar": {
              "outlinewidth": 0,
              "ticks": ""
             }
            },
            "type": "scatter3d"
           }
          ],
          "scattercarpet": [
           {
            "marker": {
             "colorbar": {
              "outlinewidth": 0,
              "ticks": ""
             }
            },
            "type": "scattercarpet"
           }
          ],
          "scattergeo": [
           {
            "marker": {
             "colorbar": {
              "outlinewidth": 0,
              "ticks": ""
             }
            },
            "type": "scattergeo"
           }
          ],
          "scattergl": [
           {
            "marker": {
             "colorbar": {
              "outlinewidth": 0,
              "ticks": ""
             }
            },
            "type": "scattergl"
           }
          ],
          "scattermapbox": [
           {
            "marker": {
             "colorbar": {
              "outlinewidth": 0,
              "ticks": ""
             }
            },
            "type": "scattermapbox"
           }
          ],
          "scatterpolar": [
           {
            "marker": {
             "colorbar": {
              "outlinewidth": 0,
              "ticks": ""
             }
            },
            "type": "scatterpolar"
           }
          ],
          "scatterpolargl": [
           {
            "marker": {
             "colorbar": {
              "outlinewidth": 0,
              "ticks": ""
             }
            },
            "type": "scatterpolargl"
           }
          ],
          "scatterternary": [
           {
            "marker": {
             "colorbar": {
              "outlinewidth": 0,
              "ticks": ""
             }
            },
            "type": "scatterternary"
           }
          ],
          "surface": [
           {
            "colorbar": {
             "outlinewidth": 0,
             "ticks": ""
            },
            "colorscale": [
             [
              0,
              "#0d0887"
             ],
             [
              0.1111111111111111,
              "#46039f"
             ],
             [
              0.2222222222222222,
              "#7201a8"
             ],
             [
              0.3333333333333333,
              "#9c179e"
             ],
             [
              0.4444444444444444,
              "#bd3786"
             ],
             [
              0.5555555555555556,
              "#d8576b"
             ],
             [
              0.6666666666666666,
              "#ed7953"
             ],
             [
              0.7777777777777778,
              "#fb9f3a"
             ],
             [
              0.8888888888888888,
              "#fdca26"
             ],
             [
              1,
              "#f0f921"
             ]
            ],
            "type": "surface"
           }
          ],
          "table": [
           {
            "cells": {
             "fill": {
              "color": "#EBF0F8"
             },
             "line": {
              "color": "white"
             }
            },
            "header": {
             "fill": {
              "color": "#C8D4E3"
             },
             "line": {
              "color": "white"
             }
            },
            "type": "table"
           }
          ]
         },
         "layout": {
          "annotationdefaults": {
           "arrowcolor": "#2a3f5f",
           "arrowhead": 0,
           "arrowwidth": 1
          },
          "autotypenumbers": "strict",
          "coloraxis": {
           "colorbar": {
            "outlinewidth": 0,
            "ticks": ""
           }
          },
          "colorscale": {
           "diverging": [
            [
             0,
             "#8e0152"
            ],
            [
             0.1,
             "#c51b7d"
            ],
            [
             0.2,
             "#de77ae"
            ],
            [
             0.3,
             "#f1b6da"
            ],
            [
             0.4,
             "#fde0ef"
            ],
            [
             0.5,
             "#f7f7f7"
            ],
            [
             0.6,
             "#e6f5d0"
            ],
            [
             0.7,
             "#b8e186"
            ],
            [
             0.8,
             "#7fbc41"
            ],
            [
             0.9,
             "#4d9221"
            ],
            [
             1,
             "#276419"
            ]
           ],
           "sequential": [
            [
             0,
             "#0d0887"
            ],
            [
             0.1111111111111111,
             "#46039f"
            ],
            [
             0.2222222222222222,
             "#7201a8"
            ],
            [
             0.3333333333333333,
             "#9c179e"
            ],
            [
             0.4444444444444444,
             "#bd3786"
            ],
            [
             0.5555555555555556,
             "#d8576b"
            ],
            [
             0.6666666666666666,
             "#ed7953"
            ],
            [
             0.7777777777777778,
             "#fb9f3a"
            ],
            [
             0.8888888888888888,
             "#fdca26"
            ],
            [
             1,
             "#f0f921"
            ]
           ],
           "sequentialminus": [
            [
             0,
             "#0d0887"
            ],
            [
             0.1111111111111111,
             "#46039f"
            ],
            [
             0.2222222222222222,
             "#7201a8"
            ],
            [
             0.3333333333333333,
             "#9c179e"
            ],
            [
             0.4444444444444444,
             "#bd3786"
            ],
            [
             0.5555555555555556,
             "#d8576b"
            ],
            [
             0.6666666666666666,
             "#ed7953"
            ],
            [
             0.7777777777777778,
             "#fb9f3a"
            ],
            [
             0.8888888888888888,
             "#fdca26"
            ],
            [
             1,
             "#f0f921"
            ]
           ]
          },
          "colorway": [
           "#636efa",
           "#EF553B",
           "#00cc96",
           "#ab63fa",
           "#FFA15A",
           "#19d3f3",
           "#FF6692",
           "#B6E880",
           "#FF97FF",
           "#FECB52"
          ],
          "font": {
           "color": "#2a3f5f"
          },
          "geo": {
           "bgcolor": "white",
           "lakecolor": "white",
           "landcolor": "#E5ECF6",
           "showlakes": true,
           "showland": true,
           "subunitcolor": "white"
          },
          "hoverlabel": {
           "align": "left"
          },
          "hovermode": "closest",
          "mapbox": {
           "style": "light"
          },
          "paper_bgcolor": "white",
          "plot_bgcolor": "#E5ECF6",
          "polar": {
           "angularaxis": {
            "gridcolor": "white",
            "linecolor": "white",
            "ticks": ""
           },
           "bgcolor": "#E5ECF6",
           "radialaxis": {
            "gridcolor": "white",
            "linecolor": "white",
            "ticks": ""
           }
          },
          "scene": {
           "xaxis": {
            "backgroundcolor": "#E5ECF6",
            "gridcolor": "white",
            "gridwidth": 2,
            "linecolor": "white",
            "showbackground": true,
            "ticks": "",
            "zerolinecolor": "white"
           },
           "yaxis": {
            "backgroundcolor": "#E5ECF6",
            "gridcolor": "white",
            "gridwidth": 2,
            "linecolor": "white",
            "showbackground": true,
            "ticks": "",
            "zerolinecolor": "white"
           },
           "zaxis": {
            "backgroundcolor": "#E5ECF6",
            "gridcolor": "white",
            "gridwidth": 2,
            "linecolor": "white",
            "showbackground": true,
            "ticks": "",
            "zerolinecolor": "white"
           }
          },
          "shapedefaults": {
           "line": {
            "color": "#2a3f5f"
           }
          },
          "ternary": {
           "aaxis": {
            "gridcolor": "white",
            "linecolor": "white",
            "ticks": ""
           },
           "baxis": {
            "gridcolor": "white",
            "linecolor": "white",
            "ticks": ""
           },
           "bgcolor": "#E5ECF6",
           "caxis": {
            "gridcolor": "white",
            "linecolor": "white",
            "ticks": ""
           }
          },
          "title": {
           "x": 0.05
          },
          "xaxis": {
           "automargin": true,
           "gridcolor": "white",
           "linecolor": "white",
           "ticks": "",
           "title": {
            "standoff": 15
           },
           "zerolinecolor": "white",
           "zerolinewidth": 2
          },
          "yaxis": {
           "automargin": true,
           "gridcolor": "white",
           "linecolor": "white",
           "ticks": "",
           "title": {
            "standoff": 15
           },
           "zerolinecolor": "white",
           "zerolinewidth": 2
          }
         }
        }
       }
      }
     },
     "metadata": {},
     "output_type": "display_data"
    }
   ],
   "source": [
    "px.set_mapbox_access_token('pk.eyJ1IjoiZ3N0ZWNoc2NodWx0ZSIsImEiOiJja3g0d21vZDAyZnkwMndsYTM0ZjY0cHYwIn0.zEAHc1MIWOrqUbfPe1pB8g')\n",
    "\n",
    "fig = px.scatter_mapbox(coord, lat=\"Lat.\", lon=\"Long.\",color=\"WTG\",\n",
    "                  color_continuous_scale=px.colors.cyclical.IceFire, size_max=20,zoom=12)\n",
    "fig.show()"
   ]
  }
 ],
 "metadata": {
  "interpreter": {
   "hash": "6ea8e6696542bf91b5850513673ceef1808937d627ee3e2c71e2007cafbd44d0"
  },
  "kernelspec": {
   "display_name": "Python 3",
   "language": "python",
   "name": "python3"
  },
  "language_info": {
   "codemirror_mode": {
    "name": "ipython",
    "version": 3
   },
   "file_extension": ".py",
   "mimetype": "text/x-python",
   "name": "python",
   "nbconvert_exporter": "python",
   "pygments_lexer": "ipython3",
   "version": "3.8.12"
  }
 },
 "nbformat": 4,
 "nbformat_minor": 2
}
